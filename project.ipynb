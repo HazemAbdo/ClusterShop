{
  "cells": [
    {
      "cell_type": "markdown",
      "metadata": {
        "id": "4_d8-_EwrkL-"
      },
      "source": [
        "# Importing"
      ]
    },
    {
      "cell_type": "code",
      "execution_count": 1,
      "metadata": {
        "colab": {
          "base_uri": "https://localhost:8080/"
        },
        "id": "mEDCzF2Qvn_P",
        "outputId": "56897b32-9d80-47d0-f673-ad20f1f6de09"
      },
      "outputs": [
        {
          "name": "stdout",
          "output_type": "stream",
          "text": [
            "Looking in indexes: https://pypi.org/simple, https://us-python.pkg.dev/colab-wheels/public/simple/\n",
            "Requirement already satisfied: pyspark in /usr/local/lib/python3.10/dist-packages (3.4.0)\n",
            "Requirement already satisfied: py4j==0.10.9.7 in /usr/local/lib/python3.10/dist-packages (from pyspark) (0.10.9.7)\n",
            "Looking in indexes: https://pypi.org/simple, https://us-python.pkg.dev/colab-wheels/public/simple/\n",
            "Requirement already satisfied: pandas in /usr/local/lib/python3.10/dist-packages (1.5.3)\n",
            "Requirement already satisfied: scikit-learn in /usr/local/lib/python3.10/dist-packages (1.2.2)\n",
            "Requirement already satisfied: nltk in /usr/local/lib/python3.10/dist-packages (3.8.1)\n",
            "Requirement already satisfied: pygal in /usr/local/lib/python3.10/dist-packages (3.0.0)\n",
            "Requirement already satisfied: pandas-profiling[notebook] in /usr/local/lib/python3.10/dist-packages (3.6.6)\n",
            "Requirement already satisfied: python-dateutil>=2.8.1 in /usr/local/lib/python3.10/dist-packages (from pandas) (2.8.2)\n",
            "Requirement already satisfied: pytz>=2020.1 in /usr/local/lib/python3.10/dist-packages (from pandas) (2022.7.1)\n",
            "Requirement already satisfied: numpy>=1.21.0 in /usr/local/lib/python3.10/dist-packages (from pandas) (1.22.4)\n",
            "Requirement already satisfied: scipy>=1.3.2 in /usr/local/lib/python3.10/dist-packages (from scikit-learn) (1.9.3)\n",
            "Requirement already satisfied: joblib>=1.1.1 in /usr/local/lib/python3.10/dist-packages (from scikit-learn) (1.2.0)\n",
            "Requirement already satisfied: threadpoolctl>=2.0.0 in /usr/local/lib/python3.10/dist-packages (from scikit-learn) (3.1.0)\n",
            "Requirement already satisfied: click in /usr/local/lib/python3.10/dist-packages (from nltk) (8.1.3)\n",
            "Requirement already satisfied: regex>=2021.8.3 in /usr/local/lib/python3.10/dist-packages (from nltk) (2022.10.31)\n",
            "Requirement already satisfied: tqdm in /usr/local/lib/python3.10/dist-packages (from nltk) (4.64.1)\n",
            "Requirement already satisfied: ydata-profiling in /usr/local/lib/python3.10/dist-packages (from pandas-profiling[notebook]) (4.1.2)\n",
            "Requirement already satisfied: jupyter-client>=5.3.4 in /usr/local/lib/python3.10/dist-packages (from pandas-profiling[notebook]) (6.1.12)\n",
            "Requirement already satisfied: jupyter-core>=4.6.3 in /usr/local/lib/python3.10/dist-packages (from pandas-profiling[notebook]) (5.3.0)\n",
            "Requirement already satisfied: ipywidgets>=7.5.1 in /usr/local/lib/python3.10/dist-packages (from pandas-profiling[notebook]) (7.7.1)\n",
            "Requirement already satisfied: ipykernel>=4.5.1 in /usr/local/lib/python3.10/dist-packages (from ipywidgets>=7.5.1->pandas-profiling[notebook]) (5.5.6)\n",
            "Requirement already satisfied: ipython-genutils~=0.2.0 in /usr/local/lib/python3.10/dist-packages (from ipywidgets>=7.5.1->pandas-profiling[notebook]) (0.2.0)\n",
            "Requirement already satisfied: traitlets>=4.3.1 in /usr/local/lib/python3.10/dist-packages (from ipywidgets>=7.5.1->pandas-profiling[notebook]) (5.7.1)\n",
            "Requirement already satisfied: widgetsnbextension~=3.6.0 in /usr/local/lib/python3.10/dist-packages (from ipywidgets>=7.5.1->pandas-profiling[notebook]) (3.6.4)\n",
            "Requirement already satisfied: ipython>=4.0.0 in /usr/local/lib/python3.10/dist-packages (from ipywidgets>=7.5.1->pandas-profiling[notebook]) (7.34.0)\n",
            "Requirement already satisfied: jupyterlab-widgets>=1.0.0 in /usr/local/lib/python3.10/dist-packages (from ipywidgets>=7.5.1->pandas-profiling[notebook]) (3.0.7)\n",
            "Requirement already satisfied: pyzmq>=13 in /usr/local/lib/python3.10/dist-packages (from jupyter-client>=5.3.4->pandas-profiling[notebook]) (23.2.1)\n",
            "Requirement already satisfied: tornado>=4.1 in /usr/local/lib/python3.10/dist-packages (from jupyter-client>=5.3.4->pandas-profiling[notebook]) (6.3.1)\n",
            "Requirement already satisfied: platformdirs>=2.5 in /usr/local/lib/python3.10/dist-packages (from jupyter-core>=4.6.3->pandas-profiling[notebook]) (3.3.0)\n",
            "Requirement already satisfied: six>=1.5 in /usr/local/lib/python3.10/dist-packages (from python-dateutil>=2.8.1->pandas) (1.16.0)\n",
            "Requirement already satisfied: matplotlib<3.7,>=3.2 in /usr/local/lib/python3.10/dist-packages (from ydata-profiling->pandas-profiling[notebook]) (3.6.3)\n",
            "Requirement already satisfied: pydantic<1.11,>=1.8.1 in /usr/local/lib/python3.10/dist-packages (from ydata-profiling->pandas-profiling[notebook]) (1.10.7)\n",
            "Requirement already satisfied: PyYAML<6.1,>=5.0.0 in /usr/local/lib/python3.10/dist-packages (from ydata-profiling->pandas-profiling[notebook]) (6.0)\n",
            "Requirement already satisfied: jinja2<3.2,>=2.11.1 in /usr/local/lib/python3.10/dist-packages (from ydata-profiling->pandas-profiling[notebook]) (3.1.2)\n",
            "Requirement already satisfied: visions[type_image_path]==0.7.5 in /usr/local/lib/python3.10/dist-packages (from ydata-profiling->pandas-profiling[notebook]) (0.7.5)\n",
            "Requirement already satisfied: htmlmin==0.1.12 in /usr/local/lib/python3.10/dist-packages (from ydata-profiling->pandas-profiling[notebook]) (0.1.12)\n",
            "Requirement already satisfied: phik<0.13,>=0.11.1 in /usr/local/lib/python3.10/dist-packages (from ydata-profiling->pandas-profiling[notebook]) (0.12.3)\n",
            "Requirement already satisfied: requests<2.29,>=2.24.0 in /usr/local/lib/python3.10/dist-packages (from ydata-profiling->pandas-profiling[notebook]) (2.27.1)\n",
            "Requirement already satisfied: seaborn<0.13,>=0.10.1 in /usr/local/lib/python3.10/dist-packages (from ydata-profiling->pandas-profiling[notebook]) (0.12.2)\n",
            "Requirement already satisfied: multimethod<1.10,>=1.4 in /usr/local/lib/python3.10/dist-packages (from ydata-profiling->pandas-profiling[notebook]) (1.9.1)\n",
            "Requirement already satisfied: statsmodels<0.14,>=0.13.2 in /usr/local/lib/python3.10/dist-packages (from ydata-profiling->pandas-profiling[notebook]) (0.13.5)\n",
            "Requirement already satisfied: typeguard<2.14,>=2.13.2 in /usr/local/lib/python3.10/dist-packages (from ydata-profiling->pandas-profiling[notebook]) (2.13.3)\n",
            "Requirement already satisfied: imagehash==4.3.1 in /usr/local/lib/python3.10/dist-packages (from ydata-profiling->pandas-profiling[notebook]) (4.3.1)\n",
            "Requirement already satisfied: PyWavelets in /usr/local/lib/python3.10/dist-packages (from imagehash==4.3.1->ydata-profiling->pandas-profiling[notebook]) (1.4.1)\n",
            "Requirement already satisfied: pillow in /usr/local/lib/python3.10/dist-packages (from imagehash==4.3.1->ydata-profiling->pandas-profiling[notebook]) (8.4.0)\n",
            "Requirement already satisfied: attrs>=19.3.0 in /usr/local/lib/python3.10/dist-packages (from visions[type_image_path]==0.7.5->ydata-profiling->pandas-profiling[notebook]) (23.1.0)\n",
            "Requirement already satisfied: networkx>=2.4 in /usr/local/lib/python3.10/dist-packages (from visions[type_image_path]==0.7.5->ydata-profiling->pandas-profiling[notebook]) (3.1)\n",
            "Requirement already satisfied: tangled-up-in-unicode>=0.0.4 in /usr/local/lib/python3.10/dist-packages (from visions[type_image_path]==0.7.5->ydata-profiling->pandas-profiling[notebook]) (0.2.0)\n",
            "Requirement already satisfied: setuptools>=18.5 in /usr/local/lib/python3.10/dist-packages (from ipython>=4.0.0->ipywidgets>=7.5.1->pandas-profiling[notebook]) (67.7.2)\n",
            "Requirement already satisfied: jedi>=0.16 in /usr/local/lib/python3.10/dist-packages (from ipython>=4.0.0->ipywidgets>=7.5.1->pandas-profiling[notebook]) (0.18.2)\n",
            "Requirement already satisfied: decorator in /usr/local/lib/python3.10/dist-packages (from ipython>=4.0.0->ipywidgets>=7.5.1->pandas-profiling[notebook]) (4.4.2)\n",
            "Requirement already satisfied: pickleshare in /usr/local/lib/python3.10/dist-packages (from ipython>=4.0.0->ipywidgets>=7.5.1->pandas-profiling[notebook]) (0.7.5)\n",
            "Requirement already satisfied: prompt-toolkit!=3.0.0,!=3.0.1,<3.1.0,>=2.0.0 in /usr/local/lib/python3.10/dist-packages (from ipython>=4.0.0->ipywidgets>=7.5.1->pandas-profiling[notebook]) (3.0.38)\n",
            "Requirement already satisfied: pygments in /usr/local/lib/python3.10/dist-packages (from ipython>=4.0.0->ipywidgets>=7.5.1->pandas-profiling[notebook]) (2.14.0)\n",
            "Requirement already satisfied: backcall in /usr/local/lib/python3.10/dist-packages (from ipython>=4.0.0->ipywidgets>=7.5.1->pandas-profiling[notebook]) (0.2.0)\n",
            "Requirement already satisfied: matplotlib-inline in /usr/local/lib/python3.10/dist-packages (from ipython>=4.0.0->ipywidgets>=7.5.1->pandas-profiling[notebook]) (0.1.6)\n",
            "Requirement already satisfied: pexpect>4.3 in /usr/local/lib/python3.10/dist-packages (from ipython>=4.0.0->ipywidgets>=7.5.1->pandas-profiling[notebook]) (4.8.0)\n",
            "Requirement already satisfied: MarkupSafe>=2.0 in /usr/local/lib/python3.10/dist-packages (from jinja2<3.2,>=2.11.1->ydata-profiling->pandas-profiling[notebook]) (2.1.2)\n",
            "Requirement already satisfied: contourpy>=1.0.1 in /usr/local/lib/python3.10/dist-packages (from matplotlib<3.7,>=3.2->ydata-profiling->pandas-profiling[notebook]) (1.0.7)\n",
            "Requirement already satisfied: cycler>=0.10 in /usr/local/lib/python3.10/dist-packages (from matplotlib<3.7,>=3.2->ydata-profiling->pandas-profiling[notebook]) (0.11.0)\n",
            "Requirement already satisfied: fonttools>=4.22.0 in /usr/local/lib/python3.10/dist-packages (from matplotlib<3.7,>=3.2->ydata-profiling->pandas-profiling[notebook]) (4.39.3)\n",
            "Requirement already satisfied: kiwisolver>=1.0.1 in /usr/local/lib/python3.10/dist-packages (from matplotlib<3.7,>=3.2->ydata-profiling->pandas-profiling[notebook]) (1.4.4)\n",
            "Requirement already satisfied: packaging>=20.0 in /usr/local/lib/python3.10/dist-packages (from matplotlib<3.7,>=3.2->ydata-profiling->pandas-profiling[notebook]) (23.1)\n",
            "Requirement already satisfied: pyparsing>=2.2.1 in /usr/local/lib/python3.10/dist-packages (from matplotlib<3.7,>=3.2->ydata-profiling->pandas-profiling[notebook]) (3.0.9)\n",
            "Requirement already satisfied: typing-extensions>=4.2.0 in /usr/local/lib/python3.10/dist-packages (from pydantic<1.11,>=1.8.1->ydata-profiling->pandas-profiling[notebook]) (4.5.0)\n",
            "Requirement already satisfied: urllib3<1.27,>=1.21.1 in /usr/local/lib/python3.10/dist-packages (from requests<2.29,>=2.24.0->ydata-profiling->pandas-profiling[notebook]) (1.26.15)\n",
            "Requirement already satisfied: certifi>=2017.4.17 in /usr/local/lib/python3.10/dist-packages (from requests<2.29,>=2.24.0->ydata-profiling->pandas-profiling[notebook]) (2022.12.7)\n",
            "Requirement already satisfied: charset-normalizer~=2.0.0 in /usr/local/lib/python3.10/dist-packages (from requests<2.29,>=2.24.0->ydata-profiling->pandas-profiling[notebook]) (2.0.12)\n",
            "Requirement already satisfied: idna<4,>=2.5 in /usr/local/lib/python3.10/dist-packages (from requests<2.29,>=2.24.0->ydata-profiling->pandas-profiling[notebook]) (3.4)\n",
            "Requirement already satisfied: patsy>=0.5.2 in /usr/local/lib/python3.10/dist-packages (from statsmodels<0.14,>=0.13.2->ydata-profiling->pandas-profiling[notebook]) (0.5.3)\n",
            "Requirement already satisfied: notebook>=4.4.1 in /usr/local/lib/python3.10/dist-packages (from widgetsnbextension~=3.6.0->ipywidgets>=7.5.1->pandas-profiling[notebook]) (6.4.8)\n",
            "Requirement already satisfied: parso<0.9.0,>=0.8.0 in /usr/local/lib/python3.10/dist-packages (from jedi>=0.16->ipython>=4.0.0->ipywidgets>=7.5.1->pandas-profiling[notebook]) (0.8.3)\n",
            "Requirement already satisfied: argon2-cffi in /usr/local/lib/python3.10/dist-packages (from notebook>=4.4.1->widgetsnbextension~=3.6.0->ipywidgets>=7.5.1->pandas-profiling[notebook]) (21.3.0)\n",
            "Requirement already satisfied: nbformat in /usr/local/lib/python3.10/dist-packages (from notebook>=4.4.1->widgetsnbextension~=3.6.0->ipywidgets>=7.5.1->pandas-profiling[notebook]) (5.8.0)\n",
            "Requirement already satisfied: nbconvert in /usr/local/lib/python3.10/dist-packages (from notebook>=4.4.1->widgetsnbextension~=3.6.0->ipywidgets>=7.5.1->pandas-profiling[notebook]) (6.5.4)\n",
            "Requirement already satisfied: nest-asyncio>=1.5 in /usr/local/lib/python3.10/dist-packages (from notebook>=4.4.1->widgetsnbextension~=3.6.0->ipywidgets>=7.5.1->pandas-profiling[notebook]) (1.5.6)\n",
            "Requirement already satisfied: Send2Trash>=1.8.0 in /usr/local/lib/python3.10/dist-packages (from notebook>=4.4.1->widgetsnbextension~=3.6.0->ipywidgets>=7.5.1->pandas-profiling[notebook]) (1.8.0)\n",
            "Requirement already satisfied: terminado>=0.8.3 in /usr/local/lib/python3.10/dist-packages (from notebook>=4.4.1->widgetsnbextension~=3.6.0->ipywidgets>=7.5.1->pandas-profiling[notebook]) (0.17.1)\n",
            "Requirement already satisfied: prometheus-client in /usr/local/lib/python3.10/dist-packages (from notebook>=4.4.1->widgetsnbextension~=3.6.0->ipywidgets>=7.5.1->pandas-profiling[notebook]) (0.16.0)\n",
            "Requirement already satisfied: ptyprocess>=0.5 in /usr/local/lib/python3.10/dist-packages (from pexpect>4.3->ipython>=4.0.0->ipywidgets>=7.5.1->pandas-profiling[notebook]) (0.7.0)\n",
            "Requirement already satisfied: wcwidth in /usr/local/lib/python3.10/dist-packages (from prompt-toolkit!=3.0.0,!=3.0.1,<3.1.0,>=2.0.0->ipython>=4.0.0->ipywidgets>=7.5.1->pandas-profiling[notebook]) (0.2.6)\n",
            "Requirement already satisfied: argon2-cffi-bindings in /usr/local/lib/python3.10/dist-packages (from argon2-cffi->notebook>=4.4.1->widgetsnbextension~=3.6.0->ipywidgets>=7.5.1->pandas-profiling[notebook]) (21.2.0)\n",
            "Requirement already satisfied: lxml in /usr/local/lib/python3.10/dist-packages (from nbconvert->notebook>=4.4.1->widgetsnbextension~=3.6.0->ipywidgets>=7.5.1->pandas-profiling[notebook]) (4.9.2)\n",
            "Requirement already satisfied: beautifulsoup4 in /usr/local/lib/python3.10/dist-packages (from nbconvert->notebook>=4.4.1->widgetsnbextension~=3.6.0->ipywidgets>=7.5.1->pandas-profiling[notebook]) (4.11.2)\n",
            "Requirement already satisfied: bleach in /usr/local/lib/python3.10/dist-packages (from nbconvert->notebook>=4.4.1->widgetsnbextension~=3.6.0->ipywidgets>=7.5.1->pandas-profiling[notebook]) (6.0.0)\n",
            "Requirement already satisfied: defusedxml in /usr/local/lib/python3.10/dist-packages (from nbconvert->notebook>=4.4.1->widgetsnbextension~=3.6.0->ipywidgets>=7.5.1->pandas-profiling[notebook]) (0.7.1)\n",
            "Requirement already satisfied: entrypoints>=0.2.2 in /usr/local/lib/python3.10/dist-packages (from nbconvert->notebook>=4.4.1->widgetsnbextension~=3.6.0->ipywidgets>=7.5.1->pandas-profiling[notebook]) (0.4)\n",
            "Requirement already satisfied: jupyterlab-pygments in /usr/local/lib/python3.10/dist-packages (from nbconvert->notebook>=4.4.1->widgetsnbextension~=3.6.0->ipywidgets>=7.5.1->pandas-profiling[notebook]) (0.2.2)\n",
            "Requirement already satisfied: mistune<2,>=0.8.1 in /usr/local/lib/python3.10/dist-packages (from nbconvert->notebook>=4.4.1->widgetsnbextension~=3.6.0->ipywidgets>=7.5.1->pandas-profiling[notebook]) (0.8.4)\n",
            "Requirement already satisfied: nbclient>=0.5.0 in /usr/local/lib/python3.10/dist-packages (from nbconvert->notebook>=4.4.1->widgetsnbextension~=3.6.0->ipywidgets>=7.5.1->pandas-profiling[notebook]) (0.7.4)\n",
            "Requirement already satisfied: pandocfilters>=1.4.1 in /usr/local/lib/python3.10/dist-packages (from nbconvert->notebook>=4.4.1->widgetsnbextension~=3.6.0->ipywidgets>=7.5.1->pandas-profiling[notebook]) (1.5.0)\n",
            "Requirement already satisfied: tinycss2 in /usr/local/lib/python3.10/dist-packages (from nbconvert->notebook>=4.4.1->widgetsnbextension~=3.6.0->ipywidgets>=7.5.1->pandas-profiling[notebook]) (1.2.1)\n",
            "Requirement already satisfied: fastjsonschema in /usr/local/lib/python3.10/dist-packages (from nbformat->notebook>=4.4.1->widgetsnbextension~=3.6.0->ipywidgets>=7.5.1->pandas-profiling[notebook]) (2.16.3)\n",
            "Requirement already satisfied: jsonschema>=2.6 in /usr/local/lib/python3.10/dist-packages (from nbformat->notebook>=4.4.1->widgetsnbextension~=3.6.0->ipywidgets>=7.5.1->pandas-profiling[notebook]) (4.3.3)\n",
            "Requirement already satisfied: pyrsistent!=0.17.0,!=0.17.1,!=0.17.2,>=0.14.0 in /usr/local/lib/python3.10/dist-packages (from jsonschema>=2.6->nbformat->notebook>=4.4.1->widgetsnbextension~=3.6.0->ipywidgets>=7.5.1->pandas-profiling[notebook]) (0.19.3)\n",
            "Requirement already satisfied: cffi>=1.0.1 in /usr/local/lib/python3.10/dist-packages (from argon2-cffi-bindings->argon2-cffi->notebook>=4.4.1->widgetsnbextension~=3.6.0->ipywidgets>=7.5.1->pandas-profiling[notebook]) (1.15.1)\n",
            "Requirement already satisfied: soupsieve>1.2 in /usr/local/lib/python3.10/dist-packages (from beautifulsoup4->nbconvert->notebook>=4.4.1->widgetsnbextension~=3.6.0->ipywidgets>=7.5.1->pandas-profiling[notebook]) (2.4.1)\n",
            "Requirement already satisfied: webencodings in /usr/local/lib/python3.10/dist-packages (from bleach->nbconvert->notebook>=4.4.1->widgetsnbextension~=3.6.0->ipywidgets>=7.5.1->pandas-profiling[notebook]) (0.5.1)\n",
            "Requirement already satisfied: pycparser in /usr/local/lib/python3.10/dist-packages (from cffi>=1.0.1->argon2-cffi-bindings->argon2-cffi->notebook>=4.4.1->widgetsnbextension~=3.6.0->ipywidgets>=7.5.1->pandas-profiling[notebook]) (2.21)\n"
          ]
        }
      ],
      "source": [
        "# Required Libraries installation\n",
        "!pip install pyspark\n",
        "!pip install pandas scikit-learn nltk pygal pandas-profiling[notebook]"
      ]
    },
    {
      "cell_type": "code",
      "execution_count": 99,
      "metadata": {
        "colab": {
          "base_uri": "https://localhost:8080/"
        },
        "id": "vxFZ00Ttx7uC",
        "outputId": "25aadb78-11b8-4a76-a3f1-5afe0d74c20c"
      },
      "outputs": [
        {
          "name": "stderr",
          "output_type": "stream",
          "text": [
            "[nltk_data] Downloading package punkt to /root/nltk_data...\n",
            "[nltk_data]   Package punkt is already up-to-date!\n",
            "[nltk_data] Downloading package averaged_perceptron_tagger to\n",
            "[nltk_data]     /root/nltk_data...\n",
            "[nltk_data]   Package averaged_perceptron_tagger is already up-to-\n",
            "[nltk_data]       date!\n"
          ]
        }
      ],
      "source": [
        "# Importing Libraries\n",
        "from google.colab import drive\n",
        "import pandas as pd\n",
        "import math\n",
        "import numpy as np\n",
        "import matplotlib.pyplot as plt\n",
        "from functools import reduce\n",
        "from builtins import min,max\n",
        "#--------------------------------------------------------------\n",
        "from pyspark.sql import SparkSession\n",
        "from pyspark.sql.functions import col, count, isnan, when,round,month,datediff, to_date\n",
        "from pyspark.sql.window import Window\n",
        "from pyspark.sql.functions import udf\n",
        "from pyspark.sql.types import ArrayType, StringType, StructType, StructField\n",
        "from pyspark.sql.types import IntegerType\n",
        "from pyspark.sql.functions import split\n",
        "from pyspark.sql.functions import regexp_replace, col\n",
        "from pyspark.sql.functions import collect_set, size, explode\n",
        "from pyspark.sql.functions import udf\n",
        "from pyspark.sql.functions import min as min_builtin\n",
        "from pyspark.sql.functions import max as max_builtin\n",
        "from pyspark.sql.functions import countDistinct, mean\n",
        "from pyspark.sql.functions import quarter\n",
        "from pyspark.ml.feature import StandardScaler\n",
        "from pyspark.ml.linalg import Vectors\n",
        "from pyspark.ml.clustering import KMeans\n",
        "from pyspark.ml.feature import VectorAssembler\n",
        "from pyspark.ml.evaluation import ClusteringEvaluator\n",
        "from pyspark.ml.fpm import FPGrowth\n",
        "from pyspark.ml.clustering import BisectingKMeans\n",
        "#--------------------------------------------------------------\n",
        "import nltk\n",
        "nltk.download('punkt')\n",
        "nltk.download('averaged_perceptron_tagger')\n",
        "#--------------------------------------------------------------\n",
        "import pygal\n",
        "import plotly.graph_objs as go\n",
        "from plotly.offline import init_notebook_mode,iplot\n",
        "import plotly.express as px\n",
        "from operator import add"
      ]
    },
    {
      "cell_type": "code",
      "execution_count": 3,
      "metadata": {
        "colab": {
          "base_uri": "https://localhost:8080/"
        },
        "id": "ryyJeFsax9QB",
        "outputId": "830f854b-57cf-418a-eb63-d32404d948ed"
      },
      "outputs": [
        {
          "name": "stdout",
          "output_type": "stream",
          "text": [
            "Drive already mounted at /content/drive; to attempt to forcibly remount, call drive.mount(\"/content/drive\", force_remount=True).\n"
          ]
        }
      ],
      "source": [
        "from google.colab import drive\n",
        "drive.mount('/content/drive')"
      ]
    },
    {
      "cell_type": "markdown",
      "metadata": {
        "id": "Oezr2_u9o5mt"
      },
      "source": [
        "# Helper function"
      ]
    },
    {
      "cell_type": "code",
      "execution_count": 4,
      "metadata": {
        "id": "iDiJnhRNyC2D"
      },
      "outputs": [],
      "source": [
        "# helper functions\n",
        "def show_df(df, n=5):\n",
        "  return df.show(n)\n",
        "\n",
        "def df_stats(df):\n",
        "  return df.describe().show()\n",
        "\n",
        "\n",
        "\n",
        "def percent_missing(df):\n",
        "  cols = [col for col in df.columns if col != 'InvoiceDate']\n",
        "  # count missing values in each column as a percentage of the total number of values and total number of values in each column\n",
        "  df.select([count(when(~isnan(c), c)).alias(c) for c in cols]).show()\n",
        "  df.select([count(when(isnan(c), c)).alias(c) for c in cols]).show()\n",
        "\n",
        "\n",
        "def values_distribution(df,col,bins=100,xlim=10000,xlabel='TotalCost',ylabel='Frequency',title='Distribution of basket prices'):\n",
        "  df_pd = df.toPandas()\n",
        "  fig, ax = plt.subplots()\n",
        "  ax.hist(df_pd[col], bins=bins)\n",
        "  ax.set_xlabel(xlabel)\n",
        "  ax.set_ylabel(ylabel)\n",
        "  ax.set_title(title)\n",
        "  plt.rc('xtick', labelsize=10)\n",
        "  plt.rc('ytick', labelsize=10)\n",
        "  ax = plt.gca()\n",
        "  ax.set_xlim([0,xlim])\n",
        "  plt.show()"
      ]
    },
    {
      "cell_type": "markdown",
      "metadata": {
        "id": "atKRv5S8rrY5"
      },
      "source": [
        "# Reading DataSet"
      ]
    },
    {
      "cell_type": "code",
      "execution_count": 5,
      "metadata": {
        "id": "wLHI8I_ix_Rn"
      },
      "outputs": [],
      "source": [
        "# Create a SparkSession\n",
        "spark = SparkSession.builder.master(\"local[4]\").appName(\"ClusterShop\").getOrCreate()\n",
        "\n",
        "# set log level to Error\n",
        "spark.sparkContext.setLogLevel(\"ERROR\")\n"
      ]
    },
    {
      "cell_type": "code",
      "execution_count": 6,
      "metadata": {
        "id": "YB4DNb1KyAz9"
      },
      "outputs": [],
      "source": [
        "# Read the Excel file using Pandas\n",
        "df_pandas = pd.read_excel(\"drive/MyDrive/Online Retail.xlsx\",na_values='')\n",
        "\n",
        "# Convert the Pandas DataFrame to PySpark DataFrame \n",
        "df_spark = spark.createDataFrame(df_pandas)"
      ]
    },
    {
      "cell_type": "markdown",
      "metadata": {
        "id": "VkZSv1KupKSd"
      },
      "source": [
        "# Data cleaning"
      ]
    },
    {
      "cell_type": "code",
      "execution_count": 7,
      "metadata": {
        "colab": {
          "base_uri": "https://localhost:8080/"
        },
        "id": "zA13MQIfyDvb",
        "outputId": "073c7f14-0554-404c-f533-9f0ea50d5377"
      },
      "outputs": [
        {
          "name": "stdout",
          "output_type": "stream",
          "text": [
            "+---------+---------+-----------+--------+---------+----------+-------+\n",
            "|InvoiceNo|StockCode|Description|Quantity|UnitPrice|CustomerID|Country|\n",
            "+---------+---------+-----------+--------+---------+----------+-------+\n",
            "|   541909|   541909|     540455|  541909|   541909|    406829| 541909|\n",
            "+---------+---------+-----------+--------+---------+----------+-------+\n",
            "\n",
            "+---------+---------+-----------+--------+---------+----------+-------+\n",
            "|InvoiceNo|StockCode|Description|Quantity|UnitPrice|CustomerID|Country|\n",
            "+---------+---------+-----------+--------+---------+----------+-------+\n",
            "|        0|        0|       1454|       0|        0|    135080|      0|\n",
            "+---------+---------+-----------+--------+---------+----------+-------+\n",
            "\n"
          ]
        }
      ],
      "source": [
        "percent_missing(df_spark)"
      ]
    },
    {
      "cell_type": "code",
      "execution_count": 8,
      "metadata": {
        "id": "kUFYfMeOyhrl"
      },
      "outputs": [],
      "source": [
        "# filter out the missing values using map \n",
        "df_spark_filtered = df_spark.rdd.map(lambda x: x if not math.isnan(x['CustomerID'])  else None).filter(lambda x: x is not None).toDF()"
      ]
    },
    {
      "cell_type": "code",
      "execution_count": 9,
      "metadata": {
        "colab": {
          "base_uri": "https://localhost:8080/"
        },
        "id": "2lKFn7WU7IqN",
        "outputId": "dec613e1-fcae-4229-eec6-a09bf0c063c5"
      },
      "outputs": [
        {
          "name": "stdout",
          "output_type": "stream",
          "text": [
            "Number of duplicates: 5225\n"
          ]
        }
      ],
      "source": [
        "number_befoe_removing_duplicates = df_spark_filtered.count()\n",
        "#I want to remove duplicates while perserving the original order of the rows\n",
        "df_spark_filtered = df_spark_filtered.dropDuplicates()\n",
        "df_spark_filtered= df_spark_filtered.orderBy('InvoiceNo', 'InvoiceDate')\n",
        "number_after_removing_duplicates = df_spark_filtered.count()\n",
        "print(f\"Number of duplicates: {number_befoe_removing_duplicates - number_after_removing_duplicates}\")"
      ]
    },
    {
      "cell_type": "code",
      "execution_count": 10,
      "metadata": {
        "id": "B9Qq60Ww5w9Q"
      },
      "outputs": [],
      "source": [
        "original_cols = df_spark.columns"
      ]
    },
    {
      "cell_type": "markdown",
      "metadata": {
        "id": "KQLEqib_rvqX"
      },
      "source": [
        "# EDA"
      ]
    },
    {
      "cell_type": "markdown",
      "metadata": {
        "id": "0arMDcwhpFyC"
      },
      "source": [
        "## overall analysis"
      ]
    },
    {
      "cell_type": "code",
      "execution_count": 11,
      "metadata": {
        "colab": {
          "base_uri": "https://localhost:8080/",
          "height": 222
        },
        "id": "csPTW-ln63n9",
        "outputId": "c72833d1-0390-4cce-ef51-f3f46b96e375"
      },
      "outputs": [
        {
          "data": {
            "text/html": [
              "\n",
              "            <div>\n",
              "                <p><b>SparkSession - in-memory</b></p>\n",
              "                \n",
              "        <div>\n",
              "            <p><b>SparkContext</b></p>\n",
              "\n",
              "            <p><a href=\"http://c4adaf7f66e5:4040\">Spark UI</a></p>\n",
              "\n",
              "            <dl>\n",
              "              <dt>Version</dt>\n",
              "                <dd><code>v3.4.0</code></dd>\n",
              "              <dt>Master</dt>\n",
              "                <dd><code>local[4]</code></dd>\n",
              "              <dt>AppName</dt>\n",
              "                <dd><code>ClusterShop</code></dd>\n",
              "            </dl>\n",
              "        </div>\n",
              "        \n",
              "            </div>\n",
              "        "
            ],
            "text/plain": [
              "<pyspark.sql.session.SparkSession at 0x7f502d234190>"
            ]
          },
          "execution_count": 11,
          "metadata": {},
          "output_type": "execute_result"
        }
      ],
      "source": [
        "spark"
      ]
    },
    {
      "cell_type": "code",
      "execution_count": 12,
      "metadata": {
        "colab": {
          "base_uri": "https://localhost:8080/"
        },
        "id": "sQNmX7bN66ZM",
        "outputId": "94910d9d-7a3c-4227-af8e-55154f06537a"
      },
      "outputs": [
        {
          "name": "stdout",
          "output_type": "stream",
          "text": [
            "root\n",
            " |-- InvoiceNo: string (nullable = true)\n",
            " |-- StockCode: string (nullable = true)\n",
            " |-- Description: string (nullable = true)\n",
            " |-- Quantity: long (nullable = true)\n",
            " |-- InvoiceDate: timestamp (nullable = true)\n",
            " |-- UnitPrice: double (nullable = true)\n",
            " |-- CustomerID: double (nullable = true)\n",
            " |-- Country: string (nullable = true)\n",
            "\n"
          ]
        }
      ],
      "source": [
        "df_spark.printSchema()"
      ]
    },
    {
      "cell_type": "code",
      "execution_count": 13,
      "metadata": {
        "colab": {
          "base_uri": "https://localhost:8080/"
        },
        "id": "0yL5I5lT6-oM",
        "outputId": "2513bafd-6873-49fb-aee4-8a355fbba03d"
      },
      "outputs": [
        {
          "name": "stdout",
          "output_type": "stream",
          "text": [
            "+---------+---------+--------------------+--------+-------------------+---------+----------+--------------+\n",
            "|InvoiceNo|StockCode|         Description|Quantity|        InvoiceDate|UnitPrice|CustomerID|       Country|\n",
            "+---------+---------+--------------------+--------+-------------------+---------+----------+--------------+\n",
            "|   536365|   85123A|WHITE HANGING HEA...|       6|2010-12-01 08:26:00|     2.55|   17850.0|United Kingdom|\n",
            "|   536365|    71053| WHITE METAL LANTERN|       6|2010-12-01 08:26:00|     3.39|   17850.0|United Kingdom|\n",
            "|   536365|   84406B|CREAM CUPID HEART...|       8|2010-12-01 08:26:00|     2.75|   17850.0|United Kingdom|\n",
            "|   536365|   84029G|KNITTED UNION FLA...|       6|2010-12-01 08:26:00|     3.39|   17850.0|United Kingdom|\n",
            "|   536365|   84029E|RED WOOLLY HOTTIE...|       6|2010-12-01 08:26:00|     3.39|   17850.0|United Kingdom|\n",
            "+---------+---------+--------------------+--------+-------------------+---------+----------+--------------+\n",
            "only showing top 5 rows\n",
            "\n"
          ]
        }
      ],
      "source": [
        "df_spark.show(5)"
      ]
    },
    {
      "cell_type": "markdown",
      "metadata": {
        "id": "iMn5d1267Spm"
      },
      "source": [
        "## InvoiceNo\n",
        "* uniquely assigned to each transaction. If this code starts with letter 'c', it indicates a cancellation.\n",
        "* 6-digit integral number"
      ]
    },
    {
      "cell_type": "markdown",
      "metadata": {
        "id": "4OrttpW6p5s1"
      },
      "source": [
        "### percentage of cancelled"
      ]
    },
    {
      "cell_type": "code",
      "execution_count": 14,
      "metadata": {
        "colab": {
          "base_uri": "https://localhost:8080/"
        },
        "id": "I_lzeQbQyjXJ",
        "outputId": "9763f2cc-1cf2-422e-890c-72fc3c973737"
      },
      "outputs": [
        {
          "name": "stdout",
          "output_type": "stream",
          "text": [
            "Percentage of cancelled invoices:  16.466876971608833\n"
          ]
        }
      ],
      "source": [
        "unique_invoice = df_spark_filtered.select('InvoiceNo').distinct().count()\n",
        "cancelled_invoice_count = df_spark_filtered.select('InvoiceNo').rdd.map(lambda x: x if x.InvoiceNo.startswith('C') else None).filter(lambda x: x is not None).toDF()\n",
        "\n",
        "cancelled_invoice_count = cancelled_invoice_count.select('InvoiceNo').distinct().count()\n",
        "\n",
        "\n",
        "# percentage of cancelled invoices\n",
        "print(\"Percentage of cancelled invoices: \", (cancelled_invoice_count/unique_invoice)*100)"
      ]
    },
    {
      "cell_type": "code",
      "execution_count": 15,
      "metadata": {
        "colab": {
          "base_uri": "https://localhost:8080/"
        },
        "id": "jVogCnDV7ibl",
        "outputId": "c86ab7c3-b21a-4ac9-8d21-10607f0f685d"
      },
      "outputs": [
        {
          "name": "stdout",
          "output_type": "stream",
          "text": [
            "+---------+---------+--------------------+--------+-------------------+---------+----------+--------------+\n",
            "|InvoiceNo|StockCode|         Description|Quantity|        InvoiceDate|UnitPrice|CustomerID|       Country|\n",
            "+---------+---------+--------------------+--------+-------------------+---------+----------+--------------+\n",
            "|   541431|    23166|MEDIUM CERAMIC TO...|   74215|2011-01-18 10:01:00|     1.04|   12346.0|United Kingdom|\n",
            "|  C541433|    23166|MEDIUM CERAMIC TO...|  -74215|2011-01-18 10:17:00|     1.04|   12346.0|United Kingdom|\n",
            "|   537626|    21731|RED TOADSTOOL LED...|      12|2010-12-07 14:57:00|     1.65|   12347.0|       Iceland|\n",
            "|   537626|    84969|BOX OF 6 ASSORTED...|       6|2010-12-07 14:57:00|     4.25|   12347.0|       Iceland|\n",
            "|   542237|    22375|AIRLINE BAG VINTA...|       4|2011-01-26 14:30:00|     4.25|   12347.0|       Iceland|\n",
            "+---------+---------+--------------------+--------+-------------------+---------+----------+--------------+\n",
            "only showing top 5 rows\n",
            "\n"
          ]
        }
      ],
      "source": [
        "df_sorted_CustomerID = df_spark_filtered.sort('CustomerID')\n",
        "df_sorted_CustomerID.show(5)"
      ]
    },
    {
      "cell_type": "markdown",
      "metadata": {
        "id": "QW8FcBBm7kws"
      },
      "source": [
        "* Look at the first two transactions are the same(StockCode,Description,UnitPrice,CustomerID,Country)\n",
        "* and different(InvoiceNo,sign of Quantity,InvoiceDate)\n",
        "* which means the second transaction is a cancellation of the first one"
      ]
    },
    {
      "cell_type": "markdown",
      "metadata": {
        "id": "USSPy71xqBGB"
      },
      "source": [
        "### check if every neg transaction has a pos pair"
      ]
    },
    {
      "cell_type": "markdown",
      "metadata": {
        "id": "ftx1B05A7ogC"
      },
      "source": [
        "* try to check if every negative quantity transaction (cancellation) has a positive quantity transaction in our data"
      ]
    },
    {
      "cell_type": "code",
      "execution_count": 16,
      "metadata": {
        "colab": {
          "base_uri": "https://localhost:8080/"
        },
        "id": "D-_qGfIm7rPL",
        "outputId": "18f392ac-fa18-4fd1-fea6-267596ec25be"
      },
      "outputs": [
        {
          "name": "stdout",
          "output_type": "stream",
          "text": [
            "Row(CustomerID=14527.0, Quantity=-1, StockCode='D', Description='Discount', UnitPrice=27.5)\n",
            "---------------> not every negative quantity transaction (cancellation) has a positive quantity transaction in our data\n"
          ]
        }
      ],
      "source": [
        "df_check = df_spark_filtered.filter(col('Quantity') < 0).select('CustomerID', 'Quantity', 'StockCode', 'Description', 'UnitPrice')\n",
        "for row in df_check.rdd.collect():\n",
        "    if df_spark_filtered.filter((col('CustomerID') == row[0]) & (col('Quantity') == -row[1]) & (col('Description') == row[2])).count() == 0:\n",
        "        print(row)\n",
        "        print(15*'-'+'>'+' not every negative quantity transaction (cancellation) has a positive quantity transaction in our data')\n",
        "        break"
      ]
    },
    {
      "cell_type": "markdown",
      "metadata": {
        "id": "9OSlz4BJ7sas"
      },
      "source": [
        "* we will discard the Discount transactions"
      ]
    },
    {
      "cell_type": "code",
      "execution_count": 17,
      "metadata": {
        "colab": {
          "base_uri": "https://localhost:8080/"
        },
        "id": "h-Ljfmcl7ueU",
        "outputId": "80bcdd8b-9fa2-413a-e410-40957499d05f"
      },
      "outputs": [
        {
          "name": "stdout",
          "output_type": "stream",
          "text": [
            "Row(CustomerID=15311.0, Quantity=-1, StockCode='35004C', Description='SET OF 3 COLOURED  FLYING DUCKS', UnitPrice=4.65)\n",
            "---------------> not every negative quantity transaction (cancellation) has a positive quantity transaction in our data\n"
          ]
        }
      ],
      "source": [
        "df_check = df_spark_filtered.filter((col('Quantity') < 0) & (col('Description')!='Discount')).select('CustomerID', 'Quantity', 'StockCode', 'Description', 'UnitPrice')\n",
        "for row in df_check.rdd.collect():\n",
        "    if df_spark_filtered.filter((col('CustomerID') == row[0]) & (col('Quantity') == -row[1]) & (col('Description') == row[2])).count() == 0:\n",
        "        print(row)\n",
        "        print(15*'-'+'>'+' not every negative quantity transaction (cancellation) has a positive quantity transaction in our data')\n",
        "        break"
      ]
    },
    {
      "cell_type": "markdown",
      "metadata": {
        "id": "lkMOgRRf7xlK"
      },
      "source": [
        "* Then not every negative quantity transaction (cancellation) has a positive quantity transaction in our data\n",
        "* May be its positive pair was before the starting date of our data or removed by the data cleaning process (having null CustomerID)"
      ]
    },
    {
      "cell_type": "markdown",
      "metadata": {
        "id": "ERhM6lne7_ZA"
      },
      "source": [
        "## StockCode\n",
        "* uniquely assigned to each distinct product\n",
        "* 5-digit integral number"
      ]
    },
    {
      "cell_type": "markdown",
      "metadata": {
        "id": "WUp9-Dn4qLKs"
      },
      "source": [
        "### Number of unique products"
      ]
    },
    {
      "cell_type": "code",
      "execution_count": 18,
      "metadata": {
        "colab": {
          "base_uri": "https://localhost:8080/"
        },
        "id": "OxnwPAVj8Dol",
        "outputId": "5c0b4ec0-e0d5-4aca-88c1-3671b48cf815"
      },
      "outputs": [
        {
          "name": "stdout",
          "output_type": "stream",
          "text": [
            "Number of unique products: 3684\n"
          ]
        }
      ],
      "source": [
        "number_of_unique_products = df_spark_filtered.select('StockCode').distinct().count()\n",
        "print(f\"Number of unique products: {number_of_unique_products}\")"
      ]
    },
    {
      "cell_type": "markdown",
      "metadata": {
        "id": "0E4fHgfwqP77"
      },
      "source": [
        "### stockCodes that are not numbers"
      ]
    },
    {
      "cell_type": "code",
      "execution_count": 19,
      "metadata": {
        "colab": {
          "base_uri": "https://localhost:8080/"
        },
        "id": "fmFHaB8S8Gcv",
        "outputId": "3d112d46-269b-445d-fab5-c119f2e329d4"
      },
      "outputs": [
        {
          "name": "stdout",
          "output_type": "stream",
          "text": [
            "+------------+--------------------+\n",
            "|   StockCode|         Description|\n",
            "+------------+--------------------+\n",
            "|        POST|             POSTAGE|\n",
            "|         DOT|      DOTCOM POSTAGE|\n",
            "|           D|            Discount|\n",
            "|          C2|            CARRIAGE|\n",
            "|BANK CHARGES|        Bank Charges|\n",
            "|        PADS|PADS TO MATCH ALL...|\n",
            "|           M|              Manual|\n",
            "|        CRUK|     CRUK Commission|\n",
            "+------------+--------------------+\n",
            "\n"
          ]
        }
      ],
      "source": [
        "#get stockCodes that are not numbers\n",
        "from pyspark.sql.functions import regexp_extract, col\n",
        "list_special_codes = df_spark_filtered.select(['StockCode','Description']).filter(col('StockCode').rlike('^[a-zA-Z]+'))\n",
        "list_special_codes.distinct().show()"
      ]
    },
    {
      "cell_type": "markdown",
      "metadata": {
        "id": "kKAyBDs5qV9A"
      },
      "source": [
        "### most popular items"
      ]
    },
    {
      "cell_type": "code",
      "execution_count": 20,
      "metadata": {
        "colab": {
          "base_uri": "https://localhost:8080/"
        },
        "id": "0yFQkF9t8IrX",
        "outputId": "dfd16a6b-b603-42a9-aed2-f7547a7481a5"
      },
      "outputs": [
        {
          "name": "stdout",
          "output_type": "stream",
          "text": [
            "+---------+--------+\n",
            "|StockCode|Quantity|\n",
            "+---------+--------+\n",
            "|    84077|   53119|\n",
            "|    22197|   48689|\n",
            "|   85099B|   44963|\n",
            "|    84879|   35215|\n",
            "|   85123A|   34185|\n",
            "+---------+--------+\n",
            "only showing top 5 rows\n",
            "\n"
          ]
        }
      ],
      "source": [
        "#most popular items ==for every StockCode count the sum of the Quantity in all the invoices and return the top 5\n",
        "from pyspark.sql.functions import sum\n",
        "df_spark_filtered.groupBy('StockCode').agg(sum('Quantity').alias('Quantity')).orderBy('Quantity', ascending=False).show(5)"
      ]
    },
    {
      "cell_type": "markdown",
      "metadata": {
        "id": "OS7j6eOh8eI1"
      },
      "source": [
        "## Description\n",
        "Product (item) name. Nominal."
      ]
    },
    {
      "cell_type": "markdown",
      "metadata": {
        "id": "bi4ACfrGq5H9"
      },
      "source": [
        "### Number of keywords"
      ]
    },
    {
      "cell_type": "code",
      "execution_count": 21,
      "metadata": {
        "id": "iVS93wq3t0I-"
      },
      "outputs": [],
      "source": [
        "def is_noun(pos):\n",
        "    '''\n",
        "    In the Penn Treebank system, the POS tag for a noun is 'NN'.\n",
        "    https://www.ling.upenn.edu/courses/Fall_2003/ling001/penn_treebank_pos.html\n",
        "    '''\n",
        "    return pos[:2] == 'NN'"
      ]
    },
    {
      "cell_type": "code",
      "execution_count": 22,
      "metadata": {
        "id": "Cd8upVW2t14Y"
      },
      "outputs": [],
      "source": [
        "def extract_nouns(sentence):\n",
        "    '''\n",
        "    extract nouns from a sentence \n",
        "    using nltk's part-of-speech tagging\n",
        "    '''\n",
        "    if sentence is None:\n",
        "        return []\n",
        "    else:\n",
        "        stemmer = nltk.stem.SnowballStemmer(\"english\")\n",
        "        tokenized = nltk.word_tokenize(sentence.lower())\n",
        "        nouns = [word for (word, pos) in nltk.pos_tag(tokenized) if is_noun(pos)]\n",
        "        return [stemmer.stem(noun) for noun in nouns]\n"
      ]
    },
    {
      "cell_type": "code",
      "execution_count": 23,
      "metadata": {
        "id": "opvQZrdct3Xo"
      },
      "outputs": [],
      "source": [
        "# https://spark.apache.org/docs/3.1.3/api/python/reference/api/pyspark.sql.functions.udf.html\n",
        "extract_nouns_udf = udf(extract_nouns, ArrayType(StringType()))\n",
        "\n",
        "keywords_schema = StructType([\n",
        "    StructField(\"category_key\", StringType(), True),\n",
        "    StructField(\"keywords_roots\", StringType(), True),\n",
        "    StructField(\"keywords_select\", StringType(), True),\n",
        "    StructField(\"count_keywords\", StringType(), True)\n",
        "])"
      ]
    },
    {
      "cell_type": "code",
      "execution_count": 24,
      "metadata": {
        "id": "hwMkcH-Sung4"
      },
      "outputs": [],
      "source": [
        "stemmer = nltk.stem.SnowballStemmer(\"english\")\n",
        "keywords_roots = dict()  # collect the words / root\n",
        "keywords_select = dict()  # association: root <-> keyword\n",
        "category_keys = []  # stores the representative keyword for each group of related words.\n",
        "count_keywords = dict()"
      ]
    },
    {
      "cell_type": "code",
      "execution_count": 25,
      "metadata": {
        "id": "Ayj-iWV_8gVt"
      },
      "outputs": [],
      "source": [
        "def keywords_inventory(dataframe, colonne='Description'):\n",
        "    '''\n",
        "     1.applies the extract_nouns_udf \n",
        "     2.uses the nltk library to stem the extracted nouns and collect them into a dictionary of keywords and their corresponding roots.\n",
        "     3.selects a representative keyword for each group of roots based on the length of the keyword.\n",
        "    '''\n",
        "\n",
        "    #1.\n",
        "    dataframe = dataframe.withColumn(\"nouns\", extract_nouns_udf(dataframe[colonne]))\n",
        "\n",
        "    #2.\n",
        "    for row in dataframe.select(\"nouns\").collect():\n",
        "        nouns = row[0]\n",
        "        for t in nouns:\n",
        "            racine = stemmer.stem(t)\n",
        "            if racine in keywords_roots:\n",
        "                keywords_roots[racine].add(t)\n",
        "                count_keywords[racine] += 1\n",
        "            else:\n",
        "                keywords_roots[racine] = {t}\n",
        "                count_keywords[racine] = 1\n",
        "    \n",
        "    #3.\n",
        "    for s in keywords_roots.keys():\n",
        "        if len(keywords_roots[s]) > 1:\n",
        "            min_length = 1000\n",
        "            for k in keywords_roots[s]:\n",
        "                if len(k) < min_length:\n",
        "                    clef = k\n",
        "                    min_length = len(k)\n",
        "            category_keys.append(clef)\n",
        "            keywords_select[s] = clef\n",
        "        else:\n",
        "            category_keys.append(list(keywords_roots[s])[0])\n",
        "            keywords_select[s] = list(keywords_roots[s])[0]\n",
        "    \n",
        "    result = [[category_keys[i], list(keywords_roots.keys())[i], keywords_select[list(keywords_roots.keys())[i]], count_keywords[list(keywords_roots.keys())[i]]] for i in range(len(category_keys))]\n",
        "    return spark.createDataFrame(result, schema=keywords_schema)"
      ]
    },
    {
      "cell_type": "code",
      "execution_count": 26,
      "metadata": {
        "colab": {
          "base_uri": "https://localhost:8080/"
        },
        "id": "JS7L2LI0u5KP",
        "outputId": "df4937b1-a756-4662-b623-235a3eb5f79a"
      },
      "outputs": [
        {
          "name": "stdout",
          "output_type": "stream",
          "text": [
            "Number of keywords:  1482\n"
          ]
        }
      ],
      "source": [
        "df_products_desc = df_spark_filtered.select('Description').distinct()\n",
        "# Apply the keywords_inventory function to the dataframe\n",
        "keywords = keywords_inventory(df_products_desc)\n",
        "# Display the number of keywords\n",
        "print(\"Number of keywords: \", keywords.count())"
      ]
    },
    {
      "cell_type": "markdown",
      "metadata": {
        "id": "6lR7AxNQq9B8"
      },
      "source": [
        "### words freq"
      ]
    },
    {
      "cell_type": "code",
      "execution_count": 27,
      "metadata": {
        "colab": {
          "base_uri": "https://localhost:8080/",
          "height": 1000
        },
        "id": "502cwqfH8j2T",
        "outputId": "def9d119-1eb5-48ed-c923-37e024e5cd96"
      },
      "outputs": [
        {
          "name": "stdout",
          "output_type": "stream",
          "text": [
            "+------------+--------------+---------------+--------------+\n",
            "|category_key|keywords_roots|keywords_select|count_keywords|\n",
            "+------------+--------------+---------------+--------------+\n",
            "|       heart|         heart|          heart|           267|\n",
            "|      vintag|        vintag|         vintag|           211|\n",
            "|         set|           set|            set|           206|\n",
            "|        pink|          pink|           pink|           189|\n",
            "|         bag|           bag|            bag|           165|\n",
            "|         box|           box|            box|           155|\n",
            "|       glass|         glass|          glass|           149|\n",
            "|    christma|      christma|       christma|           137|\n",
            "|      design|        design|         design|           128|\n",
            "|       candl|         candl|          candl|           121|\n",
            "|      holder|        holder|         holder|           120|\n",
            "|      flower|        flower|         flower|           120|\n",
            "|       decor|         decor|          decor|           109|\n",
            "|       metal|         metal|          metal|            99|\n",
            "|        card|          card|           card|            90|\n",
            "|   retrospot|     retrospot|      retrospot|            90|\n",
            "|     necklac|       necklac|        necklac|            85|\n",
            "|       paper|         paper|          paper|            84|\n",
            "|        blue|          blue|           blue|            80|\n",
            "|         art|           art|            art|            75|\n",
            "+------------+--------------+---------------+--------------+\n",
            "only showing top 20 rows\n",
            "\n"
          ]
        },
        {
          "data": {
            "image/png": "[encoded data removed]",
            "text/plain": [
              "<Figure size 2000x2000 with 1 Axes>"
            ]
          },
          "metadata": {},
          "output_type": "display_data"
        }
      ],
      "source": [
        "# sort the keywords by their frequencies after converting the count_keywords column to integer  \n",
        "keywords = keywords.withColumn(\"count_keywords\", keywords[\"count_keywords\"].cast(\"int\")).sort(\"count_keywords\", ascending=False)\n",
        "keywords.show()\n",
        "\n",
        "keywords_pd = keywords.toPandas()\n",
        "\n",
        "# plot the horizontal bar chart\n",
        "fig, ax = plt.subplots(figsize=(20, 20))\n",
        "ax.barh(keywords_pd['category_key'][:100], keywords_pd['count_keywords'][:100])\n",
        "ax.set_xlabel('Frequency')\n",
        "ax.set_ylabel('Keywords')\n",
        "ax.set_title('Keywords and their frequencies')\n",
        "plt.rc('xtick', labelsize=10)\n",
        "plt.rc('ytick', labelsize=10)\n",
        "ax = plt.gca()\n",
        "ax.invert_yaxis()\n",
        "plt.show()"
      ]
    },
    {
      "cell_type": "code",
      "execution_count": 28,
      "metadata": {
        "colab": {
          "base_uri": "https://localhost:8080/"
        },
        "id": "L2wi6wVU8mHu",
        "outputId": "e03c37de-d19a-4be9-99f7-6caa1b8ef466"
      },
      "outputs": [
        {
          "name": "stdout",
          "output_type": "stream",
          "text": [
            "Number of keywords:  162\n"
          ]
        }
      ],
      "source": [
        "# consider only the keywords with frequency greater than 15\n",
        "keywords_filtered = keywords.filter(keywords['count_keywords'] > 15)\n",
        "print(\"Number of keywords: \", keywords_filtered.count())"
      ]
    },
    {
      "cell_type": "markdown",
      "metadata": {
        "id": "81IR3eWVrCWt"
      },
      "source": [
        "### Get most frequent items based on description"
      ]
    },
    {
      "cell_type": "code",
      "execution_count": 29,
      "metadata": {
        "colab": {
          "base_uri": "https://localhost:8080/"
        },
        "id": "SHAdn8Tv8nfe",
        "outputId": "b9123eb5-6811-484b-a138-b5f5df5e799f"
      },
      "outputs": [
        {
          "name": "stdout",
          "output_type": "stream",
          "text": [
            "Number of products:  168\n"
          ]
        }
      ],
      "source": [
        "count_keywords = keywords_pd['count_keywords'].values.tolist()\n",
        "keywords_select = keywords_pd['category_key'].values.tolist()\n",
        "\n",
        "count_keywords = dict(enumerate(count_keywords))\n",
        "keywords_select = dict(enumerate(keywords_select))\n",
        "\n",
        "list_products = []\n",
        "for k,v in count_keywords.items():\n",
        "    word = keywords_select[k]\n",
        "    if word in ['pink', 'blue', 'tag', 'green', 'orange']: continue\n",
        "    if len(word) < 3 or v < 15: continue\n",
        "    if ('+' in word) or ('/' in word): continue\n",
        "    list_products.append([word, v])\n",
        "#______________________________________________________    \n",
        "list_products.sort(key = lambda x:x[1], reverse = True)\n",
        "print(\"Number of products: \", len(list_products))"
      ]
    },
    {
      "cell_type": "markdown",
      "metadata": {
        "id": "qA2GFQg18pdP"
      },
      "source": [
        "## Quantity\n",
        "The quantities of each product (item) per transaction. Numeric.\n"
      ]
    },
    {
      "cell_type": "code",
      "execution_count": 30,
      "metadata": {
        "colab": {
          "base_uri": "https://localhost:8080/"
        },
        "id": "DQGrBFWY8tyr",
        "outputId": "78403ab4-d935-4c34-c6f9-4c89743ad489"
      },
      "outputs": [
        {
          "name": "stdout",
          "output_type": "stream",
          "text": [
            "+-------+------------------+\n",
            "|summary|          Quantity|\n",
            "+-------+------------------+\n",
            "|  count|            401604|\n",
            "|   mean|12.183272576966365|\n",
            "| stddev|250.28303714445414|\n",
            "|    min|            -80995|\n",
            "|    max|             80995|\n",
            "+-------+------------------+\n",
            "\n"
          ]
        }
      ],
      "source": [
        "df_spark_filtered.select('Quantity').describe().show()"
      ]
    },
    {
      "cell_type": "markdown",
      "metadata": {
        "id": "QlQXyHuk8vf4"
      },
      "source": [
        "## CustomerID\n",
        "*  a 5-digit integral number uniquely assigned to each customer"
      ]
    },
    {
      "cell_type": "markdown",
      "metadata": {
        "id": "tSRT8cvLv7w_"
      },
      "source": [
        "### get number of unique customers"
      ]
    },
    {
      "cell_type": "code",
      "execution_count": 31,
      "metadata": {
        "colab": {
          "base_uri": "https://localhost:8080/"
        },
        "id": "4gLsCTyH8x-X",
        "outputId": "1dd9493a-5092-42cf-c62e-d6966de677c9"
      },
      "outputs": [
        {
          "data": {
            "text/plain": [
              "4372"
            ]
          },
          "execution_count": 31,
          "metadata": {},
          "output_type": "execute_result"
        }
      ],
      "source": [
        "#get number of unique customers\n",
        "df_spark_filtered.select('CustomerID').distinct().count()"
      ]
    },
    {
      "cell_type": "code",
      "execution_count": 32,
      "metadata": {
        "colab": {
          "base_uri": "https://localhost:8080/"
        },
        "id": "0RMQYknS8zfl",
        "outputId": "2503ea0b-d1e7-488c-d99a-a863dfea683b"
      },
      "outputs": [
        {
          "name": "stdout",
          "output_type": "stream",
          "text": [
            "+----------+---------+------------------+\n",
            "|CustomerID|InvoiceNo|Number of products|\n",
            "+----------+---------+------------------+\n",
            "|   12346.0|   541431|                 1|\n",
            "|   12346.0|  C541433|                 1|\n",
            "|   12347.0|   562032|                22|\n",
            "|   12347.0|   556201|                18|\n",
            "|   12347.0|   542237|                29|\n",
            "|   12347.0|   581180|                11|\n",
            "|   12347.0|   537626|                31|\n",
            "|   12347.0|   573511|                47|\n",
            "|   12347.0|   549222|                24|\n",
            "|   12348.0|   548955|                 5|\n",
            "+----------+---------+------------------+\n",
            "only showing top 10 rows\n",
            "\n"
          ]
        }
      ],
      "source": [
        "# group by CustomerID, InvoiceNo, and count the number of rows\n",
        "from pyspark.sql.functions import count\n",
        "temp = df_spark_filtered.groupBy('CustomerID', 'InvoiceNo').agg(count('Quantity').alias('Number of products')).orderBy('CustomerID', ascending=True)\n",
        "temp.show(10)"
      ]
    },
    {
      "cell_type": "markdown",
      "metadata": {
        "id": "WhtNhlqR82d0"
      },
      "source": [
        "* Invoices starts whit C are cancelled\n",
        "* there are customers only buy small quantities of products and other customers buy large quantities of products"
      ]
    },
    {
      "cell_type": "markdown",
      "metadata": {
        "id": "A6xHOFmi85GS"
      },
      "source": [
        "## InvoiceDate"
      ]
    },
    {
      "cell_type": "markdown",
      "metadata": {
        "id": "jTgXJjSvwBSq"
      },
      "source": [
        "### Range of dates"
      ]
    },
    {
      "cell_type": "code",
      "execution_count": 33,
      "metadata": {
        "colab": {
          "base_uri": "https://localhost:8080/"
        },
        "id": "HIwHdrlQ84d_",
        "outputId": "dee387eb-7a8d-4ce1-acbc-49dfb25b8f35"
      },
      "outputs": [
        {
          "name": "stdout",
          "output_type": "stream",
          "text": [
            "the minimum date is: 2010-12-01 08:26:00\n",
            "the maximum date is: 2011-12-09 12:50:00\n"
          ]
        }
      ],
      "source": [
        "#min and max date\n",
        "print(f\"the minimum date is: {df_spark_filtered.select('InvoiceDate').agg({'InvoiceDate': 'min'}).collect()[0][0]}\")\n",
        "print(f\"the maximum date is: {df_spark_filtered.select('InvoiceDate').agg({'InvoiceDate': 'max'}).collect()[0][0]}\")"
      ]
    },
    {
      "cell_type": "markdown",
      "metadata": {
        "id": "NNDEJTXV89jY"
      },
      "source": [
        "## Country"
      ]
    },
    {
      "cell_type": "markdown",
      "metadata": {
        "id": "oeihpzKGwEKB"
      },
      "source": [
        "### Number of countries"
      ]
    },
    {
      "cell_type": "code",
      "execution_count": 34,
      "metadata": {
        "colab": {
          "base_uri": "https://localhost:8080/"
        },
        "id": "Mgq3HBeg9DV4",
        "outputId": "fb97d71e-8dc1-4a4b-cad3-e8bae3a1d53b"
      },
      "outputs": [
        {
          "name": "stdout",
          "output_type": "stream",
          "text": [
            "Number of countries: 37\n"
          ]
        }
      ],
      "source": [
        "number_countries=df_spark_filtered.select('Country').distinct().count()\n",
        "print(f\"Number of countries: {number_countries}\")"
      ]
    },
    {
      "cell_type": "markdown",
      "metadata": {
        "id": "y2rVt067wIDu"
      },
      "source": [
        "### countries that made most of transactions"
      ]
    },
    {
      "cell_type": "code",
      "execution_count": 35,
      "metadata": {
        "colab": {
          "base_uri": "https://localhost:8080/",
          "height": 627
        },
        "id": "6ZJRqEBe9FXe",
        "outputId": "06127875-2ddf-4263-d3ab-bfd5b3702327"
      },
      "outputs": [
        {
          "name": "stdout",
          "output_type": "stream",
          "text": [
            "Sum of invoice counts: 22190\n"
          ]
        },
        {
          "data": {
            "image/png": "[encoded data removed]",
            "text/plain": [
              "<Figure size 640x480 with 1 Axes>"
            ]
          },
          "metadata": {},
          "output_type": "display_data"
        }
      ],
      "source": [
        "invoice_counts = df_spark_filtered.groupBy(['Country', 'InvoiceNo']).count().groupBy('Country').count().orderBy('count', ascending=False)\n",
        "#print sum of invoice_counts\n",
        "print(f\"Sum of invoice counts: {invoice_counts.agg({'count': 'sum'}).collect()[0][0]}\")\n",
        "pandas_df = invoice_counts.toPandas()\n",
        "pandas_df.plot(kind=\"bar\", x=\"Country\", y=\"count\")\n",
        "plt.title(\"#transactions per Country\")\n",
        "plt.xlabel(\"Country\")\n",
        "plt.ylabel(\"#transactions\")\n",
        "plt.show()"
      ]
    },
    {
      "cell_type": "markdown",
      "metadata": {
        "id": "Jpr8GN9_wScq"
      },
      "source": [
        "### countries that made most of cancellations"
      ]
    },
    {
      "cell_type": "code",
      "execution_count": 36,
      "metadata": {
        "colab": {
          "base_uri": "https://localhost:8080/",
          "height": 627
        },
        "id": "P99AWcZR9Hma",
        "outputId": "98adb1b3-c9bc-4b40-cd10-6e21d109b91a"
      },
      "outputs": [
        {
          "name": "stdout",
          "output_type": "stream",
          "text": [
            "Sum of cancelled invoice counts: 3654\n"
          ]
        },
        {
          "data": {
            "image/png": "[encoded data removed]",
            "text/plain": [
              "<Figure size 640x480 with 1 Axes>"
            ]
          },
          "metadata": {},
          "output_type": "display_data"
        }
      ],
      "source": [
        "cancelled_invoice_counts = df_spark_filtered.filter(df_spark_filtered['InvoiceNo'].contains('C')).groupBy(['Country', 'InvoiceNo']).count().groupBy('Country').count().orderBy('count', ascending=False)\n",
        "print(f\"Sum of cancelled invoice counts: {cancelled_invoice_counts.agg({'count': 'sum'}).collect()[0][0]}\")\n",
        "pandas_df = cancelled_invoice_counts.toPandas()\n",
        "pandas_df.plot(kind=\"bar\", x=\"Country\", y=\"count\")\n",
        "plt.title(\"# Cancelled transactions per Country\")\n",
        "plt.xlabel(\"Country\")\n",
        "plt.ylabel(\"# Cancelled transactions\")\n",
        "plt.show()"
      ]
    },
    {
      "cell_type": "markdown",
      "metadata": {
        "id": "37w8311ewcyy"
      },
      "source": [
        "### countries vs num transactions map"
      ]
    },
    {
      "cell_type": "code",
      "execution_count": 37,
      "metadata": {
        "colab": {
          "base_uri": "https://localhost:8080/"
        },
        "id": "yxVAIzfvRbJU",
        "outputId": "01f88cc0-e572-4dc1-8bd8-edace2b91833"
      },
      "outputs": [
        {
          "name": "stderr",
          "output_type": "stream",
          "text": [
            "/usr/local/lib/python3.10/dist-packages/pyspark/sql/pandas/conversion.py:251: FutureWarning:\n",
            "\n",
            "Passing unit-less datetime64 dtype to .astype is deprecated and will raise in a future version. Pass 'datetime64[ns]' instead\n",
            "\n"
          ]
        }
      ],
      "source": [
        "df_initial=df_spark_filtered.toPandas()\n",
        "temp = df_initial[['CustomerID', 'InvoiceNo', 'Country']].groupby(['CustomerID', 'InvoiceNo', 'Country']).count()\n",
        "temp = temp.reset_index(drop = False)\n",
        "countries = temp['Country'].value_counts()"
      ]
    },
    {
      "cell_type": "code",
      "execution_count": 38,
      "metadata": {
        "colab": {
          "base_uri": "https://localhost:8080/",
          "height": 542
        },
        "id": "2w1eR5CWRNBF",
        "outputId": "b54f68ff-06d8-4efb-96fd-a0109dc20811"
      },
      "outputs": [
        {
          "data": {
            "text/html": [
              "<html>\n",
              "<head><meta charset=\"utf-8\" /></head>\n",
              "<body>\n",
              "    <div>            <script src=\"https://cdnjs.cloudflare.com/ajax/libs/mathjax/2.7.5/MathJax.js?config=TeX-AMS-MML_SVG\"></script><script type=\"text/javascript\">if (window.MathJax && window.MathJax.Hub && window.MathJax.Hub.Config) {window.MathJax.Hub.Config({SVG: {font: \"STIX-Web\"}});}</script>                <script type=\"text/javascript\">window.PlotlyConfig = {MathJaxConfig: 'local'};</script>\n",
              "        <script src=\"https://cdn.plot.ly/plotly-2.18.2.min.js\"></script>                <div id=\"35fb65c4-c49e-4f77-bce7-e3bfbe1198b9\" class=\"plotly-graph-div\" style=\"height:525px; width:100%;\"></div>            <script type=\"text/javascript\">                                    window.PLOTLYENV=window.PLOTLYENV || {};                                    if (document.getElementById(\"35fb65c4-c49e-4f77-bce7-e3bfbe1198b9\")) {                    Plotly.newPlot(                        \"35fb65c4-c49e-4f77-bce7-e3bfbe1198b9\",                        [{\"colorbar\":{\"title\":{\"text\":\"Order nb.\"}},\"colorscale\":[[0,\"rgb(224,255,255)\"],[0.01,\"rgb(166,206,227)\"],[0.02,\"rgb(31,120,180)\"],[0.03,\"rgb(178,223,138)\"],[0.05,\"rgb(51,160,44)\"],[0.1,\"rgb(251,154,153)\"],[0.2,\"rgb(255,255,0)\"],[1,\"rgb(227,26,28)\"]],\"locationmode\":\"country names\",\"locations\":[\"United Kingdom\",\"Germany\",\"France\",\"EIRE\",\"Belgium\",\"Spain\",\"Netherlands\",\"Switzerland\",\"Portugal\",\"Australia\",\"Italy\",\"Finland\",\"Sweden\",\"Norway\",\"Channel Islands\",\"Japan\",\"Poland\",\"Denmark\",\"Cyprus\",\"Austria\",\"Singapore\",\"Malta\",\"Unspecified\",\"USA\",\"Iceland\",\"Israel\",\"Canada\",\"Greece\",\"Czech Republic\",\"European Community\",\"Lithuania\",\"United Arab Emirates\",\"Saudi Arabia\",\"Bahrain\",\"RSA\",\"Lebanon\",\"Brazil\"],\"reversescale\":false,\"text\":[\"United Kingdom\",\"Germany\",\"France\",\"EIRE\",\"Belgium\",\"Spain\",\"Netherlands\",\"Switzerland\",\"Portugal\",\"Australia\",\"Italy\",\"Finland\",\"Sweden\",\"Norway\",\"Channel Islands\",\"Japan\",\"Poland\",\"Denmark\",\"Cyprus\",\"Austria\",\"Singapore\",\"Malta\",\"Unspecified\",\"USA\",\"Iceland\",\"Israel\",\"Canada\",\"Greece\",\"Czech Republic\",\"European Community\",\"Lithuania\",\"United Arab Emirates\",\"Saudi Arabia\",\"Bahrain\",\"RSA\",\"Lebanon\",\"Brazil\"],\"z\":[19857,603,458,319,119,105,101,71,70,69,55,48,46,40,33,28,24,21,20,19,10,10,8,7,7,6,6,6,5,5,4,3,2,2,1,1,1],\"type\":\"choropleth\"}],                        {\"geo\":{\"projection\":{\"type\":\"mercator\"},\"showframe\":true},\"title\":{\"text\":\"Number of orders per country\"},\"template\":{\"data\":{\"histogram2dcontour\":[{\"type\":\"histogram2dcontour\",\"colorbar\":{\"outlinewidth\":0,\"ticks\":\"\"},\"colorscale\":[[0.0,\"#0d0887\"],[0.1111111111111111,\"#46039f\"],[0.2222222222222222,\"#7201a8\"],[0.3333333333333333,\"#9c179e\"],[0.4444444444444444,\"#bd3786\"],[0.5555555555555556,\"#d8576b\"],[0.6666666666666666,\"#ed7953\"],[0.7777777777777778,\"#fb9f3a\"],[0.8888888888888888,\"#fdca26\"],[1.0,\"#f0f921\"]]}],\"choropleth\":[{\"type\":\"choropleth\",\"colorbar\":{\"outlinewidth\":0,\"ticks\":\"\"}}],\"histogram2d\":[{\"type\":\"histogram2d\",\"colorbar\":{\"outlinewidth\":0,\"ticks\":\"\"},\"colorscale\":[[0.0,\"#0d0887\"],[0.1111111111111111,\"#46039f\"],[0.2222222222222222,\"#7201a8\"],[0.3333333333333333,\"#9c179e\"],[0.4444444444444444,\"#bd3786\"],[0.5555555555555556,\"#d8576b\"],[0.6666666666666666,\"#ed7953\"],[0.7777777777777778,\"#fb9f3a\"],[0.8888888888888888,\"#fdca26\"],[1.0,\"#f0f921\"]]}],\"heatmap\":[{\"type\":\"heatmap\",\"colorbar\":{\"outlinewidth\":0,\"ticks\":\"\"},\"colorscale\":[[0.0,\"#0d0887\"],[0.1111111111111111,\"#46039f\"],[0.2222222222222222,\"#7201a8\"],[0.3333333333333333,\"#9c179e\"],[0.4444444444444444,\"#bd3786\"],[0.5555555555555556,\"#d8576b\"],[0.6666666666666666,\"#ed7953\"],[0.7777777777777778,\"#fb9f3a\"],[0.8888888888888888,\"#fdca26\"],[1.0,\"#f0f921\"]]}],\"heatmapgl\":[{\"type\":\"heatmapgl\",\"colorbar\":{\"outlinewidth\":0,\"ticks\":\"\"},\"colorscale\":[[0.0,\"#0d0887\"],[0.1111111111111111,\"#46039f\"],[0.2222222222222222,\"#7201a8\"],[0.3333333333333333,\"#9c179e\"],[0.4444444444444444,\"#bd3786\"],[0.5555555555555556,\"#d8576b\"],[0.6666666666666666,\"#ed7953\"],[0.7777777777777778,\"#fb9f3a\"],[0.8888888888888888,\"#fdca26\"],[1.0,\"#f0f921\"]]}],\"contourcarpet\":[{\"type\":\"contourcarpet\",\"colorbar\":{\"outlinewidth\":0,\"ticks\":\"\"}}],\"contour\":[{\"type\":\"contour\",\"colorbar\":{\"outlinewidth\":0,\"ticks\":\"\"},\"colorscale\":[[0.0,\"#0d0887\"],[0.1111111111111111,\"#46039f\"],[0.2222222222222222,\"#7201a8\"],[0.3333333333333333,\"#9c179e\"],[0.4444444444444444,\"#bd3786\"],[0.5555555555555556,\"#d8576b\"],[0.6666666666666666,\"#ed7953\"],[0.7777777777777778,\"#fb9f3a\"],[0.8888888888888888,\"#fdca26\"],[1.0,\"#f0f921\"]]}],\"surface\":[{\"type\":\"surface\",\"colorbar\":{\"outlinewidth\":0,\"ticks\":\"\"},\"colorscale\":[[0.0,\"#0d0887\"],[0.1111111111111111,\"#46039f\"],[0.2222222222222222,\"#7201a8\"],[0.3333333333333333,\"#9c179e\"],[0.4444444444444444,\"#bd3786\"],[0.5555555555555556,\"#d8576b\"],[0.6666666666666666,\"#ed7953\"],[0.7777777777777778,\"#fb9f3a\"],[0.8888888888888888,\"#fdca26\"],[1.0,\"#f0f921\"]]}],\"mesh3d\":[{\"type\":\"mesh3d\",\"colorbar\":{\"outlinewidth\":0,\"ticks\":\"\"}}],\"scatter\":[{\"fillpattern\":{\"fillmode\":\"overlay\",\"size\":10,\"solidity\":0.2},\"type\":\"scatter\"}],\"parcoords\":[{\"type\":\"parcoords\",\"line\":{\"colorbar\":{\"outlinewidth\":0,\"ticks\":\"\"}}}],\"scatterpolargl\":[{\"type\":\"scatterpolargl\",\"marker\":{\"colorbar\":{\"outlinewidth\":0,\"ticks\":\"\"}}}],\"bar\":[{\"error_x\":{\"color\":\"#2a3f5f\"},\"error_y\":{\"color\":\"#2a3f5f\"},\"marker\":{\"line\":{\"color\":\"#E5ECF6\",\"width\":0.5},\"pattern\":{\"fillmode\":\"overlay\",\"size\":10,\"solidity\":0.2}},\"type\":\"bar\"}],\"scattergeo\":[{\"type\":\"scattergeo\",\"marker\":{\"colorbar\":{\"outlinewidth\":0,\"ticks\":\"\"}}}],\"scatterpolar\":[{\"type\":\"scatterpolar\",\"marker\":{\"colorbar\":{\"outlinewidth\":0,\"ticks\":\"\"}}}],\"histogram\":[{\"marker\":{\"pattern\":{\"fillmode\":\"overlay\",\"size\":10,\"solidity\":0.2}},\"type\":\"histogram\"}],\"scattergl\":[{\"type\":\"scattergl\",\"marker\":{\"colorbar\":{\"outlinewidth\":0,\"ticks\":\"\"}}}],\"scatter3d\":[{\"type\":\"scatter3d\",\"line\":{\"colorbar\":{\"outlinewidth\":0,\"ticks\":\"\"}},\"marker\":{\"colorbar\":{\"outlinewidth\":0,\"ticks\":\"\"}}}],\"scattermapbox\":[{\"type\":\"scattermapbox\",\"marker\":{\"colorbar\":{\"outlinewidth\":0,\"ticks\":\"\"}}}],\"scatterternary\":[{\"type\":\"scatterternary\",\"marker\":{\"colorbar\":{\"outlinewidth\":0,\"ticks\":\"\"}}}],\"scattercarpet\":[{\"type\":\"scattercarpet\",\"marker\":{\"colorbar\":{\"outlinewidth\":0,\"ticks\":\"\"}}}],\"carpet\":[{\"aaxis\":{\"endlinecolor\":\"#2a3f5f\",\"gridcolor\":\"white\",\"linecolor\":\"white\",\"minorgridcolor\":\"white\",\"startlinecolor\":\"#2a3f5f\"},\"baxis\":{\"endlinecolor\":\"#2a3f5f\",\"gridcolor\":\"white\",\"linecolor\":\"white\",\"minorgridcolor\":\"white\",\"startlinecolor\":\"#2a3f5f\"},\"type\":\"carpet\"}],\"table\":[{\"cells\":{\"fill\":{\"color\":\"#EBF0F8\"},\"line\":{\"color\":\"white\"}},\"header\":{\"fill\":{\"color\":\"#C8D4E3\"},\"line\":{\"color\":\"white\"}},\"type\":\"table\"}],\"barpolar\":[{\"marker\":{\"line\":{\"color\":\"#E5ECF6\",\"width\":0.5},\"pattern\":{\"fillmode\":\"overlay\",\"size\":10,\"solidity\":0.2}},\"type\":\"barpolar\"}],\"pie\":[{\"automargin\":true,\"type\":\"pie\"}]},\"layout\":{\"autotypenumbers\":\"strict\",\"colorway\":[\"#636efa\",\"#EF553B\",\"#00cc96\",\"#ab63fa\",\"#FFA15A\",\"#19d3f3\",\"#FF6692\",\"#B6E880\",\"#FF97FF\",\"#FECB52\"],\"font\":{\"color\":\"#2a3f5f\"},\"hovermode\":\"closest\",\"hoverlabel\":{\"align\":\"left\"},\"paper_bgcolor\":\"white\",\"plot_bgcolor\":\"#E5ECF6\",\"polar\":{\"bgcolor\":\"#E5ECF6\",\"angularaxis\":{\"gridcolor\":\"white\",\"linecolor\":\"white\",\"ticks\":\"\"},\"radialaxis\":{\"gridcolor\":\"white\",\"linecolor\":\"white\",\"ticks\":\"\"}},\"ternary\":{\"bgcolor\":\"#E5ECF6\",\"aaxis\":{\"gridcolor\":\"white\",\"linecolor\":\"white\",\"ticks\":\"\"},\"baxis\":{\"gridcolor\":\"white\",\"linecolor\":\"white\",\"ticks\":\"\"},\"caxis\":{\"gridcolor\":\"white\",\"linecolor\":\"white\",\"ticks\":\"\"}},\"coloraxis\":{\"colorbar\":{\"outlinewidth\":0,\"ticks\":\"\"}},\"colorscale\":{\"sequential\":[[0.0,\"#0d0887\"],[0.1111111111111111,\"#46039f\"],[0.2222222222222222,\"#7201a8\"],[0.3333333333333333,\"#9c179e\"],[0.4444444444444444,\"#bd3786\"],[0.5555555555555556,\"#d8576b\"],[0.6666666666666666,\"#ed7953\"],[0.7777777777777778,\"#fb9f3a\"],[0.8888888888888888,\"#fdca26\"],[1.0,\"#f0f921\"]],\"sequentialminus\":[[0.0,\"#0d0887\"],[0.1111111111111111,\"#46039f\"],[0.2222222222222222,\"#7201a8\"],[0.3333333333333333,\"#9c179e\"],[0.4444444444444444,\"#bd3786\"],[0.5555555555555556,\"#d8576b\"],[0.6666666666666666,\"#ed7953\"],[0.7777777777777778,\"#fb9f3a\"],[0.8888888888888888,\"#fdca26\"],[1.0,\"#f0f921\"]],\"diverging\":[[0,\"#8e0152\"],[0.1,\"#c51b7d\"],[0.2,\"#de77ae\"],[0.3,\"#f1b6da\"],[0.4,\"#fde0ef\"],[0.5,\"#f7f7f7\"],[0.6,\"#e6f5d0\"],[0.7,\"#b8e186\"],[0.8,\"#7fbc41\"],[0.9,\"#4d9221\"],[1,\"#276419\"]]},\"xaxis\":{\"gridcolor\":\"white\",\"linecolor\":\"white\",\"ticks\":\"\",\"title\":{\"standoff\":15},\"zerolinecolor\":\"white\",\"automargin\":true,\"zerolinewidth\":2},\"yaxis\":{\"gridcolor\":\"white\",\"linecolor\":\"white\",\"ticks\":\"\",\"title\":{\"standoff\":15},\"zerolinecolor\":\"white\",\"automargin\":true,\"zerolinewidth\":2},\"scene\":{\"xaxis\":{\"backgroundcolor\":\"#E5ECF6\",\"gridcolor\":\"white\",\"linecolor\":\"white\",\"showbackground\":true,\"ticks\":\"\",\"zerolinecolor\":\"white\",\"gridwidth\":2},\"yaxis\":{\"backgroundcolor\":\"#E5ECF6\",\"gridcolor\":\"white\",\"linecolor\":\"white\",\"showbackground\":true,\"ticks\":\"\",\"zerolinecolor\":\"white\",\"gridwidth\":2},\"zaxis\":{\"backgroundcolor\":\"#E5ECF6\",\"gridcolor\":\"white\",\"linecolor\":\"white\",\"showbackground\":true,\"ticks\":\"\",\"zerolinecolor\":\"white\",\"gridwidth\":2}},\"shapedefaults\":{\"line\":{\"color\":\"#2a3f5f\"}},\"annotationdefaults\":{\"arrowcolor\":\"#2a3f5f\",\"arrowhead\":0,\"arrowwidth\":1},\"geo\":{\"bgcolor\":\"white\",\"landcolor\":\"#E5ECF6\",\"subunitcolor\":\"white\",\"showland\":true,\"showlakes\":true,\"lakecolor\":\"white\"},\"title\":{\"x\":0.05},\"mapbox\":{\"style\":\"light\"}}}},                        {\"responsive\": true}                    ).then(function(){\n",
              "                            \n",
              "var gd = document.getElementById('35fb65c4-c49e-4f77-bce7-e3bfbe1198b9');\n",
              "var x = new MutationObserver(function (mutations, observer) {{\n",
              "        var display = window.getComputedStyle(gd).display;\n",
              "        if (!display || display === 'none') {{\n",
              "            console.log([gd, 'removed!']);\n",
              "            Plotly.purge(gd);\n",
              "            observer.disconnect();\n",
              "        }}\n",
              "}});\n",
              "\n",
              "// Listen for the removal of the full notebook cells\n",
              "var notebookContainer = gd.closest('#notebook-container');\n",
              "if (notebookContainer) {{\n",
              "    x.observe(notebookContainer, {childList: true});\n",
              "}}\n",
              "\n",
              "// Listen for the clearing of the current output cell\n",
              "var outputEl = gd.closest('.output');\n",
              "if (outputEl) {{\n",
              "    x.observe(outputEl, {childList: true});\n",
              "}}\n",
              "\n",
              "                        })                };                            </script>        </div>\n",
              "</body>\n",
              "</html>"
            ]
          },
          "metadata": {},
          "output_type": "display_data"
        }
      ],
      "source": [
        "data = dict(type='choropleth',\n",
        "locations = countries.index,\n",
        "locationmode = 'country names', z = countries,\n",
        "text = countries.index, colorbar = {'title':'Order nb.'},\n",
        "colorscale=[[0, 'rgb(224,255,255)'],\n",
        "            [0.01, 'rgb(166,206,227)'], [0.02, 'rgb(31,120,180)'],\n",
        "            [0.03, 'rgb(178,223,138)'], [0.05, 'rgb(51,160,44)'],\n",
        "            [0.10, 'rgb(251,154,153)'], [0.20, 'rgb(255,255,0)'],\n",
        "            [1, 'rgb(227,26,28)']],    \n",
        "reversescale = False)\n",
        "layout = dict(title='Number of orders per country',\n",
        "geo = dict(showframe = True, projection={'type':'mercator'}))\n",
        "choromap = go.Figure(data = [data], layout = layout)\n",
        "iplot(choromap, validate=False)"
      ]
    },
    {
      "cell_type": "markdown",
      "metadata": {
        "id": "sJISv-yjVIyX"
      },
      "source": [
        "# Association Rules"
      ]
    },
    {
      "cell_type": "code",
      "execution_count": 39,
      "metadata": {
        "colab": {
          "base_uri": "https://localhost:8080/"
        },
        "id": "6kFNj_hP2-px",
        "outputId": "d3284a2e-ddf1-4968-df22-6eb9950c9fae"
      },
      "outputs": [
        {
          "name": "stdout",
          "output_type": "stream",
          "text": [
            "+---------+---------+--------------------+--------+-------------------+---------+----------+--------------+--------------+\n",
            "|InvoiceNo|StockCode|         Description|Quantity|        InvoiceDate|UnitPrice|CustomerID|       Country|CleanStockCode|\n",
            "+---------+---------+--------------------+--------+-------------------+---------+----------+--------------+--------------+\n",
            "|   536365|    22752|SET 7 BABUSHKA NE...|       2|2010-12-01 08:26:00|     7.65|   17850.0|United Kingdom|         22752|\n",
            "|   536365|    71053| WHITE METAL LANTERN|       6|2010-12-01 08:26:00|     3.39|   17850.0|United Kingdom|         71053|\n",
            "|   536365|   84406B|CREAM CUPID HEART...|       8|2010-12-01 08:26:00|     2.75|   17850.0|United Kingdom|         84406|\n",
            "|   536365|    21730|GLASS STAR FROSTE...|       6|2010-12-01 08:26:00|     4.25|   17850.0|United Kingdom|         21730|\n",
            "|   536365|   84029G|KNITTED UNION FLA...|       6|2010-12-01 08:26:00|     3.39|   17850.0|United Kingdom|         84029|\n",
            "|   536365|   85123A|WHITE HANGING HEA...|       6|2010-12-01 08:26:00|     2.55|   17850.0|United Kingdom|         85123|\n",
            "|   536365|   84029E|RED WOOLLY HOTTIE...|       6|2010-12-01 08:26:00|     3.39|   17850.0|United Kingdom|         84029|\n",
            "|   536366|    22632|HAND WARMER RED P...|       6|2010-12-01 08:28:00|     1.85|   17850.0|United Kingdom|         22632|\n",
            "|   536366|    22633|HAND WARMER UNION...|       6|2010-12-01 08:28:00|     1.85|   17850.0|United Kingdom|         22633|\n",
            "|   536367|    21777|RECIPE BOX WITH M...|       4|2010-12-01 08:34:00|     7.95|   13047.0|United Kingdom|         21777|\n",
            "|   536367|    21754|HOME BUILDING BLO...|       3|2010-12-01 08:34:00|     5.95|   13047.0|United Kingdom|         21754|\n",
            "|   536367|    48187| DOORMAT NEW ENGLAND|       4|2010-12-01 08:34:00|     7.95|   13047.0|United Kingdom|         48187|\n",
            "|   536367|    22748|POPPY'S PLAYHOUSE...|       6|2010-12-01 08:34:00|      2.1|   13047.0|United Kingdom|         22748|\n",
            "|   536367|    22749|FELTCRAFT PRINCES...|       8|2010-12-01 08:34:00|     3.75|   13047.0|United Kingdom|         22749|\n",
            "|   536367|    22310|IVORY KNITTED MUG...|       6|2010-12-01 08:34:00|     1.65|   13047.0|United Kingdom|         22310|\n",
            "|   536367|    21755|LOVE BUILDING BLO...|       3|2010-12-01 08:34:00|     5.95|   13047.0|United Kingdom|         21755|\n",
            "|   536367|    84879|ASSORTED COLOUR B...|      32|2010-12-01 08:34:00|     1.69|   13047.0|United Kingdom|         84879|\n",
            "|   536367|    22745|POPPY'S PLAYHOUSE...|       6|2010-12-01 08:34:00|      2.1|   13047.0|United Kingdom|         22745|\n",
            "|   536367|    22622|BOX OF VINTAGE AL...|       2|2010-12-01 08:34:00|     9.95|   13047.0|United Kingdom|         22622|\n",
            "|   536367|    84969|BOX OF 6 ASSORTED...|       6|2010-12-01 08:34:00|     4.25|   13047.0|United Kingdom|         84969|\n",
            "+---------+---------+--------------------+--------+-------------------+---------+----------+--------------+--------------+\n",
            "only showing top 20 rows\n",
            "\n"
          ]
        }
      ],
      "source": [
        "new_col_name = \"CleanStockCode\"\n",
        "pattern = \"[^0-9]+\"\n",
        "df_spark_cleaned_for_assoc = df_spark_filtered.withColumn(new_col_name, regexp_replace(col(\"StockCode\"), pattern, \"\").cast(\"integer\"))\n",
        "df_spark_cleaned_for_assoc.show()"
      ]
    },
    {
      "cell_type": "code",
      "execution_count": 40,
      "metadata": {
        "id": "x4az51vvvvkj"
      },
      "outputs": [],
      "source": [
        "# Define the columns containing the transaction ID and item ID\n",
        "transaction_col = \"CustomerID\"\n",
        "item_col = \"CleanStockCode\"\n",
        "\n",
        "# Convert the item_col column to an array of strings\n",
        "df_spark_filtered_assoc = df_spark_cleaned_for_assoc.withColumn(item_col, split(df_spark_cleaned_for_assoc[item_col], \" \"))\n",
        "\n",
        "# Define the minimum support and confidence thresholds\n",
        "min_support = 0.001\n",
        "min_confidence = 0.01\n",
        "\n",
        "# Define the FPGrowth model and fit it to the data\n",
        "fp_model = FPGrowth(itemsCol=item_col, minSupport=min_support, minConfidence=min_confidence)\n",
        "fpm = fp_model.fit(df_spark_filtered_assoc)\n",
        "\n"
      ]
    },
    {
      "cell_type": "code",
      "execution_count": 41,
      "metadata": {
        "colab": {
          "base_uri": "https://localhost:8080/"
        },
        "id": "ciUFmrTq0SZb",
        "outputId": "252da7b4-1924-4bac-9b71-3d9fe9d82787"
      },
      "outputs": [
        {
          "name": "stdout",
          "output_type": "stream",
          "text": [
            "+-------+----+\n",
            "|  items|freq|\n",
            "+-------+----+\n",
            "|[15056]| 821|\n",
            "|[16161]| 407|\n",
            "|[20685]| 584|\n",
            "|[20712]| 506|\n",
            "|[20713]| 422|\n",
            "+-------+----+\n",
            "only showing top 5 rows\n",
            "\n"
          ]
        }
      ],
      "source": [
        "fpm.freqItemsets.sort('items').show(5)"
      ]
    },
    {
      "cell_type": "code",
      "execution_count": 42,
      "metadata": {
        "id": "Rlfhqtt24VO_"
      },
      "outputs": [],
      "source": [
        "# Define the columns containing the transaction ID and item ID\n",
        "transaction_col = \"InvoiceNo\"\n",
        "item_col = \"CleanStockCode\"\n",
        "\n",
        "# Group the data by transaction ID and collect the item IDs into a set\n",
        "df_grouped = df_spark_cleaned_for_assoc.groupby(transaction_col).agg(collect_set(item_col).alias(\"items\"))\n",
        "\n",
        "# Define the minimum support and confidence thresholds\n",
        "min_support = 0.0080\n",
        "min_confidence = 0.5\n",
        "\n",
        "# Define the FPGrowth model and fit it to the data\n",
        "fp_model = FPGrowth(itemsCol=\"items\", minSupport=min_support, minConfidence=min_confidence)\n",
        "fp_association_rules = fp_model.fit(df_grouped)\n",
        "\n",
        "# Generate frequent itemsets\n",
        "freq_itemsets = fp_association_rules.freqItemsets\n",
        "\n",
        "# Explode the items column into separate rows\n",
        "df_exploded = freq_itemsets.select(explode(\"items\").alias(\"items\"))\n"
      ]
    },
    {
      "cell_type": "code",
      "execution_count": 43,
      "metadata": {
        "colab": {
          "base_uri": "https://localhost:8080/",
          "height": 423
        },
        "id": "pxHTVm-2L5y8",
        "outputId": "efeb26d0-babf-4ad1-97fa-9d65b4b7425a"
      },
      "outputs": [
        {
          "data": {
            "text/html": [
              "\n",
              "  <div id=\"df-07954543-d4ff-426d-a1ea-0102ea6af166\">\n",
              "    <div class=\"colab-df-container\">\n",
              "      <div>\n",
              "<style scoped>\n",
              "    .dataframe tbody tr th:only-of-type {\n",
              "        vertical-align: middle;\n",
              "    }\n",
              "\n",
              "    .dataframe tbody tr th {\n",
              "        vertical-align: top;\n",
              "    }\n",
              "\n",
              "    .dataframe thead th {\n",
              "        text-align: right;\n",
              "    }\n",
              "</style>\n",
              "<table border=\"1\" class=\"dataframe\">\n",
              "  <thead>\n",
              "    <tr style=\"text-align: right;\">\n",
              "      <th></th>\n",
              "      <th>antecedent</th>\n",
              "      <th>consequent</th>\n",
              "      <th>support</th>\n",
              "      <th>confidence</th>\n",
              "      <th>lift</th>\n",
              "    </tr>\n",
              "  </thead>\n",
              "  <tbody>\n",
              "    <tr>\n",
              "      <th>0</th>\n",
              "      <td>[82483]</td>\n",
              "      <td>[82486]</td>\n",
              "      <td>0.012708</td>\n",
              "      <td>0.513661</td>\n",
              "      <td>19.651969</td>\n",
              "    </tr>\n",
              "    <tr>\n",
              "      <th>1</th>\n",
              "      <td>[23199, 85099]</td>\n",
              "      <td>[23203]</td>\n",
              "      <td>0.010275</td>\n",
              "      <td>0.512360</td>\n",
              "      <td>10.363955</td>\n",
              "    </tr>\n",
              "    <tr>\n",
              "      <th>2</th>\n",
              "      <td>[22748]</td>\n",
              "      <td>[22746]</td>\n",
              "      <td>0.009734</td>\n",
              "      <td>0.618911</td>\n",
              "      <td>54.069445</td>\n",
              "    </tr>\n",
              "    <tr>\n",
              "      <th>3</th>\n",
              "      <td>[22748]</td>\n",
              "      <td>[22745]</td>\n",
              "      <td>0.011492</td>\n",
              "      <td>0.730659</td>\n",
              "      <td>50.825466</td>\n",
              "    </tr>\n",
              "    <tr>\n",
              "      <th>4</th>\n",
              "      <td>[22835]</td>\n",
              "      <td>[22112]</td>\n",
              "      <td>0.013069</td>\n",
              "      <td>0.568627</td>\n",
              "      <td>17.847020</td>\n",
              "    </tr>\n",
              "    <tr>\n",
              "      <th>...</th>\n",
              "      <td>...</td>\n",
              "      <td>...</td>\n",
              "      <td>...</td>\n",
              "      <td>...</td>\n",
              "      <td>...</td>\n",
              "    </tr>\n",
              "    <tr>\n",
              "      <th>393</th>\n",
              "      <td>[23202, 23209]</td>\n",
              "      <td>[23203]</td>\n",
              "      <td>0.009283</td>\n",
              "      <td>0.830645</td>\n",
              "      <td>16.802202</td>\n",
              "    </tr>\n",
              "    <tr>\n",
              "      <th>394</th>\n",
              "      <td>[22662]</td>\n",
              "      <td>[20725]</td>\n",
              "      <td>0.013925</td>\n",
              "      <td>0.510744</td>\n",
              "      <td>8.521357</td>\n",
              "    </tr>\n",
              "    <tr>\n",
              "      <th>395</th>\n",
              "      <td>[22662]</td>\n",
              "      <td>[22382]</td>\n",
              "      <td>0.016043</td>\n",
              "      <td>0.588430</td>\n",
              "      <td>13.044212</td>\n",
              "    </tr>\n",
              "    <tr>\n",
              "      <th>396</th>\n",
              "      <td>[20728, 20727, 20725]</td>\n",
              "      <td>[22384]</td>\n",
              "      <td>0.008698</td>\n",
              "      <td>0.733840</td>\n",
              "      <td>17.122940</td>\n",
              "    </tr>\n",
              "    <tr>\n",
              "      <th>397</th>\n",
              "      <td>[20728, 20727, 20725]</td>\n",
              "      <td>[22383]</td>\n",
              "      <td>0.008247</td>\n",
              "      <td>0.695817</td>\n",
              "      <td>14.525108</td>\n",
              "    </tr>\n",
              "  </tbody>\n",
              "</table>\n",
              "<p>398 rows × 5 columns</p>\n",
              "</div>\n",
              "      <button class=\"colab-df-convert\" onclick=\"convertToInteractive('df-07954543-d4ff-426d-a1ea-0102ea6af166')\"\n",
              "              title=\"Convert this dataframe to an interactive table.\"\n",
              "              style=\"display:none;\">\n",
              "        \n",
              "  <svg xmlns=\"http://www.w3.org/2000/svg\" height=\"24px\"viewBox=\"0 0 24 24\"\n",
              "       width=\"24px\">\n",
              "    <path d=\"M0 0h24v24H0V0z\" fill=\"none\"/>\n",
              "    <path d=\"M18.56 5.44l.94 2.06.94-2.06 2.06-.94-2.06-.94-.94-2.06-.94 2.06-2.06.94zm-11 1L8.5 8.5l.94-2.06 2.06-.94-2.06-.94L8.5 2.5l-.94 2.06-2.06.94zm10 10l.94 2.06.94-2.06 2.06-.94-2.06-.94-.94-2.06-.94 2.06-2.06.94z\"/><path d=\"M17.41 7.96l-1.37-1.37c-.4-.4-.92-.59-1.43-.59-.52 0-1.04.2-1.43.59L10.3 9.45l-7.72 7.72c-.78.78-.78 2.05 0 2.83L4 21.41c.39.39.9.59 1.41.59.51 0 1.02-.2 1.41-.59l7.78-7.78 2.81-2.81c.8-.78.8-2.07 0-2.86zM5.41 20L4 18.59l7.72-7.72 1.47 1.35L5.41 20z\"/>\n",
              "  </svg>\n",
              "      </button>\n",
              "      \n",
              "  <style>\n",
              "    .colab-df-container {\n",
              "      display:flex;\n",
              "      flex-wrap:wrap;\n",
              "      gap: 12px;\n",
              "    }\n",
              "\n",
              "    .colab-df-convert {\n",
              "      background-color: #E8F0FE;\n",
              "      border: none;\n",
              "      border-radius: 50%;\n",
              "      cursor: pointer;\n",
              "      display: none;\n",
              "      fill: #1967D2;\n",
              "      height: 32px;\n",
              "      padding: 0 0 0 0;\n",
              "      width: 32px;\n",
              "    }\n",
              "\n",
              "    .colab-df-convert:hover {\n",
              "      background-color: #E2EBFA;\n",
              "      box-shadow: 0px 1px 2px rgba(60, 64, 67, 0.3), 0px 1px 3px 1px rgba(60, 64, 67, 0.15);\n",
              "      fill: #174EA6;\n",
              "    }\n",
              "\n",
              "    [theme=dark] .colab-df-convert {\n",
              "      background-color: #3B4455;\n",
              "      fill: #D2E3FC;\n",
              "    }\n",
              "\n",
              "    [theme=dark] .colab-df-convert:hover {\n",
              "      background-color: #434B5C;\n",
              "      box-shadow: 0px 1px 3px 1px rgba(0, 0, 0, 0.15);\n",
              "      filter: drop-shadow(0px 1px 2px rgba(0, 0, 0, 0.3));\n",
              "      fill: #FFFFFF;\n",
              "    }\n",
              "  </style>\n",
              "\n",
              "      <script>\n",
              "        const buttonEl =\n",
              "          document.querySelector('#df-07954543-d4ff-426d-a1ea-0102ea6af166 button.colab-df-convert');\n",
              "        buttonEl.style.display =\n",
              "          google.colab.kernel.accessAllowed ? 'block' : 'none';\n",
              "\n",
              "        async function convertToInteractive(key) {\n",
              "          const element = document.querySelector('#df-07954543-d4ff-426d-a1ea-0102ea6af166');\n",
              "          const dataTable =\n",
              "            await google.colab.kernel.invokeFunction('convertToInteractive',\n",
              "                                                     [key], {});\n",
              "          if (!dataTable) return;\n",
              "\n",
              "          const docLinkHtml = 'Like what you see? Visit the ' +\n",
              "            '<a target=\"_blank\" href=https://colab.research.google.com/notebooks/data_table.ipynb>data table notebook</a>'\n",
              "            + ' to learn more about interactive tables.';\n",
              "          element.innerHTML = '';\n",
              "          dataTable['output_type'] = 'display_data';\n",
              "          await google.colab.output.renderOutput(dataTable, element);\n",
              "          const docLink = document.createElement('div');\n",
              "          docLink.innerHTML = docLinkHtml;\n",
              "          element.appendChild(docLink);\n",
              "        }\n",
              "      </script>\n",
              "    </div>\n",
              "  </div>\n",
              "  "
            ],
            "text/plain": [
              "                antecedent consequent   support  confidence       lift\n",
              "0                  [82483]    [82486]  0.012708    0.513661  19.651969\n",
              "1           [23199, 85099]    [23203]  0.010275    0.512360  10.363955\n",
              "2                  [22748]    [22746]  0.009734    0.618911  54.069445\n",
              "3                  [22748]    [22745]  0.011492    0.730659  50.825466\n",
              "4                  [22835]    [22112]  0.013069    0.568627  17.847020\n",
              "..                     ...        ...       ...         ...        ...\n",
              "393         [23202, 23209]    [23203]  0.009283    0.830645  16.802202\n",
              "394                [22662]    [20725]  0.013925    0.510744   8.521357\n",
              "395                [22662]    [22382]  0.016043    0.588430  13.044212\n",
              "396  [20728, 20727, 20725]    [22384]  0.008698    0.733840  17.122940\n",
              "397  [20728, 20727, 20725]    [22383]  0.008247    0.695817  14.525108\n",
              "\n",
              "[398 rows x 5 columns]"
            ]
          },
          "execution_count": 43,
          "metadata": {},
          "output_type": "execute_result"
        }
      ],
      "source": [
        "assoc_rules = fp_association_rules.associationRules\n",
        "\n",
        "eval_metrics = assoc_rules.selectExpr(\"antecedent\", \"consequent\", \"support\", \"confidence\", \"lift\")\n",
        "eval_metrics.toPandas()"
      ]
    },
    {
      "cell_type": "code",
      "execution_count": 44,
      "metadata": {
        "colab": {
          "base_uri": "https://localhost:8080/",
          "height": 542
        },
        "id": "O48AQWqnYTgk",
        "outputId": "fba79f37-2ff4-4455-ece0-a0a8a452446e"
      },
      "outputs": [
        {
          "data": {
            "text/html": [
              "<html>\n",
              "<head><meta charset=\"utf-8\" /></head>\n",
              "<body>\n",
              "    <div>            <script src=\"https://cdnjs.cloudflare.com/ajax/libs/mathjax/2.7.5/MathJax.js?config=TeX-AMS-MML_SVG\"></script><script type=\"text/javascript\">if (window.MathJax && window.MathJax.Hub && window.MathJax.Hub.Config) {window.MathJax.Hub.Config({SVG: {font: \"STIX-Web\"}});}</script>                <script type=\"text/javascript\">window.PlotlyConfig = {MathJaxConfig: 'local'};</script>\n",
              "        <script src=\"https://cdn.plot.ly/plotly-2.18.2.min.js\"></script>                <div id=\"6e227373-621c-4606-8b6f-ab05d6dce884\" class=\"plotly-graph-div\" style=\"height:525px; width:100%;\"></div>            <script type=\"text/javascript\">                                    window.PLOTLYENV=window.PLOTLYENV || {};                                    if (document.getElementById(\"6e227373-621c-4606-8b6f-ab05d6dce884\")) {                    Plotly.newPlot(                        \"6e227373-621c-4606-8b6f-ab05d6dce884\",                        [{\"hovertemplate\":\"<b>%{hovertext}</b><br><br>lift=%{x}<br>confidence=%{y}<br>support=%{marker.color}<extra></extra>\",\"hovertext\":[[82483],[23199,85099],[22748],[22748],[22835],[22386,23203],[20726,22384],[20726,22384],[20726,22384],[20726,22384],[20726,22384],[22726,22727],[22579,22578],[22384],[21929],[23200],[23200],[23200],[23200],[21928,22411],[20728,20727],[20728,20727],[20728,20727],[20728,20727],[23293],[23439],[22384,20727],[22384,20727],[22384,20727],[82580],[22411,23203],[20712,22386],[82482],[23203,20725],[23203,20725],[22746,22748],[22662,20726],[22578,22577],[22382,23209],[22745],[22745],[23300],[21929,22386],[23206,23209],[23206,23209],[82581],[23208,23206],[22662,20725],[22662,20725],[22662,20725],[22951],[22625],[22745,22748],[22910],[23199,23203],[23199,23203],[23199,23203],[23174],[23174],[23203],[22699],[22699],[22699],[21930,85099],[23199,22386],[22728,22727],[23172,23171],[22746],[22746],[23206,22382],[23206,22382],[22726],[21931],[22750],[22630],[22698,22697],[22698,22697],[22411,22386],[22142],[22383,20727,20725],[22383,20727,20725],[23209,20727],[23209,20727],[23209,20727],[23209,20727],[22662,22382],[22662,22382],[22662,22382],[22662,22382],[22728],[22728],[22697],[22697],[22697],[22627],[23206,20725],[23206,20725],[23206,20725],[23206,20725],[23206,20725],[23206,20728],[23173],[23173],[23173],[23173],[22866],[22866],[23199],[22382,20727],[22382,20727],[22382,20727],[22382,20727],[22382,20727],[22698,22423],[22698,22423],[23206,85099],[23200,85099],[21928,21929],[20727,20725],[20727,20725],[20727,20725],[22386],[21094],[21094],[22698,22699],[22698,22699],[23208,23209],[22629],[22356],[23201],[22384,20727,20725],[22384,20727,20725],[20726,22382],[20726,22382],[20726,22382],[20726,22382],[23200,23199],[23200,23199],[23200,23199],[22698,22697,22423],[22729],[22729],[22698,22699,22423],[23296],[23296],[21931,20725],[22662,20727],[22569],[23175],[23175],[23295],[23295],[23295],[23206,20727],[23206,20727],[23206,20727],[23266],[23266],[82482,85123],[23208],[23208],[22632],[21914],[22730,22728],[21136],[23200,23203],[23199,23201],[21733],[22384,22383,20727],[22328],[22697,22699],[22697,22699],[22804],[21928,85099],[21928,85099],[23201,23203],[23170],[23170],[23170],[84991],[22384,20728,22383],[23199,23206],[21791],[23209,22383],[23209,22383],[23209,22383],[22746,22745],[23171,23170],[21933],[22384,20725],[22384,20725],[22384,20725],[21929,85099],[21929,85099],[20728,22383,20727],[22728,22726],[22730,22727],[22730,22727],[21231],[23201,23202],[23202,85099],[20726,20728],[20726,20728],[20726,20728],[20726,20728],[20726,20728],[22579,22577],[21929,22411],[20728,22383],[20728,22383],[20728,22383],[20728,22383],[22578],[22578],[22382,22383],[22382,22383],[22382,22383],[21928,22386],[22114],[21977],[23171],[23171],[20726,20727],[20726,20727],[20726,20727],[20726,20727],[20726,20727],[23172],[23172],[23254],[22386,20725],[82494,85123],[23209,20725],[23209,20725],[23209,20725],[22383,20725],[22383,20725],[22383,20725],[22383,20725],[22384,23209],[22384,23209],[22141],[21931,22383],[20712,85099],[20726],[22662,22383],[22662,22383],[21928],[21928],[22385],[22570],[22570],[22384,22382],[22384,22382],[22384,22382],[22384,22382],[22384,22382],[20726,23206],[21124],[22384,85099],[22384,85099],[22384,85099],[22661],[22661],[21931,22386],[21670],[22727],[82494],[20723],[20726,20725],[20726,20725],[20726,20725],[20726,20725],[20726,20725],[20971],[22551],[22384,20728,20727],[22577],[23200,23202],[23206,22383],[23206,22383],[23206,22383],[23206,22383],[23206,22383],[23343],[23202],[23202],[22386,22384],[20728,85099],[23202,23203],[22697,22699,22423],[23206,22384],[20713],[20728,22383,20725],[20728,22383,20725],[21671],[23209,85099],[23209,85099],[22382,20725],[22382,20725],[22382,20725],[22382,20725],[22382,20725],[20719],[22867],[22867],[22663],[23294],[23294],[22662,22384],[20727,85099],[20727,85099],[22383,20727],[22383,20727],[22383,20727],[22383,20727],[20728,22382],[20728,22382],[20728,22382],[20728,22382],[20728,22382],[21672],[22617],[21930,22386],[21122],[22699,22423],[22699,22423],[22698,22697,22699],[22382,85099],[21931,23203],[21086],[21086],[20679],[22579],[22579],[22192],[23209,23203],[22749],[21975],[21931,22411],[21669],[21669],[23265],[23199,23202],[23199,23202],[23199,23202],[23301],[22384,22383,20725],[22384,22383,20725],[22697,22423],[22697,22423],[21932],[22384,22383],[22384,22383],[22384,22383],[20726,22383],[20726,22383],[20726,22383],[20726,22383],[20726,22383],[21668],[21668],[21668],[22725],[22725],[22730],[22730],[23172,23170],[21930],[22730,22726],[22355],[22384,20728],[22384,20728],[22384,20728],[22384,20728],[20728,20725],[20728,20725],[20728,20725],[20728,20725],[20728,20725],[22383,85099],[22383,85099],[23256],[22698],[22698],[22698],[20712],[23322],[22411],[22417],[22384,20728,20725],[22384,20728,20725],[23243],[23202,23209],[22662],[22662],[20728,20727,20725],[20728,20727,20725]],\"legendgroup\":\"\",\"marker\":{\"color\":[0.01270842721946823,0.010274898602974312,0.009734114465975665,0.01149166291122127,0.013068949977467327,0.009959441189725101,0.010815682739972961,0.00914826498422713,0.00896800360522758,0.008922938260477693,0.009058134294727354,0.012077512392969806,0.008246958089229383,0.023884632717440287,0.01910770617395223,0.010860748084722848,0.014240648940964398,0.012257773771969356,0.012077512392969806,0.008877872915727805,0.011762054979720596,0.010094637223974764,0.011356466876971609,0.01185218566922037,0.011131140153222172,0.00914826498422713,0.011762054979720596,0.01099594411897251,0.013925191527715187,0.010229833258224425,0.008697611536728257,0.008066696710229833,0.021360973411446597,0.009013068949977467,0.009238395673726904,0.008427219468228933,0.008427219468228933,0.008246958089229383,0.008382154123479044,0.009328526363226678,0.01149166291122127,0.021000450653447498,0.010049571879224875,0.010184767913474538,0.009013068949977467,0.010229833258224425,0.008021631365479946,0.008066696710229833,0.00964398377647589,0.00914826498422713,0.008562415502478594,0.01216764308246958,0.008427219468228933,0.02045966651644885,0.008517350157728707,0.010274898602974312,0.00878774222622803,0.00896800360522758,0.009373591707976567,0.025957638575935107,0.020324470482199188,0.025101397025687245,0.01946822893195133,0.008156827399729607,0.008832807570977918,0.012077512392969806,0.00847228481297882,0.009734114465975665,0.009328526363226678,0.008877872915727805,0.008337088778729157,0.024155024785939613,0.024245155475439387,0.010725552050473186,0.01910770617395223,0.01234790446146913,0.017890941865705272,0.009914375844975214,0.009193330328977017,0.008382154123479044,0.008246958089229383,0.008337088778729157,0.008246958089229383,0.008382154123479044,0.009328526363226678,0.00964398377647589,0.009238395673726904,0.00829202343397927,0.008427219468228933,0.015502478593961243,0.018161333934204597,0.021225777377196935,0.01726002703920685,0.025101397025687245,0.008517350157728707,0.008832807570977918,0.008877872915727805,0.010184767913474538,0.009914375844975214,0.009193330328977017,0.008201892744479496,0.00896800360522758,0.00878774222622803,0.008742676881478144,0.008832807570977918,0.010860748084722848,0.012663361874718341,0.020054078413699866,0.010184767913474538,0.011356466876971609,0.011581793600721046,0.010094637223974764,0.009508787742226228,0.01234790446146913,0.012212708427219469,0.00829202343397927,0.009238395673726904,0.010184767913474538,0.013925191527715187,0.01185218566922037,0.01270842721946823,0.029833258224425417,0.010635421360973412,0.010319963947724201,0.017890941865705272,0.012212708427219469,0.008021631365479946,0.01910770617395223,0.014691302388463272,0.018071203244704823,0.008697611536728257,0.008382154123479044,0.011716989634970707,0.009869310500225327,0.009508787742226228,0.00964398377647589,0.00829202343397927,0.00878774222622803,0.009238395673726904,0.010860748084722848,0.010094637223974764,0.011446597566471383,0.010860748084722848,0.009779179810725552,0.008652546191978368,0.008652546191978368,0.00829202343397927,0.009103199639477241,0.009373591707976567,0.008832807570977918,0.008652546191978368,0.00878774222622803,0.011131140153222172,0.008337088778729157,0.009103199639477241,0.009193330328977017,0.008246958089229383,0.00829202343397927,0.008156827399729607,0.013789995493465525,0.014375844975214061,0.008517350157728707,0.012257773771969356,0.00829202343397927,0.011536728255971159,0.00878774222622803,0.008697611536728257,0.02082018927444795,0.008382154123479044,0.01203244704821992,0.017890941865705272,0.014240648940964398,0.013744930148715638,0.009328526363226678,0.010184767913474538,0.008562415502478594,0.008742676881478144,0.009013068949977467,0.010455159981973862,0.01505182514646237,0.008246958089229383,0.00829202343397927,0.011266336187471835,0.009013068949977467,0.009553853086976115,0.008382154123479044,0.008427219468228933,0.00847228481297882,0.00896800360522758,0.01270842721946823,0.012753492564218117,0.013925191527715187,0.010184767913474538,0.010049571879224875,0.008246958089229383,0.012077512392969806,0.009734114465975665,0.00829202343397927,0.01167192429022082,0.008382154123479044,0.01216764308246958,0.00896800360522758,0.010590356016223525,0.00964398377647589,0.00964398377647589,0.008922938260477693,0.008246958089229383,0.009103199639477241,0.010545290671473636,0.010860748084722848,0.01252816584046868,0.011356466876971609,0.010229833258224425,0.014420910319963948,0.012302839116719243,0.011356466876971609,0.010860748084722848,0.009328526363226678,0.011762054979720596,0.01523208652546192,0.009283461018476791,0.010455159981973862,0.009058134294727354,0.009508787742226228,0.008922938260477693,0.00946372239747634,0.010455159981973862,0.009013068949977467,0.009283461018476791,0.009869310500225327,0.00946372239747634,0.008156827399729607,0.010184767913474538,0.009689049121225778,0.009553853086976115,0.012753492564218117,0.012302839116719243,0.01252816584046868,0.01270842721946823,0.009689049121225778,0.008246958089229383,0.009013068949977467,0.008201892744479496,0.008066696710229833,0.01978368634520054,0.009238395673726904,0.00914826498422713,0.012798557908968004,0.01825146462370437,0.014781433077963046,0.00914826498422713,0.009103199639477241,0.011401532221721496,0.00896800360522758,0.010184767913474538,0.010139702568724651,0.00914826498422713,0.00878774222622803,0.008337088778729157,0.010319963947724201,0.008742676881478144,0.00878774222622803,0.008562415502478594,0.008021631365479946,0.011356466876971609,0.008246958089229383,0.024155024785939613,0.021360973411446597,0.013519603424966201,0.010815682739972961,0.011716989634970707,0.010590356016223525,0.011626858945470933,0.010455159981973862,0.010635421360973412,0.013249211356466877,0.008697611536728257,0.014420910319963948,0.00829202343397927,0.008337088778729157,0.009013068949977467,0.008201892744479496,0.009914375844975214,0.009103199639477241,0.011131140153222172,0.019378098242451555,0.01942316358720144,0.00878774222622803,0.009373591707976567,0.01216764308246958,0.010860748084722848,0.008832807570977918,0.011987381703470032,0.008246958089229383,0.008246958089229383,0.00829202343397927,0.008652546191978368,0.011446597566471383,0.011401532221721496,0.012302839116719243,0.011581793600721046,0.010680486705723299,0.011716989634970707,0.013068949977467327,0.010860748084722848,0.012077512392969806,0.009508787742226228,0.009193330328977017,0.00878774222622803,0.008066696710229833,0.008742676881478144,0.010184767913474538,0.01099594411897251,0.011356466876971609,0.011356466876971609,0.01270842721946823,0.010139702568724651,0.010680486705723299,0.010860748084722848,0.010094637223974764,0.00964398377647589,0.008246958089229383,0.014060387561964848,0.008156827399729607,0.008337088778729157,0.012212708427219469,0.014240648940964398,0.010860748084722848,0.008246958089229383,0.00811176205497972,0.008652546191978368,0.010635421360973412,0.008922938260477693,0.010229833258224425,0.009058134294727354,0.00860748084722848,0.011446597566471383,0.010725552050473186,0.012077512392969806,0.009689049121225778,0.009689049121225778,0.008246958089229383,0.008246958089229383,0.008517350157728707,0.009193330328977017,0.00829202343397927,0.021000450653447498,0.008246958089229383,0.008382154123479044,0.01234790446146913,0.014240648940964398,0.00896800360522758,0.010545290671473636,0.012753492564218117,0.01099594411897251,0.008922938260477693,0.009869310500225327,0.00964398377647589,0.011626858945470933,0.00946372239747634,0.008246958089229383,0.009689049121225778,0.00829202343397927,0.009508787742226228,0.010365029292474088,0.012438035150968904,0.014330779630464172,0.00847228481297882,0.014781433077963046,0.009734114465975665,0.013564668769716088,0.01270842721946823,0.010139702568724651,0.010545290671473636,0.011762054979720596,0.01270842721946823,0.010680486705723299,0.01252816584046868,0.01185218566922037,0.010590356016223525,0.008201892744479496,0.009869310500225327,0.009869310500225327,0.014375844975214061,0.021225777377196935,0.020324470482199188,0.014601171698963498,0.01270842721946823,0.02266786840919333,0.00964398377647589,0.008246958089229383,0.008697611536728257,0.009914375844975214,0.009283461018476791,0.013925191527715187,0.016043262730959892,0.008697611536728257,0.008246958089229383],\"coloraxis\":\"coloraxis\",\"symbol\":\"circle\"},\"mode\":\"markers\",\"name\":\"\",\"orientation\":\"v\",\"showlegend\":false,\"x\":[19.651969097418505,10.36395481036125,54.06944475780069,50.82546640199046,17.84701999611726,8.659489258609181,12.396936613980772,13.932105046656131,13.823294631034257,12.796367544393606,12.869187111740757,17.63910969793323,38.4706551087111,9.298245614035087,7.1974577840065,14.440685014365645,19.933932977791926,11.558796718322698,5.868261818583704,8.85033851087608,14.329411764705883,11.683751542575072,12.377577333849814,10.324582043343652,32.037234042553195,20.82624033140231,12.539627551893094,10.906790808608015,11.039445508847063,42.28760200141039,8.046350399248475,9.281936956831625,14.243544534182686,16.719598247418407,8.186438329293159,60.221902937420175,16.384919428397687,45.81193592057762,10.04292284108329,56.68958112210896,50.825466401990454,20.999687255033365,9.043850623134663,9.896670810885482,10.957943521406014,42.28760200141039,12.692142081349091,13.516720604099245,15.35247923597438,13.713919510940215,11.281470837714966,20.396400935511657,64.06561679790026,14.35263780256728,16.637746358183378,7.3345162917732205,28.056917211328976,42.2181748649553,57.22546649308784,5.472647765180498,20.25536557128863,20.16983034915827,6.0863072562703815,13.851913420152302,8.999364761433778,18.240575167087385,59.561964591661905,54.06944475780069,56.68958112210895,10.534581646423751,12.377734761318958,16.20937550680533,7.089040099427627,34.658222863892895,21.142831460674156,6.851821800298412,22.37281463647538,9.245973423839756,33.05362462760675,15.390070921985814,14.560054213368328,13.998711006233547,12.784431137724551,11.6249345147898,10.340214308225653,10.029272619751627,12.020648577800797,10.68871273443145,13.89270935168941,15.000874502074241,15.674886898053122,24.12607945928352,6.154194292136264,20.16983034915827,21.033386327503973,11.666666666666666,11.140466676180962,12.579365079365079,11.715495229135868,10.762215417387832,13.055768379060753,42.21817486495531,6.2581353373019315,14.030937512222469,41.875583712846975,23.455219298245613,22.516529746321208,6.276206341831439,12.58552108194113,12.554821878009957,10.233513377716367,11.994855100617533,13.318759405019613,26.00238637967386,22.54912180708254,18.7287447535607,22.968462827944176,8.294147222461119,13.785850860420648,11.282752727420363,11.255672732570794,7.805259835624824,56.53808367071525,21.301655837350662,26.648164001173683,7.07732521737493,14.102370020208369,21.142831460674156,19.01066961000736,5.456287473617469,14.013926655999164,12.565463197216157,10.606099601080942,11.177504272403379,10.668828342717559,11.739550705684287,16.607660017571835,12.482403101669686,6.761583556789603,23.346270038067964,16.340635930883938,16.527070773417154,26.921613145190115,31.523600654664484,36.01420118343195,8.338186942226399,15.450307268489087,46.15348181097417,57.22546649308784,41.87558371284698,36.01420118343195,40.29661016949152,32.037234042553195,12.61415314650934,13.177269520225776,10.636184210526315,59.54208211143695,37.68306414397785,15.68534718425369,12.867961142969765,11.581173298517546,19.65483789331609,20.43838529550203,18.994133765043564,11.586285667666075,21.52675515402372,7.133289361035882,7.33401533794998,12.718291630716134,20.467085354226256,26.761172221260257,6.682028001082536,8.034700952109601,12.8298139768728,20.1670486990791,6.64536710999587,15.145159020546016,56.021206765968195,55.05967914438503,10.722226080112959,13.047908232118758,6.457181807111351,15.679762577727528,15.27090544976567,10.685959612020989,11.62097403164181,57.43850615284526,77.17404173449756,47.949984797810885,11.938073525764542,11.146399474609064,12.057025796127943,21.426972245009573,13.202131179031845,12.115914786967418,19.060152303787085,18.630967651654732,20.412554618991912,22.044286415661727,7.371210889991017,12.671766703961659,12.583559168925024,10.625445728141491,12.856141148824076,12.106300366860678,11.09676539449458,46.336779405723675,8.097662318892944,11.947483588621445,11.69025722636226,10.149257169181158,11.403598573296001,41.70776338886497,35.02416888625826,10.099311471583615,11.55530941906047,11.98951212786326,9.380460310004697,15.814251309300815,10.67381079446401,71.34046039797114,55.05967914438502,13.323863636363637,13.288103941513032,12.620702730030334,12.453765073120671,10.996411483253588,56.02120676596819,71.34046039797113,51.54006872560665,9.158050511859537,17.413202573574043,13.56716571348184,11.91607284243864,10.51181726972692,12.553865652724967,11.505357760110613,11.858235264717981,11.087176070786928,11.4971322537112,12.129812172915623,29.820459065742085,7.212690225690135,13.867975252779175,8.729878928549025,15.097693004669749,11.252141982864137,18.59380163338526,7.647114383156004,7.092648643802538,32.48925336102937,46.15348181097417,11.408392603129444,11.227301619587601,12.631772499433264,13.644002951384145,14.510743162709787,10.844736842105263,58.1383656705849,10.885140200929674,11.430156947398327,13.94544997486174,16.092906082409296,19.066610671030464,9.248341150708857,38.00226473010406,16.20937550680533,14.243544534182687,17.49448123620309,12.75626423690205,13.129012217850486,12.010590297371314,12.268154126049753,10.929015575940406,21.15407764676418,18.77348174409503,12.33736640451704,35.024168886258266,22.92522698049961,11.328864505660086,12.054737962917692,11.280382550598016,10.139575457981971,11.53985572541488,23.57835461334618,11.179941555961223,5.77403369553274,8.26192303726701,10.267206477732794,6.544507193026533,28.635171025295033,11.198990627253064,6.648554336427524,15.359712230215827,13.613314381113936,40.626871909173225,9.796233703524868,15.712186976435595,12.560283687943263,12.125197654170254,11.30818345858698,11.313878192027193,14.630892906956102,15.81319342908747,23.455219298245613,21.251143510577474,6.894033874646434,32.64882798413271,40.29661016949152,12.654549509366635,11.943711521547932,9.948895986668518,12.191291934332618,11.962085024183525,12.107226601827815,10.074833765355573,13.29113924050633,10.010526315789473,12.736320659228124,11.727582667783455,14.328872527572003,37.70375666190043,17.900759904746884,9.113598046757113,58.1383656705849,23.553495331202605,22.1440301146986,7.14994892693075,10.420513741692114,8.228473956144471,20.366556718772408,56.53808367071525,28.73901098901099,41.70776338886497,34.627460114126,28.90564364876385,5.962554851704688,34.6582228638929,10.738156630770009,8.822392680013166,38.5295946633501,38.00226473010407,59.542082111436955,13.367384666381932,7.434397448488572,29.991772932949402,20.999687255033365,14.508605258550773,13.592022630648195,26.860964952971685,21.899758891651153,47.949984797810885,12.995575088348065,11.687206878582593,12.490103623596283,12.622950819672132,13.264358592227444,13.118787537226432,11.76100086281277,11.86576627503705,37.70375666190043,38.5295946633501,40.626871909173225,17.276128627566738,16.79705112804226,15.771631644004943,16.2082414553473,75.84945454545455,7.212355793908909,19.146733138392214,14.818440990826094,10.89108187134503,11.54574592074592,11.30722797115083,12.49436936936937,14.120171673819742,11.274197905099191,12.453256028972985,11.671519825286289,13.337587665675978,14.221904503660612,10.177833162292918,51.54006872560665,6.357401000858598,24.12607945928352,20.25536557128863,6.740450522159064,20.496092444956865,6.545112409394316,11.153137029703899,13.546466243670062,14.15356295400316,9.565742188571587,16.802202487723118,8.521357111787733,13.044211986360747,17.12294043092522,14.525108291691854],\"xaxis\":\"x\",\"y\":[0.5136612021857924,0.5123595505617977,0.6189111747851003,0.7306590257879656,0.5686274509803921,0.8308270676691729,0.7430340557275542,0.628482972136223,0.6160990712074303,0.6130030959752322,0.6222910216718266,0.5,0.8061674008810573,0.5573080967402734,0.6905537459283387,0.5063025210084033,0.6638655462184874,0.5714285714285714,0.5630252100840336,0.8491379310344828,0.6141176470588235,0.5270588235294118,0.5929411764705882,0.6188235294117647,0.5255319148936171,0.5471698113207547,0.5588865096359743,0.5224839400428265,0.6616702355460385,0.5850515463917526,0.772,0.8905472636815921,0.5302013422818792,0.7662835249042146,0.7854406130268199,0.8657407407407407,0.7391304347826086,0.571875,0.6019417475728155,0.6489028213166145,0.799373040752351,0.7258566978193146,0.867704280155642,0.5931758530183727,0.5249343832020997,0.739413680781759,0.5816993464052288,0.5792880258899676,0.6925566343042071,0.656957928802589,0.5292479108635098,0.5781584582441114,0.7333333333333333,0.6403385049365303,0.5833333333333334,0.7037037037037037,0.6018518518518519,0.6982456140350877,0.7298245614035088,0.5250683682771194,0.5394736842105263,0.666267942583732,0.5167464114832536,0.551829268292683,0.8634361233480177,0.6650124069478908,0.912621359223301,0.8503937007874016,0.8149606299212598,0.6314102564102564,0.592948717948718,0.6625463535228677,0.6801517067003793,0.6263157894736842,0.6784,0.5817409766454352,0.8428874734607219,0.8870967741935484,0.631578947368421,0.6595744680851063,0.648936170212766,0.5538922155688623,0.5479041916167665,0.5568862275449101,0.6197604790419161,0.601123595505618,0.5758426966292135,0.5168539325842697,0.5252808988764045,0.5468998410174881,0.6406995230524642,0.6425648021828103,0.5225102319236017,0.7598908594815825,0.5962145110410094,0.5,0.5025510204081632,0.576530612244898,0.5612244897959183,0.5204081632653061,0.6254295532646048,0.5422343324250681,0.5313351498637602,0.5286103542234333,0.5340599455040872,0.5073684210526316,0.5915789473684211,0.6021650879566982,0.5393794749403341,0.6014319809069213,0.6133651551312649,0.5346062052505967,0.5035799522673031,0.8589341692789969,0.8495297805642633,0.6237288135593221,0.7649253731343284,0.795774647887324,0.5908221797323135,0.502868068833652,0.5391969407265774,0.748868778280543,0.7261538461538461,0.7046153846153846,0.8802660753880266,0.6008869179600886,0.5579937304075235,0.5955056179775281,0.6468253968253969,0.5234986945169713,0.6245954692556634,0.6019417475728155,0.6356968215158925,0.5354523227383863,0.5158924205378973,0.5232273838630807,0.5822784810126582,0.6170886075949367,0.6487341772151899,0.8795620437956204,0.5957446808510638,0.675531914893617,0.8892988929889298,0.6676923076923077,0.5907692307692308,0.8,0.696969696969697,0.6801346801346801,0.734982332155477,0.6925795053003534,0.5274725274725275,0.5357142857142857,0.6785714285714286,0.578125,0.63125,0.6375,0.6654545454545454,0.6690909090909091,0.5838709677419355,0.5091514143094842,0.5307820299500832,0.5163934426229508,0.5240847784200385,0.7763713080168776,0.7231638418079096,0.7169117647058824,0.6843971631205674,0.6676300578034682,0.7622950819672131,0.5644820295983086,0.7127468581687613,0.5673249551166966,0.7314148681055156,0.5111111111111111,0.5580246913580247,0.6375838926174496,0.5705882352941176,0.5882352941176471,0.6823529411764706,0.5030120481927711,0.782051282051282,0.6195286195286195,0.5122950819672131,0.6042296072507553,0.6404833836858006,0.5619335347432024,0.9033816425120773,0.8103448275862069,0.6958041958041958,0.5320754716981132,0.5339622641509434,0.5830188679245283,0.5330188679245284,0.5259433962264151,0.7261904761904762,0.7790697674418605,0.6792452830188679,0.5786163522012578,0.6348039215686274,0.7072243346007605,0.6264501160092807,0.5392953929539296,0.6368563685636857,0.5799457994579946,0.5799457994579946,0.5365853658536586,0.9104477611940298,0.7769230769230769,0.5120350109409191,0.5273522975929978,0.6083150984682714,0.5514223194748359,0.5206422018348624,0.7339449541284404,0.6053215077605322,0.5587583148558758,0.5343680709534369,0.9,0.5038610038610039,0.5007407407407407,0.7490909090909091,0.8436363636363636,0.5710227272727273,0.5994318181818182,0.5625,0.5965909090909091,0.6590909090909091,0.8583690987124464,0.8841201716738197,0.7711267605633803,0.8786610878661087,0.7015503875968992,0.5368171021377672,0.5106888361045131,0.503562945368171,0.5380228136882129,0.5190114068441065,0.5285171102661597,0.5361216730038023,0.6891025641025641,0.5865384615384616,0.5698005698005698,0.6920152091254753,0.5524691358024691,0.5232419547079857,0.6810631229235881,0.6744186046511628,0.5144927536231884,0.7336956521739131,0.6804979253112033,0.6207951070336392,0.617737003058104,0.6837837837837838,0.5378378378378378,0.6108108108108108,0.6081081081081081,0.5486486486486486,0.65,0.8043478260869565,0.6524216524216524,0.5527065527065527,0.5555555555555556,0.547550432276657,0.5129682997118156,0.8873239436619719,0.6182432432432432,0.5909592061742006,0.5738498789346247,0.5952380952380952,0.5466970387243736,0.592255125284738,0.5353075170842825,0.5876993166287016,0.5284738041002278,0.5119305856832972,0.5008517887563884,0.7394636015325671,0.6881720430107527,0.7634854771784232,0.511049723756906,0.5524861878453039,0.5027624309392266,0.6077348066298343,0.5580110497237569,0.6301020408163265,0.5526992287917738,0.5539845758354756,0.7926829268292683,0.6153846153846154,0.627906976744186,0.7626582278481012,0.6712328767123288,0.6378896882494005,0.658273381294964,0.658273381294964,0.6279863481228669,0.5871559633027523,0.7767584097859327,0.5382978723404256,0.5808510638297872,0.5468085106382978,0.5042553191489362,0.5531914893617021,0.5380333951762524,0.5020833333333333,0.5583333333333333,0.6614420062695925,0.6915254237288135,0.6610169491525424,0.7584745762711864,0.5118733509234829,0.5963060686015831,0.5224839400428265,0.5396145610278372,0.5396145610278372,0.6038543897216274,0.569620253164557,0.6,0.610126582278481,0.5670886075949367,0.5417721518987342,0.5828025477707006,0.7107061503416856,0.8743961352657005,0.6026058631921825,0.6273148148148148,0.7314814814814815,0.6070528967254408,0.6245733788395904,0.7894736842105263,0.6736842105263158,0.8280701754385965,0.7252747252747253,0.8194945848375451,0.7256317689530686,0.553623188405797,0.5720720720720721,0.5935162094763092,0.5037593984962406,0.8464566929133859,0.5955678670360111,0.5069252077562327,0.7379032258064516,0.6608391608391608,0.7132867132867133,0.6433566433566433,0.6075619295958279,0.6466431095406361,0.657243816254417,0.7154046997389034,0.825065274151436,0.6180124223602484,0.5792079207920792,0.7004950495049505,0.6039603960396039,0.5409836065573771,0.5983606557377049,0.5846994535519126,0.7049180327868853,0.5737704918032787,0.5335276967930029,0.6268221574344023,0.5364431486880467,0.6298507462686567,0.6865671641791045,0.575,0.6625,0.94,0.6919831223628692,0.782608695652174,0.5041876046901173,0.6527777777777778,0.5208333333333334,0.5416666666666666,0.6041666666666666,0.6051502145922747,0.5085836909871244,0.5965665236051502,0.5643776824034334,0.5042918454935622,0.5069637883008357,0.6100278551532033,0.6596385542168675,0.5397631133671743,0.7969543147208121,0.7631133671742809,0.6467065868263473,0.5412667946257198,0.6279650436953808,0.5232273838630807,0.648936170212766,0.6843971631205674,0.5250596658711217,0.8306451612903226,0.5107438016528926,0.5884297520661157,0.7338403041825095,0.6958174904942965],\"yaxis\":\"y\",\"type\":\"scatter\"}],                        {\"template\":{\"data\":{\"histogram2dcontour\":[{\"type\":\"histogram2dcontour\",\"colorbar\":{\"outlinewidth\":0,\"ticks\":\"\"},\"colorscale\":[[0.0,\"#0d0887\"],[0.1111111111111111,\"#46039f\"],[0.2222222222222222,\"#7201a8\"],[0.3333333333333333,\"#9c179e\"],[0.4444444444444444,\"#bd3786\"],[0.5555555555555556,\"#d8576b\"],[0.6666666666666666,\"#ed7953\"],[0.7777777777777778,\"#fb9f3a\"],[0.8888888888888888,\"#fdca26\"],[1.0,\"#f0f921\"]]}],\"choropleth\":[{\"type\":\"choropleth\",\"colorbar\":{\"outlinewidth\":0,\"ticks\":\"\"}}],\"histogram2d\":[{\"type\":\"histogram2d\",\"colorbar\":{\"outlinewidth\":0,\"ticks\":\"\"},\"colorscale\":[[0.0,\"#0d0887\"],[0.1111111111111111,\"#46039f\"],[0.2222222222222222,\"#7201a8\"],[0.3333333333333333,\"#9c179e\"],[0.4444444444444444,\"#bd3786\"],[0.5555555555555556,\"#d8576b\"],[0.6666666666666666,\"#ed7953\"],[0.7777777777777778,\"#fb9f3a\"],[0.8888888888888888,\"#fdca26\"],[1.0,\"#f0f921\"]]}],\"heatmap\":[{\"type\":\"heatmap\",\"colorbar\":{\"outlinewidth\":0,\"ticks\":\"\"},\"colorscale\":[[0.0,\"#0d0887\"],[0.1111111111111111,\"#46039f\"],[0.2222222222222222,\"#7201a8\"],[0.3333333333333333,\"#9c179e\"],[0.4444444444444444,\"#bd3786\"],[0.5555555555555556,\"#d8576b\"],[0.6666666666666666,\"#ed7953\"],[0.7777777777777778,\"#fb9f3a\"],[0.8888888888888888,\"#fdca26\"],[1.0,\"#f0f921\"]]}],\"heatmapgl\":[{\"type\":\"heatmapgl\",\"colorbar\":{\"outlinewidth\":0,\"ticks\":\"\"},\"colorscale\":[[0.0,\"#0d0887\"],[0.1111111111111111,\"#46039f\"],[0.2222222222222222,\"#7201a8\"],[0.3333333333333333,\"#9c179e\"],[0.4444444444444444,\"#bd3786\"],[0.5555555555555556,\"#d8576b\"],[0.6666666666666666,\"#ed7953\"],[0.7777777777777778,\"#fb9f3a\"],[0.8888888888888888,\"#fdca26\"],[1.0,\"#f0f921\"]]}],\"contourcarpet\":[{\"type\":\"contourcarpet\",\"colorbar\":{\"outlinewidth\":0,\"ticks\":\"\"}}],\"contour\":[{\"type\":\"contour\",\"colorbar\":{\"outlinewidth\":0,\"ticks\":\"\"},\"colorscale\":[[0.0,\"#0d0887\"],[0.1111111111111111,\"#46039f\"],[0.2222222222222222,\"#7201a8\"],[0.3333333333333333,\"#9c179e\"],[0.4444444444444444,\"#bd3786\"],[0.5555555555555556,\"#d8576b\"],[0.6666666666666666,\"#ed7953\"],[0.7777777777777778,\"#fb9f3a\"],[0.8888888888888888,\"#fdca26\"],[1.0,\"#f0f921\"]]}],\"surface\":[{\"type\":\"surface\",\"colorbar\":{\"outlinewidth\":0,\"ticks\":\"\"},\"colorscale\":[[0.0,\"#0d0887\"],[0.1111111111111111,\"#46039f\"],[0.2222222222222222,\"#7201a8\"],[0.3333333333333333,\"#9c179e\"],[0.4444444444444444,\"#bd3786\"],[0.5555555555555556,\"#d8576b\"],[0.6666666666666666,\"#ed7953\"],[0.7777777777777778,\"#fb9f3a\"],[0.8888888888888888,\"#fdca26\"],[1.0,\"#f0f921\"]]}],\"mesh3d\":[{\"type\":\"mesh3d\",\"colorbar\":{\"outlinewidth\":0,\"ticks\":\"\"}}],\"scatter\":[{\"fillpattern\":{\"fillmode\":\"overlay\",\"size\":10,\"solidity\":0.2},\"type\":\"scatter\"}],\"parcoords\":[{\"type\":\"parcoords\",\"line\":{\"colorbar\":{\"outlinewidth\":0,\"ticks\":\"\"}}}],\"scatterpolargl\":[{\"type\":\"scatterpolargl\",\"marker\":{\"colorbar\":{\"outlinewidth\":0,\"ticks\":\"\"}}}],\"bar\":[{\"error_x\":{\"color\":\"#2a3f5f\"},\"error_y\":{\"color\":\"#2a3f5f\"},\"marker\":{\"line\":{\"color\":\"#E5ECF6\",\"width\":0.5},\"pattern\":{\"fillmode\":\"overlay\",\"size\":10,\"solidity\":0.2}},\"type\":\"bar\"}],\"scattergeo\":[{\"type\":\"scattergeo\",\"marker\":{\"colorbar\":{\"outlinewidth\":0,\"ticks\":\"\"}}}],\"scatterpolar\":[{\"type\":\"scatterpolar\",\"marker\":{\"colorbar\":{\"outlinewidth\":0,\"ticks\":\"\"}}}],\"histogram\":[{\"marker\":{\"pattern\":{\"fillmode\":\"overlay\",\"size\":10,\"solidity\":0.2}},\"type\":\"histogram\"}],\"scattergl\":[{\"type\":\"scattergl\",\"marker\":{\"colorbar\":{\"outlinewidth\":0,\"ticks\":\"\"}}}],\"scatter3d\":[{\"type\":\"scatter3d\",\"line\":{\"colorbar\":{\"outlinewidth\":0,\"ticks\":\"\"}},\"marker\":{\"colorbar\":{\"outlinewidth\":0,\"ticks\":\"\"}}}],\"scattermapbox\":[{\"type\":\"scattermapbox\",\"marker\":{\"colorbar\":{\"outlinewidth\":0,\"ticks\":\"\"}}}],\"scatterternary\":[{\"type\":\"scatterternary\",\"marker\":{\"colorbar\":{\"outlinewidth\":0,\"ticks\":\"\"}}}],\"scattercarpet\":[{\"type\":\"scattercarpet\",\"marker\":{\"colorbar\":{\"outlinewidth\":0,\"ticks\":\"\"}}}],\"carpet\":[{\"aaxis\":{\"endlinecolor\":\"#2a3f5f\",\"gridcolor\":\"white\",\"linecolor\":\"white\",\"minorgridcolor\":\"white\",\"startlinecolor\":\"#2a3f5f\"},\"baxis\":{\"endlinecolor\":\"#2a3f5f\",\"gridcolor\":\"white\",\"linecolor\":\"white\",\"minorgridcolor\":\"white\",\"startlinecolor\":\"#2a3f5f\"},\"type\":\"carpet\"}],\"table\":[{\"cells\":{\"fill\":{\"color\":\"#EBF0F8\"},\"line\":{\"color\":\"white\"}},\"header\":{\"fill\":{\"color\":\"#C8D4E3\"},\"line\":{\"color\":\"white\"}},\"type\":\"table\"}],\"barpolar\":[{\"marker\":{\"line\":{\"color\":\"#E5ECF6\",\"width\":0.5},\"pattern\":{\"fillmode\":\"overlay\",\"size\":10,\"solidity\":0.2}},\"type\":\"barpolar\"}],\"pie\":[{\"automargin\":true,\"type\":\"pie\"}]},\"layout\":{\"autotypenumbers\":\"strict\",\"colorway\":[\"#636efa\",\"#EF553B\",\"#00cc96\",\"#ab63fa\",\"#FFA15A\",\"#19d3f3\",\"#FF6692\",\"#B6E880\",\"#FF97FF\",\"#FECB52\"],\"font\":{\"color\":\"#2a3f5f\"},\"hovermode\":\"closest\",\"hoverlabel\":{\"align\":\"left\"},\"paper_bgcolor\":\"white\",\"plot_bgcolor\":\"#E5ECF6\",\"polar\":{\"bgcolor\":\"#E5ECF6\",\"angularaxis\":{\"gridcolor\":\"white\",\"linecolor\":\"white\",\"ticks\":\"\"},\"radialaxis\":{\"gridcolor\":\"white\",\"linecolor\":\"white\",\"ticks\":\"\"}},\"ternary\":{\"bgcolor\":\"#E5ECF6\",\"aaxis\":{\"gridcolor\":\"white\",\"linecolor\":\"white\",\"ticks\":\"\"},\"baxis\":{\"gridcolor\":\"white\",\"linecolor\":\"white\",\"ticks\":\"\"},\"caxis\":{\"gridcolor\":\"white\",\"linecolor\":\"white\",\"ticks\":\"\"}},\"coloraxis\":{\"colorbar\":{\"outlinewidth\":0,\"ticks\":\"\"}},\"colorscale\":{\"sequential\":[[0.0,\"#0d0887\"],[0.1111111111111111,\"#46039f\"],[0.2222222222222222,\"#7201a8\"],[0.3333333333333333,\"#9c179e\"],[0.4444444444444444,\"#bd3786\"],[0.5555555555555556,\"#d8576b\"],[0.6666666666666666,\"#ed7953\"],[0.7777777777777778,\"#fb9f3a\"],[0.8888888888888888,\"#fdca26\"],[1.0,\"#f0f921\"]],\"sequentialminus\":[[0.0,\"#0d0887\"],[0.1111111111111111,\"#46039f\"],[0.2222222222222222,\"#7201a8\"],[0.3333333333333333,\"#9c179e\"],[0.4444444444444444,\"#bd3786\"],[0.5555555555555556,\"#d8576b\"],[0.6666666666666666,\"#ed7953\"],[0.7777777777777778,\"#fb9f3a\"],[0.8888888888888888,\"#fdca26\"],[1.0,\"#f0f921\"]],\"diverging\":[[0,\"#8e0152\"],[0.1,\"#c51b7d\"],[0.2,\"#de77ae\"],[0.3,\"#f1b6da\"],[0.4,\"#fde0ef\"],[0.5,\"#f7f7f7\"],[0.6,\"#e6f5d0\"],[0.7,\"#b8e186\"],[0.8,\"#7fbc41\"],[0.9,\"#4d9221\"],[1,\"#276419\"]]},\"xaxis\":{\"gridcolor\":\"white\",\"linecolor\":\"white\",\"ticks\":\"\",\"title\":{\"standoff\":15},\"zerolinecolor\":\"white\",\"automargin\":true,\"zerolinewidth\":2},\"yaxis\":{\"gridcolor\":\"white\",\"linecolor\":\"white\",\"ticks\":\"\",\"title\":{\"standoff\":15},\"zerolinecolor\":\"white\",\"automargin\":true,\"zerolinewidth\":2},\"scene\":{\"xaxis\":{\"backgroundcolor\":\"#E5ECF6\",\"gridcolor\":\"white\",\"linecolor\":\"white\",\"showbackground\":true,\"ticks\":\"\",\"zerolinecolor\":\"white\",\"gridwidth\":2},\"yaxis\":{\"backgroundcolor\":\"#E5ECF6\",\"gridcolor\":\"white\",\"linecolor\":\"white\",\"showbackground\":true,\"ticks\":\"\",\"zerolinecolor\":\"white\",\"gridwidth\":2},\"zaxis\":{\"backgroundcolor\":\"#E5ECF6\",\"gridcolor\":\"white\",\"linecolor\":\"white\",\"showbackground\":true,\"ticks\":\"\",\"zerolinecolor\":\"white\",\"gridwidth\":2}},\"shapedefaults\":{\"line\":{\"color\":\"#2a3f5f\"}},\"annotationdefaults\":{\"arrowcolor\":\"#2a3f5f\",\"arrowhead\":0,\"arrowwidth\":1},\"geo\":{\"bgcolor\":\"white\",\"landcolor\":\"#E5ECF6\",\"subunitcolor\":\"white\",\"showland\":true,\"showlakes\":true,\"lakecolor\":\"white\"},\"title\":{\"x\":0.05},\"mapbox\":{\"style\":\"light\"}}},\"xaxis\":{\"anchor\":\"y\",\"domain\":[0.0,1.0],\"title\":{\"text\":\"lift\"}},\"yaxis\":{\"anchor\":\"x\",\"domain\":[0.0,1.0],\"title\":{\"text\":\"Confidence\"}},\"coloraxis\":{\"colorbar\":{\"title\":{\"text\":\"support\"}},\"colorscale\":[[0.0,\"#0d0887\"],[0.1111111111111111,\"#46039f\"],[0.2222222222222222,\"#7201a8\"],[0.3333333333333333,\"#9c179e\"],[0.4444444444444444,\"#bd3786\"],[0.5555555555555556,\"#d8576b\"],[0.6666666666666666,\"#ed7953\"],[0.7777777777777778,\"#fb9f3a\"],[0.8888888888888888,\"#fdca26\"],[1.0,\"#f0f921\"]]},\"legend\":{\"tracegroupgap\":0},\"margin\":{\"t\":60},\"font\":{\"size\":12}},                        {\"responsive\": true}                    ).then(function(){\n",
              "                            \n",
              "var gd = document.getElementById('6e227373-621c-4606-8b6f-ab05d6dce884');\n",
              "var x = new MutationObserver(function (mutations, observer) {{\n",
              "        var display = window.getComputedStyle(gd).display;\n",
              "        if (!display || display === 'none') {{\n",
              "            console.log([gd, 'removed!']);\n",
              "            Plotly.purge(gd);\n",
              "            observer.disconnect();\n",
              "        }}\n",
              "}});\n",
              "\n",
              "// Listen for the removal of the full notebook cells\n",
              "var notebookContainer = gd.closest('#notebook-container');\n",
              "if (notebookContainer) {{\n",
              "    x.observe(notebookContainer, {childList: true});\n",
              "}}\n",
              "\n",
              "// Listen for the clearing of the current output cell\n",
              "var outputEl = gd.closest('.output');\n",
              "if (outputEl) {{\n",
              "    x.observe(outputEl, {childList: true});\n",
              "}}\n",
              "\n",
              "                        })                };                            </script>        </div>\n",
              "</body>\n",
              "</html>"
            ]
          },
          "metadata": {},
          "output_type": "display_data"
        }
      ],
      "source": [
        "# Convert the evaluation metrics to a Pandas DataFrame\n",
        "eval_metrics_pd = eval_metrics.toPandas()\n",
        "\n",
        "# Create a scatter plot of association rules with rule labels and support values\n",
        "fig = px.scatter(eval_metrics_pd, x=\"lift\", y=\"confidence\", hover_name=\"antecedent\", size_max=10, color=\"support\")\n",
        "\n",
        "# Update the axis titles and font size\n",
        "fig.update_layout(\n",
        "    xaxis_title=\"lift\",\n",
        "    yaxis_title=\"Confidence\",\n",
        "    font=dict(size=12)\n",
        ")\n",
        "\n",
        "# Show the plot\n",
        "fig.show()"
      ]
    },
    {
      "cell_type": "markdown",
      "metadata": {
        "id": "2XiNRbqTr8V7"
      },
      "source": [
        "# Feature Engineering"
      ]
    },
    {
      "cell_type": "markdown",
      "metadata": {
        "id": "6MmXdC9C_OuD"
      },
      "source": [
        "* Recency - How recently did this customer make his/her last\n",
        "purchase?\n",
        "* Frequency - How often did this customer make purchases?\n",
        "* Monetary value - How much did this customer spend?"
      ]
    },
    {
      "cell_type": "markdown",
      "metadata": {
        "id": "XNB2hBXxx9wG"
      },
      "source": [
        "## basket price"
      ]
    },
    {
      "cell_type": "code",
      "execution_count": 45,
      "metadata": {
        "colab": {
          "base_uri": "https://localhost:8080/"
        },
        "id": "fm0YfpKE5YPF",
        "outputId": "c7b18170-a6ac-471a-8e9f-42f5a3bb15a6"
      },
      "outputs": [
        {
          "name": "stdout",
          "output_type": "stream",
          "text": [
            "+----------+---------+------------------+\n",
            "|CustomerID|InvoiceNo|         TotalCost|\n",
            "+----------+---------+------------------+\n",
            "|   12346.0|  C541433|          -77183.6|\n",
            "|   12346.0|   541431|           77183.6|\n",
            "|   12347.0|   562032|            584.91|\n",
            "|   12347.0|   542237|475.39000000000004|\n",
            "|   12347.0|   549222|            636.25|\n",
            "+----------+---------+------------------+\n",
            "only showing top 5 rows\n",
            "\n"
          ]
        }
      ],
      "source": [
        "# Define a function to compute the total cost for each basket\n",
        "def calculate_basket_total(row):\n",
        "    customer_id, invoice_no, quantity, unit_price = row\n",
        "    total_cost = quantity * unit_price\n",
        "    return ((customer_id, invoice_no), total_cost)\n",
        "rdd = df_spark_filtered.rdd.map(lambda row: calculate_basket_total((row['CustomerID'], row['InvoiceNo'], row['Quantity'], row['UnitPrice'])))\n",
        "basket_rdd = rdd.reduceByKey(lambda a, b: a + b)\n",
        "basket_price = basket_rdd.map(lambda row: (row[0][0], row[0][1], row[1])).toDF(['CustomerID', 'InvoiceNo', 'TotalCost'])\n",
        "basket_price = basket_price.sort('CustomerID')\n",
        "show_df( basket_price)"
      ]
    },
    {
      "cell_type": "code",
      "execution_count": 46,
      "metadata": {
        "colab": {
          "base_uri": "https://localhost:8080/"
        },
        "id": "WuOt9oo_8dsf",
        "outputId": "a5278fea-13bd-4450-a488-2ac4e573942e"
      },
      "outputs": [
        {
          "name": "stdout",
          "output_type": "stream",
          "text": [
            "+-------+------------------+\n",
            "|summary|         TotalCost|\n",
            "+-------+------------------+\n",
            "|  count|             22190|\n",
            "|   mean| 373.0743318611986|\n",
            "| stddev|2017.7640578059631|\n",
            "|    min|         -168469.6|\n",
            "|    max|          168469.6|\n",
            "+-------+------------------+\n",
            "\n"
          ]
        }
      ],
      "source": [
        "# stats of total cost in basket price\n",
        "df_stats(basket_price.select('TotalCost'))"
      ]
    },
    {
      "cell_type": "code",
      "execution_count": 47,
      "metadata": {
        "colab": {
          "base_uri": "https://localhost:8080/",
          "height": 472
        },
        "id": "3mvu0Whf9Fa_",
        "outputId": "d1d6472c-3110-4e81-f9e9-03c48a20b873"
      },
      "outputs": [
        {
          "data": {
            "image/png": "[encoded data removed]",
            "text/plain": [
              "<Figure size 640x480 with 1 Axes>"
            ]
          },
          "metadata": {},
          "output_type": "display_data"
        }
      ],
      "source": [
        "values_distribution(basket_price,'TotalCost',bins=5000,xlim=10000,xlabel='TotalCost',ylabel='Frequency',title='Distribution of basket prices')"
      ]
    },
    {
      "cell_type": "markdown",
      "metadata": {
        "id": "llPLy-NlyBXO"
      },
      "source": [
        "## Avg Purchase Value"
      ]
    },
    {
      "cell_type": "code",
      "execution_count": 48,
      "metadata": {
        "colab": {
          "base_uri": "https://localhost:8080/"
        },
        "id": "VcQ4WgP79vy8",
        "outputId": "0991dcbb-e7a1-4804-9216-756b09bf516f"
      },
      "outputs": [
        {
          "name": "stdout",
          "output_type": "stream",
          "text": [
            "+----------+------------------+\n",
            "|CustomerID|  AvgPurchaseValue|\n",
            "+----------+------------------+\n",
            "|   12346.0|               0.0|\n",
            "|   12347.0| 615.7142857142857|\n",
            "|   12348.0|            449.31|\n",
            "|   12349.0|1757.5500000000006|\n",
            "|   12350.0|             334.4|\n",
            "+----------+------------------+\n",
            "only showing top 5 rows\n",
            "\n"
          ]
        }
      ],
      "source": [
        "def calculate_customer_stats(row):\n",
        "    customer_id, total_cost = row\n",
        "    return (customer_id, (total_cost, 1))\n",
        "\n",
        "rdd = basket_price.rdd.map(lambda row: (row['CustomerID'], row['TotalCost'])).map(calculate_customer_stats)\n",
        "\n",
        "customer_rdd = rdd.reduceByKey(lambda a, b: (a[0] + b[0], a[1] + b[1]))\n",
        "\n",
        "avg_purchase_value_rdd = customer_rdd.map(lambda row: (row[0], row[1][0] / row[1][1]))\n",
        "\n",
        "avg_purchase_value = avg_purchase_value_rdd.toDF(['CustomerID', 'AvgPurchaseValue'])\n",
        "\n",
        "show_df(avg_purchase_value)"
      ]
    },
    {
      "cell_type": "code",
      "execution_count": 49,
      "metadata": {
        "colab": {
          "base_uri": "https://localhost:8080/"
        },
        "id": "FOFpZ52O-LXM",
        "outputId": "00c0b482-b110-426e-d2b0-e79f28e9cb7b"
      },
      "outputs": [
        {
          "name": "stdout",
          "output_type": "stream",
          "text": [
            "+-------+------------------+\n",
            "|summary|  AvgPurchaseValue|\n",
            "+-------+------------------+\n",
            "|  count|              4372|\n",
            "|   mean| 314.4926926292022|\n",
            "| stddev|360.85543304917604|\n",
            "|    min|          -4287.63|\n",
            "|    max|           6207.67|\n",
            "+-------+------------------+\n",
            "\n"
          ]
        }
      ],
      "source": [
        "df_stats(avg_purchase_value.select('AvgPurchaseValue'))"
      ]
    },
    {
      "cell_type": "code",
      "execution_count": 50,
      "metadata": {
        "colab": {
          "base_uri": "https://localhost:8080/"
        },
        "id": "M_XNReZ8-USI",
        "outputId": "5d4979f2-1581-4c80-a68b-60e03a77dc65"
      },
      "outputs": [
        {
          "name": "stdout",
          "output_type": "stream",
          "text": [
            "transactions before removing customers with negative avg purchase value:  401604\n",
            "transactions after removing customers with negative avg purchase value:  401376\n"
          ]
        }
      ],
      "source": [
        "avg_purchase_value.filter(avg_purchase_value['AvgPurchaseValue'] < 0).count()\n",
        "customers_with_neg_avg_purchase_value = avg_purchase_value.filter(avg_purchase_value['AvgPurchaseValue'] < 0).select('CustomerID','AvgPurchaseValue').collect()\n",
        "\n",
        "print(\"transactions before removing customers with negative avg purchase value: \", df_spark_filtered.count())\n",
        "df_spark_filtered = df_spark_filtered.filter(~df_spark_filtered['CustomerID'].isin([x['CustomerID'] for x in customers_with_neg_avg_purchase_value]))\n",
        "print(\"transactions after removing customers with negative avg purchase value: \", df_spark_filtered.count())\n"
      ]
    },
    {
      "cell_type": "code",
      "execution_count": 51,
      "metadata": {
        "id": "GKOzbKZe_VdS"
      },
      "outputs": [],
      "source": [
        "avg_purchase_value = avg_purchase_value.filter(~avg_purchase_value['CustomerID'].isin([x['CustomerID'] for x in customers_with_neg_avg_purchase_value]))\n",
        "basket_price = basket_price.filter(~basket_price['CustomerID'].isin([x['CustomerID'] for x in customers_with_neg_avg_purchase_value]))"
      ]
    },
    {
      "cell_type": "code",
      "execution_count": 52,
      "metadata": {
        "colab": {
          "base_uri": "https://localhost:8080/"
        },
        "id": "UNz6HWsV_hzm",
        "outputId": "1ee6710c-5bff-4e94-9523-2bb0651b9b4a"
      },
      "outputs": [
        {
          "name": "stdout",
          "output_type": "stream",
          "text": [
            "+-------+------------------+\n",
            "|summary|  AvgPurchaseValue|\n",
            "+-------+------------------+\n",
            "|  count|              4330|\n",
            "|   mean| 320.1514824114407|\n",
            "| stddev|350.99029037640355|\n",
            "|    min|               0.0|\n",
            "|    max|           6207.67|\n",
            "+-------+------------------+\n",
            "\n"
          ]
        }
      ],
      "source": [
        "df_stats(avg_purchase_value.select('AvgPurchaseValue'))"
      ]
    },
    {
      "cell_type": "code",
      "execution_count": 53,
      "metadata": {
        "colab": {
          "base_uri": "https://localhost:8080/"
        },
        "id": "ajv_IxN6_4Rh",
        "outputId": "21e93b51-a5ca-4dc1-c66c-35f805bd0caa"
      },
      "outputs": [
        {
          "name": "stdout",
          "output_type": "stream",
          "text": [
            "+-------+------------------+\n",
            "|summary|         TotalCost|\n",
            "+-------+------------------+\n",
            "|  count|             22125|\n",
            "|   mean|374.76829667796596|\n",
            "| stddev|2020.1886771074198|\n",
            "|    min|         -168469.6|\n",
            "|    max|          168469.6|\n",
            "+-------+------------------+\n",
            "\n"
          ]
        }
      ],
      "source": [
        "# stats of total cost in basket price\n",
        "df_stats(basket_price.select('TotalCost'))"
      ]
    },
    {
      "cell_type": "code",
      "execution_count": 54,
      "metadata": {
        "colab": {
          "base_uri": "https://localhost:8080/",
          "height": 831
        },
        "id": "BbMsVR4-AEBJ",
        "outputId": "27ce5950-d975-4104-dc6d-30ea24d09d9d"
      },
      "outputs": [
        {
          "data": {
            "image/png": "[encoded data removed]",
            "text/plain": [
              "<Figure size 1000x1500 with 1 Axes>"
            ]
          },
          "metadata": {},
          "output_type": "display_data"
        }
      ],
      "source": [
        "# construct ranges for the basket prices and count the number of baskets in each range\n",
        "ranges = [-168469.6,0, 100, 200, 600, 1000, 7000,168469.6]\n",
        "basket_price_pd = basket_price.toPandas()\n",
        "basket_price_range = basket_price_pd.groupby(pd.cut(basket_price_pd['TotalCost'], ranges)).count()\n",
        "basket_price_range\n",
        "\n",
        "ax, fig = plt.subplots(figsize=(10,15))\n",
        "plt.pie(basket_price_range['TotalCost'], labels=basket_price_range.index, autopct='%1f%%', startangle=90)\n",
        "plt.title('Basket price ranges and their frequencies', fontsize=10)\n",
        "plt.legend(basket_price_range.index, loc='lower right', fontsize=10)\n",
        "plt.show()\n"
      ]
    },
    {
      "cell_type": "code",
      "execution_count": 55,
      "metadata": {
        "colab": {
          "base_uri": "https://localhost:8080/",
          "height": 472
        },
        "id": "TDIlOu6vAsvX",
        "outputId": "fb3d5610-1e0d-4dee-ccbe-90687188de7a"
      },
      "outputs": [
        {
          "data": {
            "image/png": "[encoded data removed]",
            "text/plain": [
              "<Figure size 640x480 with 1 Axes>"
            ]
          },
          "metadata": {},
          "output_type": "display_data"
        }
      ],
      "source": [
        "values_distribution(avg_purchase_value,col='AvgPurchaseValue',bins=5000,xlim=3000,xlabel='AvgPurchaseValue',title='Distribution of average purchase value')"
      ]
    },
    {
      "cell_type": "markdown",
      "metadata": {
        "id": "fmdEyg5Myf0a"
      },
      "source": [
        "## Frequency Of Purchases"
      ]
    },
    {
      "cell_type": "code",
      "execution_count": 56,
      "metadata": {
        "colab": {
          "base_uri": "https://localhost:8080/"
        },
        "id": "NahgtZgNBCbF",
        "outputId": "3d048dce-a063-4696-cb7d-b5e8613008d7"
      },
      "outputs": [
        {
          "name": "stdout",
          "output_type": "stream",
          "text": [
            "+----------+--------------------+\n",
            "|CustomerID|FrequencyOfPurchases|\n",
            "+----------+--------------------+\n",
            "|   12346.0|                   2|\n",
            "|   12347.0|                   7|\n",
            "|   12348.0|                   4|\n",
            "|   12349.0|                   1|\n",
            "|   12350.0|                   1|\n",
            "+----------+--------------------+\n",
            "only showing top 5 rows\n",
            "\n"
          ]
        }
      ],
      "source": [
        "rdd = basket_price.rdd.map(lambda row: (row['CustomerID'], 1))\n",
        "\n",
        "customer_rdd = rdd.reduceByKey(lambda a, b: a + b)\n",
        "\n",
        "frequency_of_purchases = customer_rdd.toDF(['CustomerID', 'FrequencyOfPurchases'])\n",
        "\n",
        "show_df(frequency_of_purchases)"
      ]
    },
    {
      "cell_type": "code",
      "execution_count": 57,
      "metadata": {
        "colab": {
          "base_uri": "https://localhost:8080/"
        },
        "id": "BjjtVOIBBRAI",
        "outputId": "2f221c1b-4a3a-4f1f-b456-2842873f7d9c"
      },
      "outputs": [
        {
          "name": "stdout",
          "output_type": "stream",
          "text": [
            "+-------+--------------------+\n",
            "|summary|FrequencyOfPurchases|\n",
            "+-------+--------------------+\n",
            "|  count|                4330|\n",
            "|   mean|   5.109699769053118|\n",
            "| stddev|   9.376827828095207|\n",
            "|    min|                   1|\n",
            "|    max|                 248|\n",
            "+-------+--------------------+\n",
            "\n"
          ]
        }
      ],
      "source": [
        "df_stats(frequency_of_purchases.select('FrequencyOfPurchases'))"
      ]
    },
    {
      "cell_type": "code",
      "execution_count": 58,
      "metadata": {
        "colab": {
          "base_uri": "https://localhost:8080/",
          "height": 472
        },
        "id": "aYsl4q8qBV-x",
        "outputId": "a0b469c9-20f6-454c-8e66-99f26595cec4"
      },
      "outputs": [
        {
          "data": {
            "image/png": "[encoded data removed]",
            "text/plain": [
              "<Figure size 640x480 with 1 Axes>"
            ]
          },
          "metadata": {},
          "output_type": "display_data"
        }
      ],
      "source": [
        "values_distribution(frequency_of_purchases,col='FrequencyOfPurchases',bins=100,xlim=200,xlabel='FrequencyOfPurchases',title='Distribution of frequency of purchases')"
      ]
    },
    {
      "cell_type": "markdown",
      "metadata": {
        "id": "tSXxruYgynb5"
      },
      "source": [
        "## Customer Life time Value"
      ]
    },
    {
      "cell_type": "code",
      "execution_count": 59,
      "metadata": {
        "colab": {
          "base_uri": "https://localhost:8080/"
        },
        "id": "9Ux0pLgvCHux",
        "outputId": "83a24612-8b27-493f-f11e-648580aab51f"
      },
      "outputs": [
        {
          "name": "stdout",
          "output_type": "stream",
          "text": [
            "+----------+---------------------+\n",
            "|CustomerID|CustomerLifetimeValue|\n",
            "+----------+---------------------+\n",
            "|   12356.0|                  303|\n",
            "|   12364.0|                  105|\n",
            "|   12380.0|                  164|\n",
            "|   12408.0|                  228|\n",
            "|   12424.0|                    0|\n",
            "|   12484.0|                  304|\n",
            "|   12488.0|                   66|\n",
            "|   12500.0|                  310|\n",
            "|   12536.0|                   52|\n",
            "|   12600.0|                  343|\n",
            "|   12616.0|                  212|\n",
            "|   12624.0|                   71|\n",
            "|   12640.0|                   58|\n",
            "|   12648.0|                    0|\n",
            "|   12668.0|                  348|\n",
            "|   12700.0|                  208|\n",
            "|   12836.0|                  252|\n",
            "|   12856.0|                   56|\n",
            "|   12912.0|                   38|\n",
            "|   12920.0|                    0|\n",
            "+----------+---------------------+\n",
            "only showing top 20 rows\n",
            "\n"
          ]
        }
      ],
      "source": [
        "df_spark_filtered = df_spark_filtered.withColumn('InvoiceDate', to_date(df_spark_filtered['InvoiceDate']))\n",
        "\n",
        "window = Window.partitionBy('CustomerID').orderBy('InvoiceDate')\n",
        "df_spark_filtered = df_spark_filtered.withColumn('FirstPurchase', min_builtin('InvoiceDate').over(window))\n",
        "df_spark_filtered = df_spark_filtered.withColumn('LastPurchase', max_builtin('InvoiceDate').over(window))\n",
        "\n",
        "rdd = df_spark_filtered.rdd.map(lambda row: (row['CustomerID'], (row['InvoiceDate'], row['FirstPurchase'], row['LastPurchase'])))\n",
        "\n",
        "customer_rdd = rdd.reduceByKey(lambda a, b: (min(a[0], b[0]), min(a[1], b[1]), max(a[2], b[2])))\n",
        "\n",
        "\n",
        "customer_lifetime_value_rdd = customer_rdd.map(lambda row: (row[0], (row[1][2] - row[1][1]).days))\n",
        "\n",
        "customer_lifetime_value = customer_lifetime_value_rdd.toDF(['CustomerID', 'CustomerLifetimeValue'])\n",
        "\n",
        "customer_lifetime_value.show()"
      ]
    },
    {
      "cell_type": "code",
      "execution_count": 60,
      "metadata": {
        "colab": {
          "base_uri": "https://localhost:8080/"
        },
        "id": "ikngt76ECKlC",
        "outputId": "f42ac227-8503-4429-9467-528417791a5f"
      },
      "outputs": [
        {
          "name": "stdout",
          "output_type": "stream",
          "text": [
            "+-------+---------------------+\n",
            "|summary|CustomerLifetimeValue|\n",
            "+-------+---------------------+\n",
            "|  count|                 4330|\n",
            "|   mean|   134.67759815242493|\n",
            "| stddev|   133.05474180466524|\n",
            "|    min|                    0|\n",
            "|    max|                  373|\n",
            "+-------+---------------------+\n",
            "\n"
          ]
        }
      ],
      "source": [
        "df_stats(customer_lifetime_value.select('CustomerLifetimeValue'))"
      ]
    },
    {
      "cell_type": "markdown",
      "metadata": {
        "id": "UPRyjMmvyx5J"
      },
      "source": [
        "## Basket Size"
      ]
    },
    {
      "cell_type": "code",
      "execution_count": 61,
      "metadata": {
        "colab": {
          "base_uri": "https://localhost:8080/"
        },
        "id": "jblnO5aUGV9z",
        "outputId": "d14bc85b-afdb-438b-c9cb-038a65fa9be5"
      },
      "outputs": [
        {
          "name": "stdout",
          "output_type": "stream",
          "text": [
            "+----------+---------+----------+\n",
            "|CustomerID|InvoiceNo|BasketSize|\n",
            "+----------+---------+----------+\n",
            "|   12356.0|   549435|       370|\n",
            "|   12359.0|  C549955|        -4|\n",
            "|   12359.0|   571034|       644|\n",
            "|   12365.0|  C544577|        -1|\n",
            "|   12379.0|  C559193|        -1|\n",
            "|   12379.0|   567196|       196|\n",
            "|   12381.0|   563100|       568|\n",
            "|   12381.0|   574694|       146|\n",
            "|   12383.0|   540971|       590|\n",
            "|   12383.0|  C541586|        -3|\n",
            "|   12390.0|   567530|       353|\n",
            "|   12394.0|   552188|       182|\n",
            "|   12401.0|   543537|        11|\n",
            "|   12408.0|   547685|        26|\n",
            "|   12408.0|   574862|       365|\n",
            "|   12408.0|  C574865|        -1|\n",
            "|   12414.0|   543027|       145|\n",
            "|   12421.0|   557297|       145|\n",
            "|   12421.0|   578339|        77|\n",
            "|   12424.0|   558537|       208|\n",
            "+----------+---------+----------+\n",
            "only showing top 20 rows\n",
            "\n"
          ]
        }
      ],
      "source": [
        "rdd = df_spark_filtered.rdd\n",
        "\n",
        "rdd_keyed = rdd.map(lambda row: ((row['CustomerID'], row['InvoiceNo']), row['Quantity']))\n",
        "\n",
        "rdd_reduced = rdd_keyed.reduceByKey(lambda a, b: a + b)\n",
        "\n",
        "rdd_output = rdd_reduced.map(lambda row: (row[0][0], row[0][1], row[1]))\n",
        "\n",
        "basket_size = rdd_output.toDF(['CustomerID', 'InvoiceNo', 'BasketSize'])\n",
        "\n",
        "basket_size.show()"
      ]
    },
    {
      "cell_type": "code",
      "execution_count": 62,
      "metadata": {
        "colab": {
          "base_uri": "https://localhost:8080/"
        },
        "id": "ghGdhfcOGbcu",
        "outputId": "5dc1342f-d16f-4686-d9c3-b7183199ba73"
      },
      "outputs": [
        {
          "name": "stdout",
          "output_type": "stream",
          "text": [
            "+-------+------------------+\n",
            "|summary|        BasketSize|\n",
            "+-------+------------------+\n",
            "|  count|             22125|\n",
            "|   mean|  221.216406779661|\n",
            "| stddev|1171.1983518447175|\n",
            "|    min|            -80995|\n",
            "|    max|             80995|\n",
            "+-------+------------------+\n",
            "\n"
          ]
        }
      ],
      "source": [
        "df_stats(basket_size.select('BasketSize'))"
      ]
    },
    {
      "cell_type": "code",
      "execution_count": 63,
      "metadata": {
        "colab": {
          "base_uri": "https://localhost:8080/",
          "height": 472
        },
        "id": "51DLejtlGqsV",
        "outputId": "4a2ee38c-18fc-4f2e-a082-b15af3939bd1"
      },
      "outputs": [
        {
          "data": {
            "image/png": "[encoded data removed]",
            "text/plain": [
              "<Figure size 640x480 with 1 Axes>"
            ]
          },
          "metadata": {},
          "output_type": "display_data"
        }
      ],
      "source": [
        "values_distribution(basket_size,'BasketSize',bins=1000,xlim=1000,title='Distribution of basket size',xlabel='BasketSize')"
      ]
    },
    {
      "cell_type": "code",
      "execution_count": 64,
      "metadata": {
        "id": "nicUag-OHR7m"
      },
      "outputs": [],
      "source": [
        "def averaging(df,group_col,summary_col,new_col):\n",
        "  rdd = df.rdd\n",
        "\n",
        "  rdd_keyed = rdd.map(lambda row: (row[group_col], row[summary_col]))\n",
        "\n",
        "  rdd_reduced = rdd_keyed.aggregateByKey((0.0, 0), lambda acc, val: (acc[0] + val, acc[1] + 1), lambda acc1, acc2: (acc1[0] + acc2[0], acc1[1] + acc2[1]))\n",
        "\n",
        "  rdd_output = rdd_reduced.map(lambda row: (row[0], row[1][0] / row[1][1]))\n",
        "\n",
        "  output = rdd_output.toDF([group_col, new_col])\n",
        "  return output"
      ]
    },
    {
      "cell_type": "code",
      "execution_count": 65,
      "metadata": {
        "colab": {
          "base_uri": "https://localhost:8080/"
        },
        "id": "TCvlWmJHHD8R",
        "outputId": "e2c8a09a-030e-4576-9ed1-c34e4b2630b5"
      },
      "outputs": [
        {
          "name": "stdout",
          "output_type": "stream",
          "text": [
            "+----------+------------------+\n",
            "|CustomerID|    AvgBasketPrice|\n",
            "+----------+------------------+\n",
            "|   12346.0|               0.0|\n",
            "|   12347.0| 615.7142857142857|\n",
            "|   12348.0|            449.31|\n",
            "|   12349.0|1757.5500000000006|\n",
            "|   12350.0|             334.4|\n",
            "+----------+------------------+\n",
            "only showing top 5 rows\n",
            "\n"
          ]
        }
      ],
      "source": [
        "avg_basket_price = averaging(basket_price,'CustomerID','TotalCost','AvgBasketPrice')\n",
        "show_df(avg_basket_price)"
      ]
    },
    {
      "cell_type": "code",
      "execution_count": 66,
      "metadata": {
        "colab": {
          "base_uri": "https://localhost:8080/"
        },
        "id": "KNGdgsfRH89v",
        "outputId": "4bcc9846-a2b2-4553-945b-ff4ec36da9d5"
      },
      "outputs": [
        {
          "name": "stdout",
          "output_type": "stream",
          "text": [
            "+----------+------------------+\n",
            "|CustomerID|     AvgBasketSize|\n",
            "+----------+------------------+\n",
            "|   12356.0| 530.3333333333334|\n",
            "|   12408.0|155.44444444444446|\n",
            "|   12424.0|             370.0|\n",
            "|   12484.0|           272.625|\n",
            "|   12488.0|176.33333333333334|\n",
            "+----------+------------------+\n",
            "only showing top 5 rows\n",
            "\n"
          ]
        }
      ],
      "source": [
        "avg_basket_size = averaging(basket_size,'CustomerID','BasketSize','AvgBasketSize')\n",
        "show_df(avg_basket_size)"
      ]
    },
    {
      "cell_type": "code",
      "execution_count": 67,
      "metadata": {
        "colab": {
          "base_uri": "https://localhost:8080/"
        },
        "id": "9coTMqnCIS-q",
        "outputId": "40fa939c-6021-47be-8334-9363b5d3a4a6"
      },
      "outputs": [
        {
          "name": "stdout",
          "output_type": "stream",
          "text": [
            "avg_basket_price:  (4330, 2)\n",
            "frequency_of_purchases:  (4330, 2)\n",
            "basket_size:  (4330, 2)\n",
            "customer_lifetime_value:  (4330, 2)\n"
          ]
        }
      ],
      "source": [
        "# print shapes of the DataFrames\n",
        "print(\"avg_basket_price: \", (avg_basket_price.count(), len(avg_basket_price.columns)))\n",
        "print(\"frequency_of_purchases: \", (frequency_of_purchases.count(), len(frequency_of_purchases.columns)))\n",
        "print(\"basket_size: \", (avg_basket_size.count(), len(avg_basket_size.columns)))\n",
        "print(\"customer_lifetime_value: \", (customer_lifetime_value.count(), len(customer_lifetime_value.columns)))"
      ]
    },
    {
      "cell_type": "code",
      "execution_count": 68,
      "metadata": {
        "colab": {
          "base_uri": "https://localhost:8080/"
        },
        "id": "kkrODUP8IcyJ",
        "outputId": "589fc00e-2210-4586-f0e8-4e58e15e4dc0"
      },
      "outputs": [
        {
          "name": "stdout",
          "output_type": "stream",
          "text": [
            "+----------+------------------+--------------------+------------------+---------------------+\n",
            "|CustomerID|    AvgBasketPrice|FrequencyOfPurchases|     AvgBasketSize|CustomerLifetimeValue|\n",
            "+----------+------------------+--------------------+------------------+---------------------+\n",
            "|   12346.0|               0.0|                   2|               0.0|                    0|\n",
            "|   12347.0| 615.7142857142857|                   7|351.14285714285717|                  365|\n",
            "|   12348.0|            449.31|                   4|            585.25|                  283|\n",
            "|   12349.0|1757.5500000000006|                   1|             631.0|                    0|\n",
            "|   12350.0|             334.4|                   1|             197.0|                    0|\n",
            "+----------+------------------+--------------------+------------------+---------------------+\n",
            "only showing top 5 rows\n",
            "\n"
          ]
        }
      ],
      "source": [
        "dfs = [avg_basket_price, frequency_of_purchases, avg_basket_size, customer_lifetime_value]\n",
        "\n",
        "df_final = reduce(lambda left, right: left.join(right, on='CustomerID', how='outer'), dfs)\n",
        "\n",
        "show_df(df_final)"
      ]
    },
    {
      "cell_type": "code",
      "execution_count": 69,
      "metadata": {
        "colab": {
          "base_uri": "https://localhost:8080/"
        },
        "id": "fpKWwhnxIwkX",
        "outputId": "a5c8b3e0-36fc-41d2-9e34-db10ab224a6a"
      },
      "outputs": [
        {
          "name": "stdout",
          "output_type": "stream",
          "text": [
            "+-------+------------------+------------------+--------------------+------------------+---------------------+\n",
            "|summary|        CustomerID|    AvgBasketPrice|FrequencyOfPurchases|     AvgBasketSize|CustomerLifetimeValue|\n",
            "+-------+------------------+------------------+--------------------+------------------+---------------------+\n",
            "|  count|              4330|              4330|                4330|              4330|                 4330|\n",
            "|   mean|15298.841570438799| 320.1514824114407|   5.109699769053118|198.04146442253705|   134.67759815242493|\n",
            "| stddev|1722.4909404131333|350.99029037640355|   9.376827828095207|321.38101330429146|   133.05474180466499|\n",
            "|    min|           12346.0|               0.0|                   1|             -94.5|                    0|\n",
            "|    max|           18287.0|           6207.67|                 248|           12540.0|                  373|\n",
            "+-------+------------------+------------------+--------------------+------------------+---------------------+\n",
            "\n"
          ]
        }
      ],
      "source": [
        "df_stats(df_final)"
      ]
    },
    {
      "cell_type": "markdown",
      "metadata": {
        "id": "ZZCLHju2zvf1"
      },
      "source": [
        "## product returns"
      ]
    },
    {
      "cell_type": "code",
      "execution_count": 70,
      "metadata": {
        "colab": {
          "base_uri": "https://localhost:8080/"
        },
        "id": "_d4DATeoq8LU",
        "outputId": "1b421492-eb17-4026-fa3c-34d76e6c25ce"
      },
      "outputs": [
        {
          "name": "stdout",
          "output_type": "stream",
          "text": [
            "+----------+--------------+\n",
            "|CustomerID|ProductReturns|\n",
            "+----------+--------------+\n",
            "+----------+--------------+\n",
            "\n"
          ]
        }
      ],
      "source": [
        "def map_func(row):\n",
        "    customer_id = row['CustomerID']\n",
        "    invoice_no = row['InvoiceNo']\n",
        "    is_return = 1 if invoice_no.startswith('C') else 0\n",
        "    return (customer_id, (is_return, 1))\n",
        "\n",
        "def reduce_func(x, y):\n",
        "    return (x[0] + y[0], x[1] + y[1])\n",
        "\n",
        "customer_returns = df_spark_filtered.select('CustomerID', 'InvoiceNo').distinct().rdd.map(map_func).reduceByKey(reduce_func)\n",
        "product_returns = customer_returns.map(lambda x: (x[0], x[1][0] / x[1][1] if x[1][1] > 0 else 0))\n",
        "product_returns = spark.createDataFrame(product_returns.collect(), ['CustomerID', 'ProductReturns'])\n",
        "product_returns.sample(False, 0.001).show()"
      ]
    },
    {
      "cell_type": "code",
      "execution_count": 71,
      "metadata": {
        "colab": {
          "base_uri": "https://localhost:8080/"
        },
        "id": "gff5InvsrgbW",
        "outputId": "bdef29b6-d380-4674-9dfd-9fe39a5f2cde"
      },
      "outputs": [
        {
          "name": "stdout",
          "output_type": "stream",
          "text": [
            "+---------+\n",
            "|InvoiceNo|\n",
            "+---------+\n",
            "|   570003|\n",
            "|  C569954|\n",
            "+---------+\n",
            "\n"
          ]
        }
      ],
      "source": [
        "df_spark_filtered.filter(df_spark_filtered['CustomerID'] == 14792.0).select('InvoiceNo').distinct().show()\n"
      ]
    },
    {
      "cell_type": "markdown",
      "metadata": {
        "id": "WJwwitcRz3eb"
      },
      "source": [
        "## basket diversity"
      ]
    },
    {
      "cell_type": "code",
      "execution_count": 72,
      "metadata": {
        "colab": {
          "base_uri": "https://localhost:8080/"
        },
        "id": "IIzKaTN5rlnY",
        "outputId": "7b39b0bd-fb7e-442c-98cd-c49f7e52eb28"
      },
      "outputs": [
        {
          "name": "stdout",
          "output_type": "stream",
          "text": [
            "+----------+-----------------+\n",
            "|CustomerID| basket_diversity|\n",
            "+----------+-----------------+\n",
            "|   17660.0|             37.0|\n",
            "|   16923.0|24.23076923076923|\n",
            "|   17631.0|             13.0|\n",
            "+----------+-----------------+\n",
            "\n"
          ]
        }
      ],
      "source": [
        "basket_diversity = (df_spark_filtered\n",
        "                   .groupBy(\"CustomerID\", \"InvoiceNo\")\n",
        "                   .agg(countDistinct(\"StockCode\").alias(\"unique_stock_count\"))\n",
        "                   .groupBy(\"CustomerID\")\n",
        "                   .agg(mean(\"unique_stock_count\").alias(\"basket_diversity\"))\n",
        "                   .select(\"CustomerID\", \"basket_diversity\"))\n",
        "basket_diversity.sample(False, 0.001).show()"
      ]
    },
    {
      "cell_type": "code",
      "execution_count": 73,
      "metadata": {
        "colab": {
          "base_uri": "https://localhost:8080/"
        },
        "id": "g4gamA34rpBV",
        "outputId": "3c774702-cd64-4578-f900-8e18cd0292a9"
      },
      "outputs": [
        {
          "name": "stdout",
          "output_type": "stream",
          "text": [
            "+----------+---------+------------------+\n",
            "|CustomerID|InvoiceNo|unique_stock_count|\n",
            "+----------+---------+------------------+\n",
            "|   17314.0|   542641|                 5|\n",
            "|   17314.0|  C544829|                 2|\n",
            "|   17314.0|   547885|                 7|\n",
            "|   17314.0|   557898|                24|\n",
            "|   17314.0|   575911|                17|\n",
            "|   17314.0|   576385|                 1|\n",
            "|   17314.0|   559980|                 8|\n",
            "|   17314.0|   542786|                21|\n",
            "|   17314.0|  C548307|                 1|\n",
            "|   17314.0|  C572482|                 2|\n",
            "|   17314.0|   570855|                48|\n",
            "+----------+---------+------------------+\n",
            "\n",
            "+----------+------------------+\n",
            "|CustomerID|  basket_diversity|\n",
            "+----------+------------------+\n",
            "|   17314.0|12.363636363636363|\n",
            "+----------+------------------+\n",
            "\n"
          ]
        }
      ],
      "source": [
        "cust=df_spark_filtered.filter(df_spark_filtered['CustomerID'] == 17314.0).distinct().select('CustomerID', 'InvoiceNo', 'StockCode')\n",
        "cust=cust.groupBy('CustomerID', 'InvoiceNo').agg(countDistinct('StockCode').alias('unique_stock_count'))\n",
        "cust.show()\n",
        "cust=cust.groupBy('CustomerID').agg(mean('unique_stock_count').alias('basket_diversity'))\n",
        "cust.show()"
      ]
    },
    {
      "cell_type": "markdown",
      "metadata": {
        "id": "SOJY7V7i0CDN"
      },
      "source": [
        "## unique transactions per quarter"
      ]
    },
    {
      "cell_type": "code",
      "execution_count": 74,
      "metadata": {
        "id": "qm03fXANrswQ"
      },
      "outputs": [],
      "source": [
        "quarter1 = df_spark_filtered.filter(quarter(df_spark_filtered['InvoiceDate']) == 1)\n",
        "quarter1 = quarter1.groupBy('CustomerID').agg(countDistinct('InvoiceNo').alias('unique_transactions_q1'))\n",
        "quarter2=df_spark_filtered.filter(quarter(df_spark_filtered['InvoiceDate']) == 2)\n",
        "quarter2 = quarter2.groupBy('CustomerID').agg(countDistinct('InvoiceNo').alias('unique_transactions_q2'))\n",
        "quarter3=df_spark_filtered.filter(quarter(df_spark_filtered['InvoiceDate']) == 3)\n",
        "quarter3 = quarter3.groupBy('CustomerID').agg(countDistinct('InvoiceNo').alias('unique_transactions_q3'))\n",
        "quarter4=df_spark_filtered.filter(quarter(df_spark_filtered['InvoiceDate']) == 4)\n",
        "quarter4 = quarter4.groupBy('CustomerID').agg(countDistinct('InvoiceNo').alias('unique_transactions_q4'))\n",
        "\n",
        "quarters = quarter1.join(quarter2, 'CustomerID', 'outer')\n",
        "quarters = quarters.join(quarter3, 'CustomerID', 'outer')\n",
        "quarters = quarters.join(quarter4, 'CustomerID', 'outer')\n",
        "quarters = quarters.na.fill(0)"
      ]
    },
    {
      "cell_type": "code",
      "execution_count": 75,
      "metadata": {
        "colab": {
          "base_uri": "https://localhost:8080/"
        },
        "id": "iCEbLo_mr3LB",
        "outputId": "1cae3f43-4461-48d0-cb88-9bb60864f44b"
      },
      "outputs": [
        {
          "name": "stdout",
          "output_type": "stream",
          "text": [
            "401376\n"
          ]
        }
      ],
      "source": [
        "copy_filtered = df_spark_filtered.select('*')\n",
        "print(copy_filtered.count())\n",
        "copy_filtered=copy_filtered.join(quarters, 'CustomerID', 'outer')\n",
        "copy_filtered=copy_filtered.join(basket_diversity, 'CustomerID', 'outer')\n",
        "copy_filtered=copy_filtered.join(product_returns, 'CustomerID', 'outer')\n"
      ]
    },
    {
      "cell_type": "code",
      "execution_count": 76,
      "metadata": {
        "colab": {
          "base_uri": "https://localhost:8080/"
        },
        "id": "5KWECr3Xr5QK",
        "outputId": "fa88da08-d1ab-43b1-8f39-6f331674f724"
      },
      "outputs": [
        {
          "name": "stdout",
          "output_type": "stream",
          "text": [
            "len:   4330\n"
          ]
        }
      ],
      "source": [
        "features = copy_filtered.dropDuplicates(['CustomerID'])\n",
        "print(\"len:  \",features.count())"
      ]
    },
    {
      "cell_type": "code",
      "execution_count": 77,
      "metadata": {
        "id": "n2NLqnBztJaF"
      },
      "outputs": [],
      "source": [
        "features = features.select(['CustomerID','unique_transactions_q1','unique_transactions_q2','unique_transactions_q3','unique_transactions_q4','basket_diversity','ProductReturns'])\n",
        "df_final =df_final.join(features,'CustomerID','left') "
      ]
    },
    {
      "cell_type": "markdown",
      "metadata": {
        "id": "lcWmHO3M0RS5"
      },
      "source": [
        "## Concatenate features in one vector"
      ]
    },
    {
      "cell_type": "code",
      "execution_count": 78,
      "metadata": {
        "colab": {
          "base_uri": "https://localhost:8080/"
        },
        "id": "WVD_I_4bJvej",
        "outputId": "055f033e-b99b-4174-dff2-a72d8245ae14"
      },
      "outputs": [
        {
          "name": "stdout",
          "output_type": "stream",
          "text": [
            "+----------+------------------+--------------------+-----------------+---------------------+----------------------+----------------------+----------------------+----------------------+------------------+------------------+--------------------+--------------------+\n",
            "|CustomerID|    AvgBasketPrice|FrequencyOfPurchases|    AvgBasketSize|CustomerLifetimeValue|unique_transactions_q1|unique_transactions_q2|unique_transactions_q3|unique_transactions_q4|  basket_diversity|    ProductReturns|            features|      scaledFeatures|\n",
            "+----------+------------------+--------------------+-----------------+---------------------+----------------------+----------------------+----------------------+----------------------+------------------+------------------+--------------------+--------------------+\n",
            "|   12493.0|            138.93|                   3|68.66666666666667|                   32|                     0|                     3|                     0|                     0| 7.666666666666667|0.3333333333333333|[138.93,3.0,68.66...|[0.39582291536045...|\n",
            "|   13094.0|106.80375000000002|                  16|           96.375|                  347|                     6|                     5|                     3|                     2|             1.875|              0.25|[106.803750000000...|[0.30429260560303...|\n",
            "|   13533.0| 89.69666666666667|                   3|67.33333333333333|                   85|                     2|                     1|                     0|                     0|24.333333333333332|               0.0|[89.6966666666666...|[0.25555312818048...|\n",
            "|   13607.0| 675.5099999999998|                   1|            288.0|                    0|                     0|                     0|                     0|                     1|              93.0|               0.0|(10,[0,1,2,7,8],[...|(10,[0,1,2,7,8],[...|\n",
            "|   13918.0|            606.42|                   2|            570.0|                  204|                     1|                     0|                     0|                     1|              15.0|               0.0|[606.42,2.0,570.0...|[1.72774010172666...|\n",
            "+----------+------------------+--------------------+-----------------+---------------------+----------------------+----------------------+----------------------+----------------------+------------------+------------------+--------------------+--------------------+\n",
            "only showing top 5 rows\n",
            "\n"
          ]
        }
      ],
      "source": [
        "assembler = VectorAssembler(inputCols=['AvgBasketPrice', 'FrequencyOfPurchases', 'AvgBasketSize', 'CustomerLifetimeValue','unique_transactions_q1','unique_transactions_q2','unique_transactions_q3','unique_transactions_q4','basket_diversity','ProductReturns'\n",
        "                                       ], outputCol='features')\n",
        "\n",
        "df_final = assembler.transform(df_final)\n",
        "\n",
        "\n",
        "scaler = StandardScaler(inputCol='features', outputCol='scaledFeatures', withStd=True, withMean=False)\n",
        "\n",
        "scalerModel = scaler.fit(df_final)\n",
        "\n",
        "df_assembled = scalerModel.transform(df_final)\n",
        "\n",
        "show_df(df_assembled)\n"
      ]
    },
    {
      "cell_type": "markdown",
      "metadata": {
        "id": "X74Hsfthracu"
      },
      "source": [
        "# K-means Clustering"
      ]
    },
    {
      "cell_type": "markdown",
      "metadata": {
        "id": "NOGc8SRL2ZaV"
      },
      "source": [
        "## choose value of K"
      ]
    },
    {
      "cell_type": "code",
      "execution_count": 85,
      "metadata": {
        "colab": {
          "base_uri": "https://localhost:8080/",
          "height": 618
        },
        "id": "m4bBS22r13_R",
        "outputId": "43925cb4-f991-4155-f3b8-e10a0862cc1c"
      },
      "outputs": [
        {
          "name": "stdout",
          "output_type": "stream",
          "text": [
            "wcss:  109424076.14266597\n",
            "wcss:  92614566.71819682\n",
            "wcss:  81913625.86759302\n",
            "wcss:  77766897.36807083\n",
            "wcss:  68990616.51577921\n",
            "wcss:  70949669.69799948\n",
            "wcss:  62339281.12031104\n",
            "wcss:  59774673.623276316\n"
          ]
        },
        {
          "data": {
            "image/png": "[encoded data removed]",
            "text/plain": [
              "<Figure size 640x480 with 1 Axes>"
            ]
          },
          "metadata": {},
          "output_type": "display_data"
        }
      ],
      "source": [
        "from pyspark.ml.clustering import KMeans\n",
        "import matplotlib.pyplot as plt\n",
        "\n",
        "train_data, test_data = df_assembled.randomSplit([0.7, 0.3], seed=42)\n",
        "train_data = train_data.repartition(8)\n",
        "test_data = test_data.repartition(8)\n",
        "\n",
        "wcss = []\n",
        "for i in range(7, 15):\n",
        "    kmeans = KMeans(featuresCol='features',maxIter=30, k=i)\n",
        "    model = kmeans.fit(train_data)\n",
        "    cost = model.summary.trainingCost\n",
        "    wcss.append(cost)\n",
        "    print('wcss: ', cost)\n",
        "\n",
        "plt.plot(range(7, 15), wcss)\n",
        "plt.title('Elbow Method')\n",
        "plt.xlabel('Number of Clusters')\n",
        "plt.ylabel('WCSS')\n",
        "plt.show()"
      ]
    },
    {
      "cell_type": "code",
      "execution_count": 86,
      "metadata": {
        "colab": {
          "base_uri": "https://localhost:8080/",
          "height": 563
        },
        "id": "zsTuG750HgvQ",
        "outputId": "85ad4924-dff7-41ab-ea06-33cd5206f096"
      },
      "outputs": [
        {
          "name": "stdout",
          "output_type": "stream",
          "text": [
            "wcss:  52760206.73959843\n",
            "wcss:  50615092.579613775\n",
            "wcss:  46759257.54604446\n",
            "wcss:  44582581.61712058\n",
            "wcss:  43028996.79324972\n"
          ]
        },
        {
          "data": {
            "image/png": "[encoded data removed]",
            "text/plain": [
              "<Figure size 640x480 with 1 Axes>"
            ]
          },
          "metadata": {},
          "output_type": "display_data"
        }
      ],
      "source": [
        "for i in range(15, 20):\n",
        "    kmeans = KMeans(featuresCol='features',maxIter=30, k=i)\n",
        "    model = kmeans.fit(train_data)\n",
        "    cost = model.summary.trainingCost\n",
        "    wcss.append(cost)\n",
        "    print('wcss: ', cost)\n",
        "\n",
        "plt.plot(range(7, 20), wcss)\n",
        "plt.title('Elbow Method')\n",
        "plt.xlabel('Number of Clusters')\n",
        "plt.ylabel('WCSS')\n",
        "plt.show()"
      ]
    },
    {
      "cell_type": "markdown",
      "metadata": {
        "id": "zCVrOdhankmf"
      },
      "source": [
        "### Train KMean"
      ]
    },
    {
      "cell_type": "code",
      "execution_count": 90,
      "metadata": {
        "colab": {
          "base_uri": "https://localhost:8080/"
        },
        "id": "AwYoomHxf-2G",
        "outputId": "5542e218-50da-4730-b646-c636defea421"
      },
      "outputs": [
        {
          "name": "stdout",
          "output_type": "stream",
          "text": [
            "Cluster Centers: \n",
            "[1.33244158e+02 2.14681107e+00 7.34980332e+01 3.02551143e+01\n",
            " 3.28519856e-01 4.53670277e-01 4.94584838e-01 8.70036101e-01\n",
            " 1.23335115e+01 1.14682236e-01]\n",
            "[2.5492e+03 1.0000e+00 4.2900e+03 0.0000e+00 0.0000e+00 5.0000e-01\n",
            " 0.0000e+00 5.0000e-01 1.5000e+00 0.0000e+00]\n",
            "[6.08834874e+02 3.66666667e+00 1.26030593e+03 1.06277778e+02\n",
            " 7.77777778e-01 1.00000000e+00 1.00000000e+00 8.88888889e-01\n",
            " 1.73953824e+01 3.01587302e-02]\n",
            "[3.02021821e+02 2.08960573e+00 1.84106989e+02 3.32813620e+01\n",
            " 2.18637993e-01 3.70967742e-01 6.07526882e-01 8.92473118e-01\n",
            " 2.08906241e+01 6.21359201e-02]\n",
            "[4.62658924e+03 1.02857143e+01 1.99774654e+03 9.31428571e+01\n",
            " 1.00000000e+00 2.14285714e+00 3.42857143e+00 3.71428571e+00\n",
            " 7.86762673e+01 4.03225806e-02]\n",
            "[3.78161570e+02 1.00324074e+01 2.36230658e+02 2.81277778e+02\n",
            " 1.86342593e+00 2.34490741e+00 2.43981481e+00 3.38425926e+00\n",
            " 2.17581144e+01 1.17223719e-01]\n",
            "[2.20597853e+03 1.37333333e+01 1.24732139e+03 2.24333333e+02\n",
            " 2.53333333e+00 2.46666667e+00 3.66666667e+00 5.06666667e+00\n",
            " 2.31803880e+01 1.19402865e-01]\n",
            "[8.24454296e+02 5.73648649e+00 4.72540022e+02 1.53398649e+02\n",
            " 1.04054054e+00 1.25000000e+00 1.45945946e+00 1.98648649e+00\n",
            " 3.68985252e+01 8.51330919e-02]\n",
            "[5.14456946e+02 2.64855072e+00 3.03700233e+02 5.85253623e+01\n",
            " 3.29710145e-01 5.50724638e-01 7.21014493e-01 1.04710145e+00\n",
            " 2.84182485e+01 5.45685293e-02]\n",
            "[1.40522530e+03 7.54347826e+00 7.29284047e+02 1.23478261e+02\n",
            " 1.21739130e+00 1.47826087e+00 2.17391304e+00 2.67391304e+00\n",
            " 4.02342276e+01 9.67861124e-02]\n",
            "[1.81366271e+02 8.75000000e+00 1.02726969e+02 2.76675393e+02\n",
            " 1.75392670e+00 2.01439791e+00 1.90052356e+00 3.08115183e+00\n",
            " 1.49459889e+01 1.61601737e-01]\n"
          ]
        }
      ],
      "source": [
        "WCSscaled_features_pd = df_assembled.select('features')\n",
        "\n",
        "train_data, test_data = df_assembled.randomSplit([0.7, 0.3], seed=42)\n",
        "train_data = train_data.repartition(8)\n",
        "test_data = test_data.repartition(8)\n",
        "\n",
        "kmeans = KMeans(featuresCol='features', k=11)\n",
        "\n",
        "model = kmeans.fit(train_data)\n",
        "\n",
        "predictions = model.transform(test_data)\n",
        "\n",
        "# print the cluster centers\n",
        "centers = model.clusterCenters()\n",
        "print(\"Cluster Centers: \")\n",
        "for center in centers:\n",
        "    print(center)"
      ]
    },
    {
      "cell_type": "markdown",
      "metadata": {
        "id": "fE-LCv7JnqT1"
      },
      "source": [
        "### KMean Train Score"
      ]
    },
    {
      "cell_type": "code",
      "execution_count": 91,
      "metadata": {
        "colab": {
          "base_uri": "https://localhost:8080/"
        },
        "id": "t0evDUL7mK_y",
        "outputId": "7a37b481-0172-4979-a06f-3e8640a4f05b"
      },
      "outputs": [
        {
          "name": "stdout",
          "output_type": "stream",
          "text": [
            "Silhouette Score for Training Data = 0.5279819014447092\n"
          ]
        }
      ],
      "source": [
        "train_clusters = model.transform(train_data)\n",
        "# evaluate the model on the training data\n",
        "from pyspark.ml.evaluation import ClusteringEvaluator\n",
        "\n",
        "# calculate the evaluation metrics\n",
        "evaluator = ClusteringEvaluator()\n",
        "#s(i) = (b(i) - a(i)) / max(a(i), b(i))\n",
        "#a(i) is the average distance between i and all other points in its cluster\n",
        "#b(i) is the smallest average distance between i and all points in any other cluster.\n",
        "#A score of 1 means that the data point fits well into its assigned cluster and poorly into other clusters.\n",
        "#A score of 0 means that the data point is on the boundary between two clusters.\n",
        "#A score of -1 means that the data point fits poorly into its assigned cluster and well into other clusters.\n",
        "silhouette = evaluator.evaluate(train_clusters)\n",
        "\n",
        "# print the evaluation metrics\n",
        "print(\"Silhouette Score for Training Data = \" + str(silhouette))"
      ]
    },
    {
      "cell_type": "markdown",
      "metadata": {
        "id": "BwYbiUuSntR4"
      },
      "source": [
        "### KMean Test Score"
      ]
    },
    {
      "cell_type": "code",
      "execution_count": 92,
      "metadata": {
        "colab": {
          "base_uri": "https://localhost:8080/"
        },
        "id": "jzIQpyXugBL8",
        "outputId": "cd0451b8-30cc-4fc2-f3cc-27063d14d737"
      },
      "outputs": [
        {
          "name": "stdout",
          "output_type": "stream",
          "text": [
            "Silhouette with squared euclidean distance = 0.5163033388495715\n"
          ]
        }
      ],
      "source": [
        "# evaluate the model using the evaluation metrics\n",
        "from pyspark.ml.evaluation import ClusteringEvaluator\n",
        "\n",
        "# Calculate the evaluation metrics\n",
        "evaluator = ClusteringEvaluator()\n",
        "silhouette = evaluator.evaluate(predictions)\n",
        "\n",
        "# Print the evaluation metrics\n",
        "print(\"Silhouette with squared euclidean distance = \" + str(silhouette))\n",
        "\n"
      ]
    },
    {
      "cell_type": "markdown",
      "metadata": {
        "id": "GTsMAI5dnySR"
      },
      "source": [
        "### Adding the clusters labels to data"
      ]
    },
    {
      "cell_type": "code",
      "execution_count": 93,
      "metadata": {
        "colab": {
          "base_uri": "https://localhost:8080/"
        },
        "id": "ptjzJXikwDhX",
        "outputId": "37891622-01e5-4def-dfcf-cef750833b2b"
      },
      "outputs": [
        {
          "name": "stdout",
          "output_type": "stream",
          "text": [
            "4330\n",
            "+----------+------------------+--------------------+------------------+---------------------+----------------------+----------------------+----------------------+----------------------+------------------+-------------------+--------------------+--------------------+----------+\n",
            "|CustomerID|    AvgBasketPrice|FrequencyOfPurchases|     AvgBasketSize|CustomerLifetimeValue|unique_transactions_q1|unique_transactions_q2|unique_transactions_q3|unique_transactions_q4|  basket_diversity|     ProductReturns|            features|      scaledFeatures|prediction|\n",
            "+----------+------------------+--------------------+------------------+---------------------+----------------------+----------------------+----------------------+----------------------+------------------+-------------------+--------------------+--------------------+----------+\n",
            "|   13107.0|           304.814|                   5|             257.6|                  289|                     2|                     1|                     1|                     1|              12.0|                0.2|[304.814,5.0,257....|[0.86843997784986...|         5|\n",
            "|   17950.0|118.02999999999999|                   4|              85.5|                  293|                     0|                     0|                     1|                     3|              17.5|               0.25|[118.029999999999...|[0.33627710861580...|        10|\n",
            "|   17873.0|292.35999999999996|                   6|             164.5|                  293|                     1|                     3|                     1|                     1| 7.333333333333333|0.16666666666666666|[292.359999999999...|[0.83295751482604...|         5|\n",
            "|   14037.0| 73.60000000000001|                   2|              23.0|                  188|                     0|                     1|                     0|                     1|              14.0|                0.0|[73.6000000000000...|[0.20969241035434...|        10|\n",
            "|   16466.0| 227.9942857142857|                   7|112.14285714285714|                  259|                     1|                     2|                     2|                     2|19.571428571428573|                0.0|[227.994285714285...|[0.64957433856584...|        10|\n",
            "+----------+------------------+--------------------+------------------+---------------------+----------------------+----------------------+----------------------+----------------------+------------------+-------------------+--------------------+--------------------+----------+\n",
            "only showing top 5 rows\n",
            "\n"
          ]
        }
      ],
      "source": [
        "\n",
        "# concatenate the training and testing data\n",
        "all_data_with_clusters = train_clusters.union(predictions)\n",
        "print(all_data_with_clusters.count())\n",
        "all_data_with_clusters.show(5)"
      ]
    },
    {
      "cell_type": "markdown",
      "metadata": {
        "id": "xIrO8VXRn3aX"
      },
      "source": [
        "### Clusters Distribution"
      ]
    },
    {
      "cell_type": "code",
      "execution_count": 94,
      "metadata": {
        "colab": {
          "base_uri": "https://localhost:8080/"
        },
        "id": "-Rq_8UUjKQ9b",
        "outputId": "dd13e9ab-73ac-4e5f-8bc5-55c31692c28a"
      },
      "outputs": [
        {
          "name": "stdout",
          "output_type": "stream",
          "text": [
            "+----------+-----+\n",
            "|prediction|count|\n",
            "+----------+-----+\n",
            "|         6|   19|\n",
            "|         3|  795|\n",
            "|         5|  599|\n",
            "|         9|   59|\n",
            "|         8|  378|\n",
            "|         7|  214|\n",
            "|        10| 1043|\n",
            "|         2|   24|\n",
            "|         0| 1183|\n",
            "|         4|   11|\n",
            "|         1|    5|\n",
            "+----------+-----+\n",
            "\n"
          ]
        }
      ],
      "source": [
        "# Distribution of the clusters\n",
        "all_data_with_clusters.groupBy('prediction').count().show()"
      ]
    },
    {
      "cell_type": "markdown",
      "metadata": {
        "id": "Lm1BojVjn8Mm"
      },
      "source": [
        "### Visualize Clusters"
      ]
    },
    {
      "cell_type": "code",
      "execution_count": 96,
      "metadata": {
        "id": "NO4b6lPHKUDm"
      },
      "outputs": [],
      "source": [
        "predictions_pd = all_data_with_clusters.select('scaledFeatures').toPandas()\n",
        "\n",
        "# number of variables\n",
        "categories = ['AvgBasketPrice', 'FrequencyOfPurchases', 'AvgBasketSize', 'CustomerLifetimeValue','unique_transactions_q1','unique_transactions_q2','unique_transactions_q3','unique_transactions_q4','basket_diversity','ProductReturns']\n",
        "# create a list to store the radar charts\n",
        "charts = []\n",
        "\n",
        "radar_style = pygal.style.Style(background='radial-gradient(#fff, #bbb)')\n",
        "\n",
        "# Create a radar chart for each cluster\n",
        "for i in range(len(centers)):\n",
        "    values = predictions_pd.loc[i, 'scaledFeatures'].toArray().flatten().tolist()\n",
        "    chart = pygal.Radar(fill=True, style=radar_style)\n",
        "    chart.title = 'Cluster %d' % (i + 1)\n",
        "    chart.x_labels = categories\n",
        "    chart.add('Cluster %d' % (i + 1), [x for x in values], fill_color='red')\n",
        "    chart.show_legend = True\n",
        "    chart.render_to_file('cluster%d.svg' % (i + 1))\n",
        "    charts.append(chart)\n",
        "\n",
        "# create a combined radar chart from the list of charts\n",
        "combined_chart = pygal.StackedLine(fill=True, interpolate='cubic', style=pygal.style.LightStyle)\n",
        "combined_chart.title = 'Cluster Analysis'\n",
        "combined_chart.x_labels = categories\n",
        "for i in range(len(centers)):\n",
        "    values = predictions_pd.loc[i, 'scaledFeatures'].toArray().flatten().tolist() \n",
        "    combined_chart.add('Cluster %d' % (i + 1), [x for x in values])\n",
        "combined_chart.render_to_file('cluster_analysis.svg')\n",
        "    "
      ]
    },
    {
      "cell_type": "markdown",
      "metadata": {
        "id": "INLIw4Se_-84"
      },
      "source": [
        "# BisectingKMeans"
      ]
    },
    {
      "cell_type": "code",
      "execution_count": 100,
      "metadata": {
        "colab": {
          "base_uri": "https://localhost:8080/"
        },
        "id": "J2wE-vVtCy5d",
        "outputId": "d0aeadf7-6115-482d-8982-0433c6c56d34"
      },
      "outputs": [
        {
          "name": "stdout",
          "output_type": "stream",
          "text": [
            "Cluster Centers: \n",
            "[1.23496434e+02 2.19157609e+00 6.69272712e+01 3.23247283e+01\n",
            " 3.36956522e-01 4.75543478e-01 5.08152174e-01 8.70923913e-01\n",
            " 1.13437474e+01 1.19192850e-01]\n",
            "[2.69507869e+02 2.02830189e+00 1.58796633e+02 2.78849057e+01\n",
            " 2.20754717e-01 3.60377358e-01 5.37735849e-01 9.09433962e-01\n",
            " 1.96094137e+01 7.20683928e-02]\n",
            "[1.50652441e+02 8.57800000e+00 7.99570299e+01 2.75320000e+02\n",
            " 1.75000000e+00 1.92600000e+00 1.82600000e+00 3.07600000e+00\n",
            " 1.34056145e+01 1.58910157e-01]\n",
            "[2.73623187e+02 8.87581699e+00 1.66652890e+02 2.77483660e+02\n",
            " 1.61437908e+00 2.13943355e+00 2.09150327e+00 3.03050109e+00\n",
            " 1.89378322e+01 1.47533315e-01]\n",
            "[4.37236408e+02 2.09868421e+00 2.71690520e+02 3.67664474e+01\n",
            " 2.40131579e-01 3.58552632e-01 6.11842105e-01 8.88157895e-01\n",
            " 2.65873893e+01 5.24390449e-02]\n",
            "[4.31347233e+02 1.02284644e+01 2.70106367e+02 2.70494382e+02\n",
            " 1.99250936e+00 2.38951311e+00 2.52808989e+00 3.31835206e+00\n",
            " 2.36842471e+01 9.96485721e-02]\n",
            "[7.14909144e+02 4.93500000e+00 4.49588546e+02 1.26450000e+02\n",
            " 9.15000000e-01 1.02500000e+00 1.18000000e+00 1.81500000e+00\n",
            " 3.34284427e+01 7.16676681e-02]\n",
            "[1.28591566e+03 5.95000000e+00 6.37662548e+02 1.30833333e+02\n",
            " 7.33333333e-01 1.16666667e+00 1.76666667e+00 2.28333333e+00\n",
            " 4.30244306e+01 8.63394383e-02]\n",
            "[1.47703273e+03 1.15333333e+01 1.25264981e+03 1.96833333e+02\n",
            " 2.43333333e+00 2.53333333e+00 2.86666667e+00 3.70000000e+00\n",
            " 2.33358073e+01 9.56754582e-02]\n",
            "[3.46400675e+03 1.57500000e+01 2.15697103e+03 1.16875000e+02\n",
            " 1.50000000e+00 3.25000000e+00 5.75000000e+00 5.25000000e+00\n",
            " 3.47010142e+01 6.61534702e-02]\n",
            "[5.48848500e+03 2.00000000e+00 2.66316667e+03 3.23333333e+01\n",
            " 6.66666667e-01 6.66666667e-01 3.33333333e-01 3.33333333e-01\n",
            " 1.01916667e+02 8.33333333e-02]\n"
          ]
        }
      ],
      "source": [
        "# Split the data into training and testing sets\n",
        "train_data_heirc, test_data_heirc = df_assembled.randomSplit([0.7, 0.3], seed=42)\n",
        "train_data_heirc = train_data_heirc.repartition(8)\n",
        "test_data_heirc = test_data_heirc.repartition(8)\n",
        "\n",
        "# create an instance of the K-means algorithm\n",
        "bisecting_kmeans = BisectingKMeans(featuresCol='features', k=11)\n",
        "\n",
        "# train the model on the training data\n",
        "model = bisecting_kmeans.fit(train_data_heirc)\n",
        "\n",
        "# make predictions on the testing data\n",
        "predictions_heirc = model.transform(test_data_heirc)\n",
        "\n",
        "# print the cluster centers\n",
        "centers = model.clusterCenters()\n",
        "print(\"Cluster Centers: \")\n",
        "for center in centers:\n",
        "    print(center)"
      ]
    },
    {
      "cell_type": "markdown",
      "metadata": {
        "id": "ouz7K2lwoEVj"
      },
      "source": [
        "### BisectingKMeans Train Score"
      ]
    },
    {
      "cell_type": "code",
      "execution_count": 101,
      "metadata": {
        "colab": {
          "base_uri": "https://localhost:8080/"
        },
        "id": "ngfdNH130jHS",
        "outputId": "1c4b91d6-d989-40a9-bc07-84387d1dc6e6"
      },
      "outputs": [
        {
          "name": "stdout",
          "output_type": "stream",
          "text": [
            "Silhouette Score for Training Data = 0.4397139750535838\n"
          ]
        }
      ],
      "source": [
        "train_clusters_heirc = model.transform(train_data_heirc)\n",
        "# evaluate the model on the training data\n",
        "from pyspark.ml.evaluation import ClusteringEvaluator\n",
        "\n",
        "# calculate the evaluation metrics\n",
        "evaluator = ClusteringEvaluator()\n",
        "silhouette = evaluator.evaluate(train_clusters_heirc)\n",
        "\n",
        "# calculate the silhouette score\n",
        "#s(i) = (b(i) - a(i)) / max(a(i), b(i))\n",
        "#a(i) is the average distance between i and all other points in its cluster\n",
        "#b(i) is the smallest average distance between i and all points in any other cluster.\n",
        "#A score of 1 means that the data point fits well into its assigned cluster and poorly into other clusters.\n",
        "#A score of 0 means that the data point is on the boundary between two clusters.\n",
        "#A score of -1 means that the data point fits poorly into its assigned cluster and well into other clusters.\n",
        "\n",
        "# print the evaluation metrics\n",
        "print(\"Silhouette Score for Training Data = \" + str(silhouette))"
      ]
    },
    {
      "cell_type": "markdown",
      "metadata": {
        "id": "90RkUYSpoKl0"
      },
      "source": [
        "### BisectingKMeans Test Score"
      ]
    },
    {
      "cell_type": "code",
      "execution_count": 102,
      "metadata": {
        "colab": {
          "base_uri": "https://localhost:8080/"
        },
        "id": "10IehrxQ0s_F",
        "outputId": "3578707a-d39c-45c8-8b43-34dc17d7f6c3"
      },
      "outputs": [
        {
          "name": "stdout",
          "output_type": "stream",
          "text": [
            "Silhouette with squared euclidean distance = 0.43566822896166735\n"
          ]
        }
      ],
      "source": [
        "# evaluate the model using the evaluation metrics\n",
        "from pyspark.ml.evaluation import ClusteringEvaluator\n",
        "\n",
        "# Calculate the evaluation metrics\n",
        "evaluator = ClusteringEvaluator()\n",
        "silhouette = evaluator.evaluate(predictions_heirc)\n",
        "\n",
        "# Print the evaluation metrics\n",
        "print(\"Silhouette with squared euclidean distance = \" + str(silhouette))"
      ]
    },
    {
      "cell_type": "code",
      "execution_count": 103,
      "metadata": {
        "id": "i7MNOWXT0xab"
      },
      "outputs": [],
      "source": [
        "# concatenate the training and testing data\n",
        "all_data_with_clusters_heirc = train_clusters_heirc.union(predictions_heirc)"
      ]
    },
    {
      "cell_type": "markdown",
      "metadata": {
        "id": "KKdH9x8UoSuI"
      },
      "source": [
        "### BisectingKMeans Clusters Distribution"
      ]
    },
    {
      "cell_type": "code",
      "execution_count": 104,
      "metadata": {
        "colab": {
          "base_uri": "https://localhost:8080/"
        },
        "id": "f50FyDL5C18o",
        "outputId": "f4796997-4360-45f2-b28b-0d2626bc950a"
      },
      "outputs": [
        {
          "name": "stdout",
          "output_type": "stream",
          "text": [
            "+----------+-----+\n",
            "|prediction|count|\n",
            "+----------+-----+\n",
            "|         1|  753|\n",
            "|         6|  284|\n",
            "|         3|  638|\n",
            "|         5|  369|\n",
            "|         9|   14|\n",
            "|         4|  421|\n",
            "|         8|   42|\n",
            "|         7|   80|\n",
            "|         2|  675|\n",
            "|         0| 1049|\n",
            "|        10|    5|\n",
            "+----------+-----+\n",
            "\n"
          ]
        }
      ],
      "source": [
        "# Distribution of the clusters\n",
        "all_data_with_clusters_heirc.groupBy('prediction').count().show()"
      ]
    },
    {
      "cell_type": "markdown",
      "metadata": {
        "id": "XZ7Q5P34oOia"
      },
      "source": [
        "### Visualize BisectingKMeans Clusters"
      ]
    },
    {
      "cell_type": "code",
      "execution_count": 113,
      "metadata": {
        "id": "fE7zcJr1C4BJ"
      },
      "outputs": [],
      "source": [
        "# predictions_pd = all_data_with_clusters_heirc.select('scaledFeatures').toPandas()\n",
        "\n",
        "# number of variables\n",
        "categories = ['AvgBasketPrice', 'FrequencyOfPurchases', 'AvgBasketSize', 'CustomerLifetimeValue','unique_transactions_q1','unique_transactions_q2','unique_transactions_q3','unique_transactions_q4','basket_diversity','ProductReturns']\n",
        "# create a list to store the radar charts\n",
        "charts = []\n",
        "\n",
        "radar_style = pygal.style.Style(background='radial-gradient(#fff, #bbb)')\n",
        "\n",
        "# Create a radar chart for each cluster\n",
        "for i in range(len(centers)):\n",
        "    values = predictions_pd.loc[i, 'scaledFeatures'].toArray().flatten().tolist()\n",
        "    chart = pygal.Radar(fill=True, style=radar_style)\n",
        "    chart.title = 'Cluster %d' % (i + 1)\n",
        "    chart.x_labels = categories\n",
        "    chart.add('Cluster %d' % (i + 1), [x for x in values], fill_color='red')\n",
        "    chart.show_legend = True\n",
        "    chart.render_to_file('hei_cluster%d.svg' % (i + 1))\n",
        "    charts.append(chart)\n",
        "\n",
        "# create a combined radar chart from the list of charts\n",
        "combined_chart = pygal.StackedLine(fill=True, interpolate='cubic', style=pygal.style.LightStyle)\n",
        "combined_chart.title = 'Cluster Analysis'\n",
        "combined_chart.x_labels = categories\n",
        "for i in range(len(centers)):\n",
        "    values = predictions_pd.loc[i, 'scaledFeatures'].toArray().flatten().tolist() \n",
        "    combined_chart.add('Cluster %d' % (i + 1), [x for x in values])\n",
        "combined_chart.render_to_file('hei_cluster_analysis.svg')\n",
        "    "
      ]
    },
    {
      "cell_type": "code",
      "execution_count": 107,
      "metadata": {
        "id": "WZJdbb_0-rgR"
      },
      "outputs": [],
      "source": [
        "from sklearn.cluster import AgglomerativeClustering\n",
        "from sklearn.datasets import make_blobs\n",
        "\n",
        "train_data_aggclust, test_data_aggclust = df_assembled.randomSplit([0.7, 0.3], seed=42)\n",
        "train_data_aggclust = train_data_aggclust.repartition(8)\n",
        "test_data_aggclust = test_data_aggclust.repartition(8)\n",
        "\n",
        "# convert PySpark DataFrame to Pandas DataFrame\n",
        "X_train = train_data_aggclust.toPandas()\n",
        "X_test = test_data_aggclust.toPandas()"
      ]
    },
    {
      "cell_type": "code",
      "execution_count": null,
      "metadata": {
        "id": "s2OllWpZDlXu"
      },
      "outputs": [],
      "source": [
        "X_train.columns"
      ]
    },
    {
      "cell_type": "code",
      "execution_count": 108,
      "metadata": {
        "colab": {
          "base_uri": "https://localhost:8080/"
        },
        "id": "-3yCZuUhDiZY",
        "outputId": "32eaf148-d60b-4823-8d22-e8228000c8c6"
      },
      "outputs": [
        {
          "name": "stdout",
          "output_type": "stream",
          "text": [
            "3097\n"
          ]
        }
      ],
      "source": [
        "# create an instance of the AgglomerativeClustering algorithm\n",
        "aggclust = AgglomerativeClustering(n_clusters=11, linkage=\"complete\")\n",
        "X = X_train['features'].to_list()\n",
        "# fit the model to the data\n",
        "model = aggclust.fit(X)\n",
        "train_assignments = model.labels_\n",
        "print(len(train_assignments))"
      ]
    },
    {
      "cell_type": "code",
      "execution_count": 109,
      "metadata": {
        "id": "YwlQUef7CYX5"
      },
      "outputs": [],
      "source": [
        "# get the cluster assignments for the test data\n",
        "predictions = model.fit_predict(X_test['features'].to_list())"
      ]
    },
    {
      "cell_type": "code",
      "execution_count": 110,
      "metadata": {
        "colab": {
          "base_uri": "https://localhost:8080/"
        },
        "id": "SkNg8mpNC3RR",
        "outputId": "ec726d35-3bb9-40a5-f465-a87cdcc4119c"
      },
      "outputs": [
        {
          "name": "stdout",
          "output_type": "stream",
          "text": [
            "Silhouette Score: 0.48586184749305805\n"
          ]
        }
      ],
      "source": [
        "from sklearn.metrics import silhouette_score\n",
        "# compute the silhouette score\n",
        "score = silhouette_score(X_test['features'].to_list(), predictions)\n",
        "\n",
        "print(f\"Silhouette Score: {score}\")"
      ]
    },
    {
      "cell_type": "code",
      "execution_count": 111,
      "metadata": {
        "id": "-eJXdJ-YEuI9"
      },
      "outputs": [],
      "source": [
        "x_clusters_aggclust = X_train.assign(prediction=train_assignments)"
      ]
    },
    {
      "cell_type": "code",
      "execution_count": 112,
      "metadata": {
        "colab": {
          "base_uri": "https://localhost:8080/",
          "height": 489
        },
        "id": "G7HAJx2LFLWC",
        "outputId": "a5f4a4b5-9eb3-463f-db21-8528dd4fd5c1"
      },
      "outputs": [
        {
          "data": {
            "text/html": [
              "\n",
              "  <div id=\"df-71ab3971-6509-4076-8b16-7abf7e5517e6\">\n",
              "    <div class=\"colab-df-container\">\n",
              "      <div>\n",
              "<style scoped>\n",
              "    .dataframe tbody tr th:only-of-type {\n",
              "        vertical-align: middle;\n",
              "    }\n",
              "\n",
              "    .dataframe tbody tr th {\n",
              "        vertical-align: top;\n",
              "    }\n",
              "\n",
              "    .dataframe thead th {\n",
              "        text-align: right;\n",
              "    }\n",
              "</style>\n",
              "<table border=\"1\" class=\"dataframe\">\n",
              "  <thead>\n",
              "    <tr style=\"text-align: right;\">\n",
              "      <th></th>\n",
              "      <th>CustomerID</th>\n",
              "      <th>AvgBasketPrice</th>\n",
              "      <th>FrequencyOfPurchases</th>\n",
              "      <th>AvgBasketSize</th>\n",
              "      <th>CustomerLifetimeValue</th>\n",
              "      <th>unique_transactions_q1</th>\n",
              "      <th>unique_transactions_q2</th>\n",
              "      <th>unique_transactions_q3</th>\n",
              "      <th>unique_transactions_q4</th>\n",
              "      <th>basket_diversity</th>\n",
              "      <th>ProductReturns</th>\n",
              "      <th>features</th>\n",
              "      <th>scaledFeatures</th>\n",
              "    </tr>\n",
              "    <tr>\n",
              "      <th>prediction</th>\n",
              "      <th></th>\n",
              "      <th></th>\n",
              "      <th></th>\n",
              "      <th></th>\n",
              "      <th></th>\n",
              "      <th></th>\n",
              "      <th></th>\n",
              "      <th></th>\n",
              "      <th></th>\n",
              "      <th></th>\n",
              "      <th></th>\n",
              "      <th></th>\n",
              "      <th></th>\n",
              "    </tr>\n",
              "  </thead>\n",
              "  <tbody>\n",
              "    <tr>\n",
              "      <th>0</th>\n",
              "      <td>2936</td>\n",
              "      <td>2936</td>\n",
              "      <td>2936</td>\n",
              "      <td>2936</td>\n",
              "      <td>2936</td>\n",
              "      <td>2936</td>\n",
              "      <td>2936</td>\n",
              "      <td>2936</td>\n",
              "      <td>2936</td>\n",
              "      <td>2936</td>\n",
              "      <td>2936</td>\n",
              "      <td>2936</td>\n",
              "      <td>2936</td>\n",
              "    </tr>\n",
              "    <tr>\n",
              "      <th>1</th>\n",
              "      <td>5</td>\n",
              "      <td>5</td>\n",
              "      <td>5</td>\n",
              "      <td>5</td>\n",
              "      <td>5</td>\n",
              "      <td>5</td>\n",
              "      <td>5</td>\n",
              "      <td>5</td>\n",
              "      <td>5</td>\n",
              "      <td>5</td>\n",
              "      <td>5</td>\n",
              "      <td>5</td>\n",
              "      <td>5</td>\n",
              "    </tr>\n",
              "    <tr>\n",
              "      <th>2</th>\n",
              "      <td>9</td>\n",
              "      <td>9</td>\n",
              "      <td>9</td>\n",
              "      <td>9</td>\n",
              "      <td>9</td>\n",
              "      <td>9</td>\n",
              "      <td>9</td>\n",
              "      <td>9</td>\n",
              "      <td>9</td>\n",
              "      <td>9</td>\n",
              "      <td>9</td>\n",
              "      <td>9</td>\n",
              "      <td>9</td>\n",
              "    </tr>\n",
              "    <tr>\n",
              "      <th>3</th>\n",
              "      <td>106</td>\n",
              "      <td>106</td>\n",
              "      <td>106</td>\n",
              "      <td>106</td>\n",
              "      <td>106</td>\n",
              "      <td>106</td>\n",
              "      <td>106</td>\n",
              "      <td>106</td>\n",
              "      <td>106</td>\n",
              "      <td>106</td>\n",
              "      <td>106</td>\n",
              "      <td>106</td>\n",
              "      <td>106</td>\n",
              "    </tr>\n",
              "    <tr>\n",
              "      <th>4</th>\n",
              "      <td>15</td>\n",
              "      <td>15</td>\n",
              "      <td>15</td>\n",
              "      <td>15</td>\n",
              "      <td>15</td>\n",
              "      <td>15</td>\n",
              "      <td>15</td>\n",
              "      <td>15</td>\n",
              "      <td>15</td>\n",
              "      <td>15</td>\n",
              "      <td>15</td>\n",
              "      <td>15</td>\n",
              "      <td>15</td>\n",
              "    </tr>\n",
              "    <tr>\n",
              "      <th>5</th>\n",
              "      <td>2</td>\n",
              "      <td>2</td>\n",
              "      <td>2</td>\n",
              "      <td>2</td>\n",
              "      <td>2</td>\n",
              "      <td>2</td>\n",
              "      <td>2</td>\n",
              "      <td>2</td>\n",
              "      <td>2</td>\n",
              "      <td>2</td>\n",
              "      <td>2</td>\n",
              "      <td>2</td>\n",
              "      <td>2</td>\n",
              "    </tr>\n",
              "    <tr>\n",
              "      <th>6</th>\n",
              "      <td>15</td>\n",
              "      <td>15</td>\n",
              "      <td>15</td>\n",
              "      <td>15</td>\n",
              "      <td>15</td>\n",
              "      <td>15</td>\n",
              "      <td>15</td>\n",
              "      <td>15</td>\n",
              "      <td>15</td>\n",
              "      <td>15</td>\n",
              "      <td>15</td>\n",
              "      <td>15</td>\n",
              "      <td>15</td>\n",
              "    </tr>\n",
              "    <tr>\n",
              "      <th>7</th>\n",
              "      <td>2</td>\n",
              "      <td>2</td>\n",
              "      <td>2</td>\n",
              "      <td>2</td>\n",
              "      <td>2</td>\n",
              "      <td>2</td>\n",
              "      <td>2</td>\n",
              "      <td>2</td>\n",
              "      <td>2</td>\n",
              "      <td>2</td>\n",
              "      <td>2</td>\n",
              "      <td>2</td>\n",
              "      <td>2</td>\n",
              "    </tr>\n",
              "    <tr>\n",
              "      <th>8</th>\n",
              "      <td>1</td>\n",
              "      <td>1</td>\n",
              "      <td>1</td>\n",
              "      <td>1</td>\n",
              "      <td>1</td>\n",
              "      <td>1</td>\n",
              "      <td>1</td>\n",
              "      <td>1</td>\n",
              "      <td>1</td>\n",
              "      <td>1</td>\n",
              "      <td>1</td>\n",
              "      <td>1</td>\n",
              "      <td>1</td>\n",
              "    </tr>\n",
              "    <tr>\n",
              "      <th>9</th>\n",
              "      <td>1</td>\n",
              "      <td>1</td>\n",
              "      <td>1</td>\n",
              "      <td>1</td>\n",
              "      <td>1</td>\n",
              "      <td>1</td>\n",
              "      <td>1</td>\n",
              "      <td>1</td>\n",
              "      <td>1</td>\n",
              "      <td>1</td>\n",
              "      <td>1</td>\n",
              "      <td>1</td>\n",
              "      <td>1</td>\n",
              "    </tr>\n",
              "    <tr>\n",
              "      <th>10</th>\n",
              "      <td>5</td>\n",
              "      <td>5</td>\n",
              "      <td>5</td>\n",
              "      <td>5</td>\n",
              "      <td>5</td>\n",
              "      <td>5</td>\n",
              "      <td>5</td>\n",
              "      <td>5</td>\n",
              "      <td>5</td>\n",
              "      <td>5</td>\n",
              "      <td>5</td>\n",
              "      <td>5</td>\n",
              "      <td>5</td>\n",
              "    </tr>\n",
              "  </tbody>\n",
              "</table>\n",
              "</div>\n",
              "      <button class=\"colab-df-convert\" onclick=\"convertToInteractive('df-71ab3971-6509-4076-8b16-7abf7e5517e6')\"\n",
              "              title=\"Convert this dataframe to an interactive table.\"\n",
              "              style=\"display:none;\">\n",
              "        \n",
              "  <svg xmlns=\"http://www.w3.org/2000/svg\" height=\"24px\"viewBox=\"0 0 24 24\"\n",
              "       width=\"24px\">\n",
              "    <path d=\"M0 0h24v24H0V0z\" fill=\"none\"/>\n",
              "    <path d=\"M18.56 5.44l.94 2.06.94-2.06 2.06-.94-2.06-.94-.94-2.06-.94 2.06-2.06.94zm-11 1L8.5 8.5l.94-2.06 2.06-.94-2.06-.94L8.5 2.5l-.94 2.06-2.06.94zm10 10l.94 2.06.94-2.06 2.06-.94-2.06-.94-.94-2.06-.94 2.06-2.06.94z\"/><path d=\"M17.41 7.96l-1.37-1.37c-.4-.4-.92-.59-1.43-.59-.52 0-1.04.2-1.43.59L10.3 9.45l-7.72 7.72c-.78.78-.78 2.05 0 2.83L4 21.41c.39.39.9.59 1.41.59.51 0 1.02-.2 1.41-.59l7.78-7.78 2.81-2.81c.8-.78.8-2.07 0-2.86zM5.41 20L4 18.59l7.72-7.72 1.47 1.35L5.41 20z\"/>\n",
              "  </svg>\n",
              "      </button>\n",
              "      \n",
              "  <style>\n",
              "    .colab-df-container {\n",
              "      display:flex;\n",
              "      flex-wrap:wrap;\n",
              "      gap: 12px;\n",
              "    }\n",
              "\n",
              "    .colab-df-convert {\n",
              "      background-color: #E8F0FE;\n",
              "      border: none;\n",
              "      border-radius: 50%;\n",
              "      cursor: pointer;\n",
              "      display: none;\n",
              "      fill: #1967D2;\n",
              "      height: 32px;\n",
              "      padding: 0 0 0 0;\n",
              "      width: 32px;\n",
              "    }\n",
              "\n",
              "    .colab-df-convert:hover {\n",
              "      background-color: #E2EBFA;\n",
              "      box-shadow: 0px 1px 2px rgba(60, 64, 67, 0.3), 0px 1px 3px 1px rgba(60, 64, 67, 0.15);\n",
              "      fill: #174EA6;\n",
              "    }\n",
              "\n",
              "    [theme=dark] .colab-df-convert {\n",
              "      background-color: #3B4455;\n",
              "      fill: #D2E3FC;\n",
              "    }\n",
              "\n",
              "    [theme=dark] .colab-df-convert:hover {\n",
              "      background-color: #434B5C;\n",
              "      box-shadow: 0px 1px 3px 1px rgba(0, 0, 0, 0.15);\n",
              "      filter: drop-shadow(0px 1px 2px rgba(0, 0, 0, 0.3));\n",
              "      fill: #FFFFFF;\n",
              "    }\n",
              "  </style>\n",
              "\n",
              "      <script>\n",
              "        const buttonEl =\n",
              "          document.querySelector('#df-71ab3971-6509-4076-8b16-7abf7e5517e6 button.colab-df-convert');\n",
              "        buttonEl.style.display =\n",
              "          google.colab.kernel.accessAllowed ? 'block' : 'none';\n",
              "\n",
              "        async function convertToInteractive(key) {\n",
              "          const element = document.querySelector('#df-71ab3971-6509-4076-8b16-7abf7e5517e6');\n",
              "          const dataTable =\n",
              "            await google.colab.kernel.invokeFunction('convertToInteractive',\n",
              "                                                     [key], {});\n",
              "          if (!dataTable) return;\n",
              "\n",
              "          const docLinkHtml = 'Like what you see? Visit the ' +\n",
              "            '<a target=\"_blank\" href=https://colab.research.google.com/notebooks/data_table.ipynb>data table notebook</a>'\n",
              "            + ' to learn more about interactive tables.';\n",
              "          element.innerHTML = '';\n",
              "          dataTable['output_type'] = 'display_data';\n",
              "          await google.colab.output.renderOutput(dataTable, element);\n",
              "          const docLink = document.createElement('div');\n",
              "          docLink.innerHTML = docLinkHtml;\n",
              "          element.appendChild(docLink);\n",
              "        }\n",
              "      </script>\n",
              "    </div>\n",
              "  </div>\n",
              "  "
            ],
            "text/plain": [
              "            CustomerID  AvgBasketPrice  FrequencyOfPurchases  AvgBasketSize  \\\n",
              "prediction                                                                    \n",
              "0                 2936            2936                  2936           2936   \n",
              "1                    5               5                     5              5   \n",
              "2                    9               9                     9              9   \n",
              "3                  106             106                   106            106   \n",
              "4                   15              15                    15             15   \n",
              "5                    2               2                     2              2   \n",
              "6                   15              15                    15             15   \n",
              "7                    2               2                     2              2   \n",
              "8                    1               1                     1              1   \n",
              "9                    1               1                     1              1   \n",
              "10                   5               5                     5              5   \n",
              "\n",
              "            CustomerLifetimeValue  unique_transactions_q1  \\\n",
              "prediction                                                  \n",
              "0                            2936                    2936   \n",
              "1                               5                       5   \n",
              "2                               9                       9   \n",
              "3                             106                     106   \n",
              "4                              15                      15   \n",
              "5                               2                       2   \n",
              "6                              15                      15   \n",
              "7                               2                       2   \n",
              "8                               1                       1   \n",
              "9                               1                       1   \n",
              "10                              5                       5   \n",
              "\n",
              "            unique_transactions_q2  unique_transactions_q3  \\\n",
              "prediction                                                   \n",
              "0                             2936                    2936   \n",
              "1                                5                       5   \n",
              "2                                9                       9   \n",
              "3                              106                     106   \n",
              "4                               15                      15   \n",
              "5                                2                       2   \n",
              "6                               15                      15   \n",
              "7                                2                       2   \n",
              "8                                1                       1   \n",
              "9                                1                       1   \n",
              "10                               5                       5   \n",
              "\n",
              "            unique_transactions_q4  basket_diversity  ProductReturns  \\\n",
              "prediction                                                             \n",
              "0                             2936              2936            2936   \n",
              "1                                5                 5               5   \n",
              "2                                9                 9               9   \n",
              "3                              106               106             106   \n",
              "4                               15                15              15   \n",
              "5                                2                 2               2   \n",
              "6                               15                15              15   \n",
              "7                                2                 2               2   \n",
              "8                                1                 1               1   \n",
              "9                                1                 1               1   \n",
              "10                               5                 5               5   \n",
              "\n",
              "            features  scaledFeatures  \n",
              "prediction                            \n",
              "0               2936            2936  \n",
              "1                  5               5  \n",
              "2                  9               9  \n",
              "3                106             106  \n",
              "4                 15              15  \n",
              "5                  2               2  \n",
              "6                 15              15  \n",
              "7                  2               2  \n",
              "8                  1               1  \n",
              "9                  1               1  \n",
              "10                 5               5  "
            ]
          },
          "execution_count": 112,
          "metadata": {},
          "output_type": "execute_result"
        }
      ],
      "source": [
        "x_clusters_aggclust.groupby('prediction').count()"
      ]
    },
    {
      "cell_type": "code",
      "execution_count": 114,
      "metadata": {
        "colab": {
          "base_uri": "https://localhost:8080/"
        },
        "id": "0XeG2_ouwqT7",
        "outputId": "69bcb183-b509-4ba0-ec93-44de4134492f"
      },
      "outputs": [
        {
          "name": "stdout",
          "output_type": "stream",
          "text": [
            "  adding: content/Images/ (stored 0%)\n",
            "  adding: content/Images/hei_cluster1.svg (deflated 78%)\n",
            "  adding: content/Images/cluster2.svg (deflated 79%)\n",
            "  adding: content/Images/cluster10.svg (deflated 78%)\n",
            "  adding: content/Images/hei_cluster10.svg (deflated 78%)\n",
            "  adding: content/Images/cluster4.svg (deflated 79%)\n",
            "  adding: content/Images/hei_cluster_analysis.svg (deflated 61%)\n",
            "  adding: content/Images/cluster8.svg (deflated 79%)\n",
            "  adding: content/Images/cluster7.svg (deflated 79%)\n",
            "  adding: content/Images/cluster5.svg (deflated 78%)\n",
            "  adding: content/Images/hei_cluster5.svg (deflated 78%)\n",
            "  adding: content/Images/cluster1.svg (deflated 78%)\n",
            "  adding: content/Images/cluster_analysis.svg (deflated 61%)\n",
            "  adding: content/Images/hei_cluster6.svg (deflated 78%)\n",
            "  adding: content/Images/sample_data/ (stored 0%)\n",
            "  adding: content/Images/sample_data/README.md (deflated 42%)\n",
            "  adding: content/Images/sample_data/california_housing_train.csv (deflated 79%)\n",
            "  adding: content/Images/sample_data/mnist_test.csv (deflated 88%)\n",
            "  adding: content/Images/sample_data/california_housing_test.csv (deflated 76%)\n",
            "  adding: content/Images/sample_data/Untitled Folder/ (stored 0%)\n",
            "  adding: content/Images/sample_data/anscombe.json (deflated 83%)\n",
            "  adding: content/Images/sample_data/mnist_train_small.csv (deflated 88%)\n",
            "  adding: content/Images/cluster11.svg (deflated 78%)\n",
            "  adding: content/Images/cluster9.svg (deflated 79%)\n",
            "  adding: content/Images/hei_cluster3.svg (deflated 79%)\n",
            "  adding: content/Images/hei_cluster7.svg (deflated 79%)\n",
            "  adding: content/Images/hei_cluster9.svg (deflated 79%)\n",
            "  adding: content/Images/hei_cluster4.svg (deflated 79%)\n",
            "  adding: content/Images/hei_cluster11.svg (deflated 78%)\n",
            "  adding: content/Images/cluster3.svg (deflated 79%)\n",
            "  adding: content/Images/hei_cluster2.svg (deflated 79%)\n",
            "  adding: content/Images/hei_cluster8.svg (deflated 79%)\n",
            "  adding: content/Images/cluster6.svg (deflated 78%)\n"
          ]
        }
      ],
      "source": [
        "from google.colab import files\n",
        "!zip -r /content/Images.zip /content/Images"
      ]
    },
    {
      "cell_type": "code",
      "execution_count": 115,
      "metadata": {
        "colab": {
          "base_uri": "https://localhost:8080/",
          "height": 17
        },
        "id": "vEAoGTP-xkBr",
        "outputId": "5a1b835f-14f8-4864-e1d3-795850671f7a"
      },
      "outputs": [
        {
          "data": {
            "application/javascript": "\n    async function download(id, filename, size) {\n      if (!google.colab.kernel.accessAllowed) {\n        return;\n      }\n      const div = document.createElement('div');\n      const label = document.createElement('label');\n      label.textContent = `Downloading \"${filename}\": `;\n      div.appendChild(label);\n      const progress = document.createElement('progress');\n      progress.max = size;\n      div.appendChild(progress);\n      document.body.appendChild(div);\n\n      const buffers = [];\n      let downloaded = 0;\n\n      const channel = await google.colab.kernel.comms.open(id);\n      // Send a message to notify the kernel that we're ready.\n      channel.send({})\n\n      for await (const message of channel.messages) {\n        // Send a message to notify the kernel that we're ready.\n        channel.send({})\n        if (message.buffers) {\n          for (const buffer of message.buffers) {\n            buffers.push(buffer);\n            downloaded += buffer.byteLength;\n            progress.value = downloaded;\n          }\n        }\n      }\n      const blob = new Blob(buffers, {type: 'application/binary'});\n      const a = document.createElement('a');\n      a.href = window.URL.createObjectURL(blob);\n      a.download = filename;\n      div.appendChild(a);\n      a.click();\n      div.remove();\n    }\n  ",
            "text/plain": [
              "<IPython.core.display.Javascript object>"
            ]
          },
          "metadata": {},
          "output_type": "display_data"
        },
        {
          "data": {
            "application/javascript": "download(\"download_5cdf6a67-828a-4adc-b82b-ac7ea3936267\", \"Images.zip\", 8008261)",
            "text/plain": [
              "<IPython.core.display.Javascript object>"
            ]
          },
          "metadata": {},
          "output_type": "display_data"
        }
      ],
      "source": [
        "files.download('/content/Images.zip')"
      ]
    }
  ],
  "metadata": {
    "colab": {
      "collapsed_sections": [
        "Oezr2_u9o5mt"
      ],
      "provenance": []
    },
    "kernelspec": {
      "display_name": ".venv",
      "language": "python",
      "name": "python3"
    },
    "language_info": {
      "name": "python",
      "version": "3.8.10"
    },
    "vscode": {
      "interpreter": {
        "hash": "a99b57d65d7817e51f3ec2cbeb4ec5a05104c2ceb9ae2495c3145e7f05fb988b"
      }
    }
  },
  "nbformat": 4,
  "nbformat_minor": 0
}
