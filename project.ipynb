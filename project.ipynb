{
  "cells": [
    {
      "cell_type": "code",
      "execution_count": 1,
      "metadata": {
        "colab": {
          "base_uri": "https://localhost:8080/"
        },
        "id": "mEDCzF2Qvn_P",
        "outputId": "8f4a3173-66b8-441a-e481-85d3e1f4f9c9"
      },
      "outputs": [
        {
          "name": "stdout",
          "output_type": "stream",
          "text": [
            "Looking in indexes: https://pypi.org/simple, https://us-python.pkg.dev/colab-wheels/public/simple/\n",
            "Collecting pyspark\n",
            "  Downloading pyspark-3.4.0.tar.gz (310.8 MB)\n",
            "\u001b[2K     \u001b[90m━━━━━━━━━━━━━━━━━━━━━━━━━━━━━━━━━━━━━━━\u001b[0m \u001b[32m310.8/310.8 MB\u001b[0m \u001b[31m3.8 MB/s\u001b[0m eta \u001b[36m0:00:00\u001b[0m\n",
            "\u001b[?25h  Preparing metadata (setup.py) ... \u001b[?25l\u001b[?25hdone\n",
            "Requirement already satisfied: py4j==0.10.9.7 in /usr/local/lib/python3.9/dist-packages (from pyspark) (0.10.9.7)\n",
            "Building wheels for collected packages: pyspark\n",
            "  Building wheel for pyspark (setup.py) ... \u001b[?25l\u001b[?25hdone\n",
            "  Created wheel for pyspark: filename=pyspark-3.4.0-py2.py3-none-any.whl size=311317145 sha256=b383385ea91efc0fd9be1196a9d9cba357d067dcaab2559358c94ae27929de46\n",
            "  Stored in directory: /root/.cache/pip/wheels/9f/34/a4/159aa12d0a510d5ff7c8f0220abbea42e5d81ecf588c4fd884\n",
            "Successfully built pyspark\n",
            "Installing collected packages: pyspark\n",
            "Successfully installed pyspark-3.4.0\n",
            "Looking in indexes: https://pypi.org/simple, https://us-python.pkg.dev/colab-wheels/public/simple/\n",
            "Requirement already satisfied: pandas in /usr/local/lib/python3.9/dist-packages (1.5.3)\n",
            "Requirement already satisfied: scikit-learn in /usr/local/lib/python3.9/dist-packages (1.2.2)\n",
            "Requirement already satisfied: nltk in /usr/local/lib/python3.9/dist-packages (3.8.1)\n",
            "Collecting pygal\n",
            "  Downloading pygal-3.0.0-py2.py3-none-any.whl (129 kB)\n",
            "\u001b[2K     \u001b[90m━━━━━━━━━━━━━━━━━━━━━━━━━━━━━━━━━━━━━━━\u001b[0m \u001b[32m129.4/129.4 kB\u001b[0m \u001b[31m3.7 MB/s\u001b[0m eta \u001b[36m0:00:00\u001b[0m\n",
            "\u001b[?25hRequirement already satisfied: pytz>=2020.1 in /usr/local/lib/python3.9/dist-packages (from pandas) (2022.7.1)\n",
            "Requirement already satisfied: numpy>=1.20.3 in /usr/local/lib/python3.9/dist-packages (from pandas) (1.22.4)\n",
            "Requirement already satisfied: python-dateutil>=2.8.1 in /usr/local/lib/python3.9/dist-packages (from pandas) (2.8.2)\n",
            "Requirement already satisfied: joblib>=1.1.1 in /usr/local/lib/python3.9/dist-packages (from scikit-learn) (1.2.0)\n",
            "Requirement already satisfied: scipy>=1.3.2 in /usr/local/lib/python3.9/dist-packages (from scikit-learn) (1.10.1)\n",
            "Requirement already satisfied: threadpoolctl>=2.0.0 in /usr/local/lib/python3.9/dist-packages (from scikit-learn) (3.1.0)\n",
            "Requirement already satisfied: tqdm in /usr/local/lib/python3.9/dist-packages (from nltk) (4.65.0)\n",
            "Requirement already satisfied: regex>=2021.8.3 in /usr/local/lib/python3.9/dist-packages (from nltk) (2022.10.31)\n",
            "Requirement already satisfied: click in /usr/local/lib/python3.9/dist-packages (from nltk) (8.1.3)\n",
            "Requirement already satisfied: six>=1.5 in /usr/local/lib/python3.9/dist-packages (from python-dateutil>=2.8.1->pandas) (1.16.0)\n",
            "Installing collected packages: pygal\n",
            "Successfully installed pygal-3.0.0\n"
          ]
        }
      ],
      "source": [
        "# Required Libraries installation\n",
        "!pip install pyspark\n",
        "!pip install pandas scikit-learn nltk pygal"
      ]
    },
    {
      "cell_type": "code",
      "execution_count": 118,
      "metadata": {
        "id": "vxFZ00Ttx7uC"
      },
      "outputs": [],
      "source": [
        "# Importing Libraries\n",
        "from google.colab import drive\n",
        "import pandas as pd\n",
        "from pyspark.sql import SparkSession\n",
        "from pyspark.sql.functions import col, count, isnan, when,round,month,datediff, to_date\n",
        "import math\n",
        "import matplotlib.pyplot as plt\n",
        "import numpy as np\n",
        "from pyspark.sql.window import Window\n",
        "from functools import reduce\n",
        "from pyspark.ml.feature import StandardScaler\n",
        "from pyspark.ml.linalg import Vectors\n",
        "from pyspark.ml.feature import VectorAssembler\n",
        "from pyspark.ml.clustering import KMeans\n",
        "from pyspark.ml.evaluation import ClusteringEvaluator\n",
        "import pygal\n",
        "import nltk\n",
        "from pyspark.sql.functions import udf\n",
        "from pyspark.sql.types import ArrayType, StringType, StructType, StructField\n",
        "from pyspark.sql.types import IntegerType"
      ]
    },
    {
      "cell_type": "code",
      "execution_count": 3,
      "metadata": {
        "colab": {
          "base_uri": "https://localhost:8080/"
        },
        "id": "ryyJeFsax9QB",
        "outputId": "8af7b006-b19d-426b-dfbc-b1ddb6acad80"
      },
      "outputs": [
        {
          "name": "stdout",
          "output_type": "stream",
          "text": [
            "Mounted at /content/drive\n"
          ]
        }
      ],
      "source": [
        "drive.mount('/content/drive')"
      ]
    },
    {
      "cell_type": "code",
      "execution_count": 29,
      "metadata": {
        "id": "wLHI8I_ix_Rn"
      },
      "outputs": [],
      "source": [
        "# Create a SparkSession\n",
        "spark = SparkSession.builder.master(\"local[4]\").appName(\"ClusterShop\").getOrCreate()\n",
        "\n",
        "# set log level to Error\n",
        "spark.sparkContext.setLogLevel(\"ERROR\")\n"
      ]
    },
    {
      "cell_type": "code",
      "execution_count": 30,
      "metadata": {
        "id": "YB4DNb1KyAz9"
      },
      "outputs": [],
      "source": [
        "# Read the Excel file using Pandas\n",
        "df_pandas = pd.read_excel(\"drive/MyDrive/Online Retail.xlsx\",na_values='')\n",
        "\n",
        "# Convert the Pandas DataFrame to PySpark DataFrame \n",
        "df_spark = spark.createDataFrame(df_pandas)"
      ]
    },
    {
      "cell_type": "code",
      "execution_count": 64,
      "metadata": {
        "id": "iDiJnhRNyC2D"
      },
      "outputs": [],
      "source": [
        "# helper functions\n",
        "def show_df(df, n=5):\n",
        "  return df.show(n)\n",
        "\n",
        "def df_stats(df):\n",
        "  return df.describe().show()\n",
        "\n",
        "\n",
        "\n",
        "def percent_missing(df):\n",
        "  # get columns excluding 'InvoiceDate'\n",
        "  cols = [col for col in df.columns if col != 'InvoiceDate']\n",
        "\n",
        "\n",
        "  # count missing values in each column as a percentage of the total number of values and total number of values in each column\n",
        "  df.select([count(when(~isnan(c), c)).alias(c) for c in cols]).show()\n",
        "  df.select([count(when(isnan(c), c)).alias(c) for c in cols]).show()\n",
        "\n",
        "def values_distribution(df,col,bins=100,xlim=10000,xlabel='TotalCost',ylabel='Frequency',title='Distribution of basket prices'):\n",
        "\n",
        "  # convert the PySpark DataFrame to Pandas DataFrame\n",
        "  df_pd = df.toPandas()\n",
        "\n",
        "  # plot the histogram\n",
        "  fig, ax = plt.subplots()\n",
        "  ax.hist(df_pd[col], bins=bins)\n",
        "  ax.set_xlabel(xlabel)\n",
        "  ax.set_ylabel(ylabel)\n",
        "  ax.set_title(title)\n",
        "  plt.rc('xtick', labelsize=10)\n",
        "  plt.rc('ytick', labelsize=10)\n",
        "  ax = plt.gca()\n",
        "  ax.set_xlim([0,xlim])\n",
        "  plt.show()"
      ]
    },
    {
      "cell_type": "code",
      "execution_count": 34,
      "metadata": {
        "colab": {
          "base_uri": "https://localhost:8080/"
        },
        "id": "zA13MQIfyDvb",
        "outputId": "030cb669-dc3c-4eb9-9bcb-bf853ec7ab7f"
      },
      "outputs": [
        {
          "name": "stdout",
          "output_type": "stream",
          "text": [
            "+---------+---------+-----------+--------+---------+----------+-------+\n",
            "|InvoiceNo|StockCode|Description|Quantity|UnitPrice|CustomerID|Country|\n",
            "+---------+---------+-----------+--------+---------+----------+-------+\n",
            "|   541909|   541909|     540455|  541909|   541909|    406829| 541909|\n",
            "+---------+---------+-----------+--------+---------+----------+-------+\n",
            "\n",
            "+---------+---------+-----------+--------+---------+----------+-------+\n",
            "|InvoiceNo|StockCode|Description|Quantity|UnitPrice|CustomerID|Country|\n",
            "+---------+---------+-----------+--------+---------+----------+-------+\n",
            "|        0|        0|       1454|       0|        0|    135080|      0|\n",
            "+---------+---------+-----------+--------+---------+----------+-------+\n",
            "\n"
          ]
        }
      ],
      "source": [
        "percent_missing(df_spark)"
      ]
    },
    {
      "cell_type": "code",
      "execution_count": 75,
      "metadata": {
        "id": "kUFYfMeOyhrl"
      },
      "outputs": [],
      "source": [
        "# filter out the missing values using map \n",
        "df_spark_filtered = df_spark.rdd.map(lambda x: x if not math.isnan(x['CustomerID'])  else None).filter(lambda x: x is not None).toDF()"
      ]
    },
    {
      "cell_type": "code",
      "execution_count": 76,
      "metadata": {
        "colab": {
          "base_uri": "https://localhost:8080/"
        },
        "id": "I_lzeQbQyjXJ",
        "outputId": "02029433-4315-4c91-c7f6-93e0da0d370b"
      },
      "outputs": [
        {
          "name": "stdout",
          "output_type": "stream",
          "text": [
            "Percentage of cancelled invoices:  16.466876971608833\n"
          ]
        }
      ],
      "source": [
        "# get percentage of cancelled invoices using map reduce in spark rdd\n",
        "unique_invoice = df_spark_filtered.select('InvoiceNo').distinct().count()\n",
        "cancelled_invoice_count = df_spark_filtered.select('InvoiceNo').rdd.map(lambda x: x if x.InvoiceNo.startswith('C') else None).filter(lambda x: x is not None).toDF()\n",
        "\n",
        "cancelled_invoice_count = cancelled_invoice_count.select('InvoiceNo').distinct().count()\n",
        "\n",
        "\n",
        "# percentage of cancelled invoices\n",
        "print(\"Percentage of cancelled invoices: \", (cancelled_invoice_count/unique_invoice)*100)"
      ]
    },
    {
      "cell_type": "code",
      "execution_count": 77,
      "metadata": {
        "id": "B9Qq60Ww5w9Q"
      },
      "outputs": [],
      "source": [
        "original_cols = df_spark.columns"
      ]
    },
    {
      "cell_type": "code",
      "execution_count": 78,
      "metadata": {
        "colab": {
          "base_uri": "https://localhost:8080/"
        },
        "id": "fm0YfpKE5YPF",
        "outputId": "29360fda-4bf0-4102-e536-7707c9b85cb1"
      },
      "outputs": [
        {
          "name": "stdout",
          "output_type": "stream",
          "text": [
            "+----------+---------+---------+\n",
            "|CustomerID|InvoiceNo|TotalCost|\n",
            "+----------+---------+---------+\n",
            "|   12346.0|   541431|  77183.6|\n",
            "|   12346.0|  C541433| -77183.6|\n",
            "|   12347.0|   549222|   636.25|\n",
            "|   12347.0|   562032|   584.91|\n",
            "|   12347.0|   537626|   711.79|\n",
            "+----------+---------+---------+\n",
            "only showing top 5 rows\n",
            "\n"
          ]
        }
      ],
      "source": [
        "# Define a function to compute the total cost for each basket\n",
        "def calculate_basket_total(row):\n",
        "    customer_id, invoice_no, quantity, unit_price = row\n",
        "    total_cost = quantity * unit_price\n",
        "    return ((customer_id, invoice_no), total_cost)\n",
        "\n",
        "# Map the input DataFrame to (key, value) pairs, where the key is a tuple of (CustomerID, InvoiceNo) and the value is the TotalCost\n",
        "rdd = df_spark_filtered.rdd.map(lambda row: calculate_basket_total((row['CustomerID'], row['InvoiceNo'], row['Quantity'], row['UnitPrice'])))\n",
        "\n",
        "# Reduce the RDD by key (i.e., CustomerID and InvoiceNo), summing the TotalCost for each basket\n",
        "basket_rdd = rdd.reduceByKey(lambda a, b: a + b)\n",
        "\n",
        "# Convert the resulting RDD of (key, value) pairs to a DataFrame, and rename the TotalCost column\n",
        "basket_price = basket_rdd.map(lambda row: (row[0][0], row[0][1], row[1])).toDF(['CustomerID', 'InvoiceNo', 'TotalCost'])\n",
        "\n",
        "# Sort the DataFrame by CustomerID\n",
        "basket_price = basket_price.sort('CustomerID')\n",
        "\n",
        "# Show the contents of the new DataFrame\n",
        "show_df( basket_price)"
      ]
    },
    {
      "cell_type": "code",
      "execution_count": 79,
      "metadata": {
        "colab": {
          "base_uri": "https://localhost:8080/"
        },
        "id": "WuOt9oo_8dsf",
        "outputId": "ed5da959-0c61-4afe-f25e-cf5eca1d1007"
      },
      "outputs": [
        {
          "name": "stdout",
          "output_type": "stream",
          "text": [
            "+-------+------------------+\n",
            "|summary|         TotalCost|\n",
            "+-------+------------------+\n",
            "|  count|             22190|\n",
            "|   mean| 374.0453273546637|\n",
            "| stddev|2018.4828692316019|\n",
            "|    min|         -168469.6|\n",
            "|    max|          168469.6|\n",
            "+-------+------------------+\n",
            "\n"
          ]
        }
      ],
      "source": [
        "# stats of total cost in basket price\n",
        "df_stats(basket_price.select('TotalCost'))"
      ]
    },
    {
      "cell_type": "code",
      "execution_count": 80,
      "metadata": {
        "colab": {
          "base_uri": "https://localhost:8080/",
          "height": 472
        },
        "id": "3mvu0Whf9Fa_",
        "outputId": "9edc58c6-a917-4638-96e6-2b7dc555ed15"
      },
      "outputs": [
        {
          "data": {
            "image/png": "[encoded data removed]",
            "text/plain": [
              "<Figure size 640x480 with 1 Axes>"
            ]
          },
          "metadata": {},
          "output_type": "display_data"
        }
      ],
      "source": [
        "values_distribution(basket_price,'TotalCost',bins=5000,xlim=10000,xlabel='TotalCost',ylabel='Frequency',title='Distribution of basket prices')"
      ]
    },
    {
      "cell_type": "code",
      "execution_count": 81,
      "metadata": {
        "colab": {
          "base_uri": "https://localhost:8080/"
        },
        "id": "VcQ4WgP79vy8",
        "outputId": "83aedb04-daad-46fc-8c93-cac6aae72d84"
      },
      "outputs": [
        {
          "name": "stdout",
          "output_type": "stream",
          "text": [
            "+----------+------------------+\n",
            "|CustomerID|  AvgPurchaseValue|\n",
            "+----------+------------------+\n",
            "|   12346.0|               0.0|\n",
            "|   12347.0| 615.7142857142857|\n",
            "|   12348.0|449.31000000000006|\n",
            "|   12349.0|           1757.55|\n",
            "|   12350.0|334.40000000000003|\n",
            "+----------+------------------+\n",
            "only showing top 5 rows\n",
            "\n"
          ]
        }
      ],
      "source": [
        "# Define a function to compute the sum and count for each customer\n",
        "def calculate_customer_stats(row):\n",
        "    customer_id, total_cost = row\n",
        "    return (customer_id, (total_cost, 1))\n",
        "\n",
        "# Map the basket_price DataFrame to (key, value) pairs, where the key is the CustomerID and the value is a tuple containing the TotalCost and a count of 1\n",
        "rdd = basket_price.rdd.map(lambda row: (row['CustomerID'], row['TotalCost'])).map(calculate_customer_stats)\n",
        "\n",
        "# Reduce the RDD by key (i.e., CustomerID), summing the TotalCost and count for each customer\n",
        "customer_rdd = rdd.reduceByKey(lambda a, b: (a[0] + b[0], a[1] + b[1]))\n",
        "\n",
        "# Map the resulting RDD of (key, value) pairs to (key, value) pairs where the key is the CustomerID and the value is the average purchase value\n",
        "avg_purchase_value_rdd = customer_rdd.map(lambda row: (row[0], row[1][0] / row[1][1]))\n",
        "\n",
        "# Convert the resulting RDD of (key, value) pairs to a DataFrame, and rename the column\n",
        "avg_purchase_value = avg_purchase_value_rdd.toDF(['CustomerID', 'AvgPurchaseValue'])\n",
        "\n",
        "# Show the contents of the new DataFrame\n",
        "show_df(avg_purchase_value)"
      ]
    },
    {
      "cell_type": "code",
      "execution_count": 83,
      "metadata": {
        "colab": {
          "base_uri": "https://localhost:8080/"
        },
        "id": "FOFpZ52O-LXM",
        "outputId": "09c76243-3c2f-4f9d-9d05-a6a690d7d256"
      },
      "outputs": [
        {
          "name": "stdout",
          "output_type": "stream",
          "text": [
            "+-------+------------------+\n",
            "|summary|  AvgPurchaseValue|\n",
            "+-------+------------------+\n",
            "|  count|              4372|\n",
            "|   mean|315.88340742424185|\n",
            "| stddev| 361.2373033626041|\n",
            "|    min|          -4287.63|\n",
            "|    max| 6207.669999999996|\n",
            "+-------+------------------+\n",
            "\n"
          ]
        }
      ],
      "source": [
        "df_stats(avg_purchase_value.select('AvgPurchaseValue'))"
      ]
    },
    {
      "cell_type": "code",
      "execution_count": 85,
      "metadata": {
        "colab": {
          "base_uri": "https://localhost:8080/"
        },
        "id": "M_XNReZ8-USI",
        "outputId": "d70a8d82-12e1-4c9c-a805-ac09a1009e66"
      },
      "outputs": [
        {
          "name": "stdout",
          "output_type": "stream",
          "text": [
            "transactions before removing customers with negative avg purchase value:  406829\n",
            "transactions after removing customers with negative avg purchase value:  406431\n"
          ]
        }
      ],
      "source": [
        "avg_purchase_value.filter(avg_purchase_value['AvgPurchaseValue'] < 0).count()\n",
        "customers_with_neg_avg_purchase_value = avg_purchase_value.filter(avg_purchase_value['AvgPurchaseValue'] < 0).select('CustomerID','AvgPurchaseValue').collect()\n",
        "\n",
        "# remove the customers with negative avg purchase value from df_spark_filtered\n",
        "print(\"transactions before removing customers with negative avg purchase value: \", df_spark_filtered.count())\n",
        "df_spark_filtered = df_spark_filtered.filter(~df_spark_filtered['CustomerID'].isin([x['CustomerID'] for x in customers_with_neg_avg_purchase_value]))\n",
        "print(\"transactions after removing customers with negative avg purchase value: \", df_spark_filtered.count())\n"
      ]
    },
    {
      "cell_type": "code",
      "execution_count": 86,
      "metadata": {
        "id": "GKOzbKZe_VdS"
      },
      "outputs": [],
      "source": [
        "avg_purchase_value = avg_purchase_value.filter(~avg_purchase_value['CustomerID'].isin([x['CustomerID'] for x in customers_with_neg_avg_purchase_value]))\n",
        "basket_price = basket_price.filter(~basket_price['CustomerID'].isin([x['CustomerID'] for x in customers_with_neg_avg_purchase_value]))"
      ]
    },
    {
      "cell_type": "code",
      "execution_count": 87,
      "metadata": {
        "colab": {
          "base_uri": "https://localhost:8080/"
        },
        "id": "UNz6HWsV_hzm",
        "outputId": "37bee880-1a4a-4dc9-9e54-ef54d69cd2cb"
      },
      "outputs": [
        {
          "name": "stdout",
          "output_type": "stream",
          "text": [
            "+-------+------------------+\n",
            "|summary|  AvgPurchaseValue|\n",
            "+-------+------------------+\n",
            "|  count|              4330|\n",
            "|   mean|321.55568681881095|\n",
            "| stddev|351.36404226039366|\n",
            "|    min|               0.0|\n",
            "|    max| 6207.669999999996|\n",
            "+-------+------------------+\n",
            "\n"
          ]
        }
      ],
      "source": [
        "df_stats(avg_purchase_value.select('AvgPurchaseValue'))"
      ]
    },
    {
      "cell_type": "code",
      "execution_count": 88,
      "metadata": {
        "colab": {
          "base_uri": "https://localhost:8080/"
        },
        "id": "ajv_IxN6_4Rh",
        "outputId": "d190f3f3-77ba-4b58-c270-72542c18267f"
      },
      "outputs": [
        {
          "name": "stdout",
          "output_type": "stream",
          "text": [
            "+-------+------------------+\n",
            "|summary|         TotalCost|\n",
            "+-------+------------------+\n",
            "|  count|             22125|\n",
            "|   mean|375.74214481355875|\n",
            "| stddev|  2020.86601904734|\n",
            "|    min|         -168469.6|\n",
            "|    max|          168469.6|\n",
            "+-------+------------------+\n",
            "\n"
          ]
        }
      ],
      "source": [
        "# stats of total cost in basket price\n",
        "df_stats(basket_price.select('TotalCost'))"
      ]
    },
    {
      "cell_type": "code",
      "execution_count": 98,
      "metadata": {
        "colab": {
          "base_uri": "https://localhost:8080/",
          "height": 831
        },
        "id": "BbMsVR4-AEBJ",
        "outputId": "697ab091-2aef-4980-d0a2-86cb1185b65f"
      },
      "outputs": [
        {
          "data": {
            "image/png": "[encoded data removed]",
            "text/plain": [
              "<Figure size 1000x1500 with 1 Axes>"
            ]
          },
          "metadata": {},
          "output_type": "display_data"
        }
      ],
      "source": [
        "# construct ranges for the basket prices and count the number of baskets in each range\n",
        "ranges = [-168469.6,0, 100, 200, 600, 1000, 7000,168469.6]\n",
        "basket_price_pd = basket_price.toPandas()\n",
        "basket_price_range = basket_price_pd.groupby(pd.cut(basket_price_pd['TotalCost'], ranges)).count()\n",
        "basket_price_range\n",
        "\n",
        "# plot pie chart of the basket ranges and their frequencies\n",
        "ax, fig = plt.subplots(figsize=(10,15))\n",
        "# plot pie chart\n",
        "plt.pie(basket_price_range['TotalCost'], labels=basket_price_range.index, autopct='%1f%%', startangle=90)\n",
        "# title\n",
        "plt.title('Basket price ranges and their frequencies', fontsize=10)\n",
        "# legend\n",
        "plt.legend(basket_price_range.index, loc='lower right', fontsize=10)\n",
        "plt.show()\n"
      ]
    },
    {
      "cell_type": "code",
      "execution_count": 99,
      "metadata": {
        "colab": {
          "base_uri": "https://localhost:8080/",
          "height": 472
        },
        "id": "TDIlOu6vAsvX",
        "outputId": "c7e3d45a-9c96-4f02-dcb3-9a05b029500b"
      },
      "outputs": [
        {
          "data": {
            "image/png": "[encoded data removed]",
            "text/plain": [
              "<Figure size 640x480 with 1 Axes>"
            ]
          },
          "metadata": {},
          "output_type": "display_data"
        }
      ],
      "source": [
        "values_distribution(avg_purchase_value,col='AvgPurchaseValue',bins=5000,xlim=3000,xlabel='AvgPurchaseValue',title='Distribution of average purchase value')"
      ]
    },
    {
      "cell_type": "code",
      "execution_count": 100,
      "metadata": {
        "colab": {
          "base_uri": "https://localhost:8080/"
        },
        "id": "NahgtZgNBCbF",
        "outputId": "ff3be355-3ff5-4d53-d1d0-8c40bec28ef9"
      },
      "outputs": [
        {
          "name": "stdout",
          "output_type": "stream",
          "text": [
            "+----------+--------------------+\n",
            "|CustomerID|FrequencyOfPurchases|\n",
            "+----------+--------------------+\n",
            "|   12346.0|                   2|\n",
            "|   12347.0|                   7|\n",
            "|   12348.0|                   4|\n",
            "|   12349.0|                   1|\n",
            "|   12350.0|                   1|\n",
            "+----------+--------------------+\n",
            "only showing top 5 rows\n",
            "\n"
          ]
        }
      ],
      "source": [
        "# Map the basket_price DataFrame to (key, value) pairs, where the key is the CustomerID and the value is 1\n",
        "rdd = basket_price.rdd.map(lambda row: (row['CustomerID'], 1))\n",
        "\n",
        "# Reduce the RDD by key (i.e., CustomerID), summing the counts for each customer\n",
        "customer_rdd = rdd.reduceByKey(lambda a, b: a + b)\n",
        "\n",
        "# Convert the resulting RDD of (key, value) pairs to a DataFrame, and rename the column\n",
        "frequency_of_purchases = customer_rdd.toDF(['CustomerID', 'FrequencyOfPurchases'])\n",
        "\n",
        "# Show the contents of the new DataFrame\n",
        "show_df(frequency_of_purchases)"
      ]
    },
    {
      "cell_type": "code",
      "execution_count": 101,
      "metadata": {
        "colab": {
          "base_uri": "https://localhost:8080/"
        },
        "id": "BjjtVOIBBRAI",
        "outputId": "71ca97e6-93b6-4d2d-ffb9-063ebb6a456d"
      },
      "outputs": [
        {
          "name": "stdout",
          "output_type": "stream",
          "text": [
            "+-------+--------------------+\n",
            "|summary|FrequencyOfPurchases|\n",
            "+-------+--------------------+\n",
            "|  count|                4330|\n",
            "|   mean|   5.109699769053118|\n",
            "| stddev|   9.376827828095204|\n",
            "|    min|                   1|\n",
            "|    max|                 248|\n",
            "+-------+--------------------+\n",
            "\n"
          ]
        }
      ],
      "source": [
        "df_stats(frequency_of_purchases.select('FrequencyOfPurchases'))"
      ]
    },
    {
      "cell_type": "code",
      "execution_count": 106,
      "metadata": {
        "colab": {
          "base_uri": "https://localhost:8080/",
          "height": 472
        },
        "id": "aYsl4q8qBV-x",
        "outputId": "f6a218c8-39dd-44e2-92cb-d9a84382120f"
      },
      "outputs": [
        {
          "data": {
            "image/png": "[encoded data removed]",
            "text/plain": [
              "<Figure size 640x480 with 1 Axes>"
            ]
          },
          "metadata": {},
          "output_type": "display_data"
        }
      ],
      "source": [
        "values_distribution(frequency_of_purchases,col='FrequencyOfPurchases',bins=100,xlim=200,xlabel='FrequencyOfPurchases',title='Distribution of frequency of purchases')"
      ]
    },
    {
      "cell_type": "code",
      "execution_count": 124,
      "metadata": {
        "colab": {
          "base_uri": "https://localhost:8080/"
        },
        "id": "9Ux0pLgvCHux",
        "outputId": "6c3a037f-3793-44a7-cee7-3645001e31de"
      },
      "outputs": [
        {
          "name": "stdout",
          "output_type": "stream",
          "text": [
            "+----------+---------------------+\n",
            "|CustomerID|CustomerLifetimeValue|\n",
            "+----------+---------------------+\n",
            "|   12356.0|                  303|\n",
            "|   12364.0|                  105|\n",
            "|   12380.0|                  164|\n",
            "|   12408.0|                  228|\n",
            "|   12424.0|                    0|\n",
            "|   12484.0|                  304|\n",
            "|   12488.0|                   66|\n",
            "|   12500.0|                  310|\n",
            "|   12536.0|                   52|\n",
            "|   12600.0|                  343|\n",
            "|   12616.0|                  212|\n",
            "|   12624.0|                   71|\n",
            "|   12640.0|                   58|\n",
            "|   12648.0|                    0|\n",
            "|   12668.0|                  348|\n",
            "|   12700.0|                  208|\n",
            "|   12836.0|                  252|\n",
            "|   12856.0|                   56|\n",
            "|   12912.0|                   38|\n",
            "|   12920.0|                    0|\n",
            "+----------+---------------------+\n",
            "only showing top 20 rows\n",
            "\n"
          ]
        }
      ],
      "source": [
        "from pyspark.sql.functions import min as min_builtin\n",
        "from pyspark.sql.functions import max as max_builtin\n",
        "from builtins import min,max\n",
        "# convert InvoiceDate column to date\n",
        "df_spark_filtered = df_spark_filtered.withColumn('InvoiceDate', to_date(df_spark_filtered['InvoiceDate']))\n",
        "\n",
        "# calculate the difference between the last and the first purchase\n",
        "window = Window.partitionBy('CustomerID').orderBy('InvoiceDate')\n",
        "df_spark_filtered = df_spark_filtered.withColumn('FirstPurchase', min_builtin('InvoiceDate').over(window))\n",
        "df_spark_filtered = df_spark_filtered.withColumn('LastPurchase', max_builtin('InvoiceDate').over(window))\n",
        "\n",
        "# Map the df_spark_filtered DataFrame to (key, value) pairs, where the key is the CustomerID and the value is a tuple containing the InvoiceDate, FirstPurchase, and LastPurchase\n",
        "rdd = df_spark_filtered.rdd.map(lambda row: (row['CustomerID'], (row['InvoiceDate'], row['FirstPurchase'], row['LastPurchase'])))\n",
        "\n",
        "# Reduce the RDD by key (i.e., CustomerID), finding the minimum and maximum InvoiceDate for each customer\n",
        "customer_rdd = rdd.reduceByKey(lambda a, b: (min(a[0], b[0]), min(a[1], b[1]), max(a[2], b[2])))\n",
        "\n",
        "\n",
        "# Map the resulting RDD of (key, value) pairs to (key, value) pairs where the key is the CustomerID and the value is the difference in days between the LastPurchase and FirstPurchase\n",
        "customer_lifetime_value_rdd = customer_rdd.map(lambda row: (row[0], (row[1][2] - row[1][1]).days))\n",
        "\n",
        "# Convert the resulting RDD of (key, value) pairs to a DataFrame, and rename the column\n",
        "customer_lifetime_value = customer_lifetime_value_rdd.toDF(['CustomerID', 'CustomerLifetimeValue'])\n",
        "\n",
        "# Show the contents of the new DataFrame\n",
        "customer_lifetime_value.show()"
      ]
    },
    {
      "cell_type": "code",
      "execution_count": 125,
      "metadata": {
        "colab": {
          "base_uri": "https://localhost:8080/"
        },
        "id": "ikngt76ECKlC",
        "outputId": "bee7a9df-9256-4b76-9e8d-8994bc85c543"
      },
      "outputs": [
        {
          "name": "stdout",
          "output_type": "stream",
          "text": [
            "+-------+---------------------+\n",
            "|summary|CustomerLifetimeValue|\n",
            "+-------+---------------------+\n",
            "|  count|                 4330|\n",
            "|   mean|   134.68198614318706|\n",
            "| stddev|   133.05067847782422|\n",
            "|    min|                    0|\n",
            "|    max|                  373|\n",
            "+-------+---------------------+\n",
            "\n"
          ]
        }
      ],
      "source": [
        "df_stats(customer_lifetime_value.select('CustomerLifetimeValue'))"
      ]
    },
    {
      "cell_type": "code",
      "execution_count": 127,
      "metadata": {
        "colab": {
          "base_uri": "https://localhost:8080/"
        },
        "id": "jblnO5aUGV9z",
        "outputId": "6916ca25-3400-4394-c1a1-46dab8117588"
      },
      "outputs": [
        {
          "name": "stdout",
          "output_type": "stream",
          "text": [
            "+----------+---------+----------+\n",
            "|CustomerID|InvoiceNo|BasketSize|\n",
            "+----------+---------+----------+\n",
            "|   12356.0|   549435|       370|\n",
            "|   12359.0|  C549955|        -4|\n",
            "|   12359.0|   571034|       657|\n",
            "|   12365.0|  C544577|        -1|\n",
            "|   12379.0|  C559193|        -1|\n",
            "|   12379.0|   567196|       196|\n",
            "|   12381.0|   563100|       568|\n",
            "|   12381.0|   574694|       146|\n",
            "|   12383.0|   540971|       590|\n",
            "|   12383.0|  C541586|        -3|\n",
            "|   12390.0|   567530|       353|\n",
            "|   12394.0|   552188|       182|\n",
            "|   12401.0|   543537|        11|\n",
            "|   12408.0|   547685|        26|\n",
            "|   12408.0|   574862|       365|\n",
            "|   12408.0|  C574865|        -1|\n",
            "|   12414.0|   543027|       145|\n",
            "|   12421.0|   557297|       145|\n",
            "|   12421.0|   578339|        77|\n",
            "|   12424.0|   558537|       208|\n",
            "+----------+---------+----------+\n",
            "only showing top 20 rows\n",
            "\n"
          ]
        }
      ],
      "source": [
        "# Convert the DataFrame to an RDD\n",
        "rdd = df_spark_filtered.rdd\n",
        "\n",
        "# Map the RDD to (key, value) pairs, where the key is a tuple of (CustomerID, InvoiceNo) and the value is the Quantity\n",
        "rdd_keyed = rdd.map(lambda row: ((row['CustomerID'], row['InvoiceNo']), row['Quantity']))\n",
        "\n",
        "# Reduce the RDD by key, summing the Quantities for each unique (CustomerID, InvoiceNo) pair\n",
        "rdd_reduced = rdd_keyed.reduceByKey(lambda a, b: a + b)\n",
        "\n",
        "# Map the resulting RDD of (key, value) pairs to a new RDD of (CustomerID, InvoiceNo, BasketSize) tuples\n",
        "rdd_output = rdd_reduced.map(lambda row: (row[0][0], row[0][1], row[1]))\n",
        "\n",
        "# Convert the resulting RDD to a DataFrame\n",
        "basket_size = rdd_output.toDF(['CustomerID', 'InvoiceNo', 'BasketSize'])\n",
        "\n",
        "# Show the contents of the new DataFrame\n",
        "basket_size.show()"
      ]
    },
    {
      "cell_type": "code",
      "execution_count": 128,
      "metadata": {
        "colab": {
          "base_uri": "https://localhost:8080/"
        },
        "id": "ghGdhfcOGbcu",
        "outputId": "feebf392-2854-40ff-d7ea-cd7b6a63421b"
      },
      "outputs": [
        {
          "name": "stdout",
          "output_type": "stream",
          "text": [
            "+-------+------------------+\n",
            "|summary|        BasketSize|\n",
            "+-------+------------------+\n",
            "|  count|             22125|\n",
            "|   mean| 221.8508474576271|\n",
            "| stddev|1171.7778905485325|\n",
            "|    min|            -80995|\n",
            "|    max|             80995|\n",
            "+-------+------------------+\n",
            "\n"
          ]
        }
      ],
      "source": [
        "df_stats(basket_size.select('BasketSize'))"
      ]
    },
    {
      "cell_type": "code",
      "execution_count": 129,
      "metadata": {
        "colab": {
          "base_uri": "https://localhost:8080/",
          "height": 472
        },
        "id": "51DLejtlGqsV",
        "outputId": "5e4860f0-16a3-4ac1-a62a-501a51a938e0"
      },
      "outputs": [
        {
          "data": {
            "image/png": "[encoded data removed]",
            "text/plain": [
              "<Figure size 640x480 with 1 Axes>"
            ]
          },
          "metadata": {},
          "output_type": "display_data"
        }
      ],
      "source": [
        "values_distribution(basket_size,'BasketSize',bins=1000,xlim=1000,title='Distribution of basket size',xlabel='BasketSize')"
      ]
    },
    {
      "cell_type": "code",
      "execution_count": 131,
      "metadata": {
        "id": "nicUag-OHR7m"
      },
      "outputs": [],
      "source": [
        "def averaging(df,group_col,summary_col,new_col):\n",
        "  rdd = df.rdd\n",
        "\n",
        "  # Map the RDD to (key, value) pairs, where the key is the group_col and the value is the summary_col\n",
        "  rdd_keyed = rdd.map(lambda row: (row[group_col], row[summary_col]))\n",
        "\n",
        "  # Reduce the RDD by key, computing the sum and count of summary_col for each group_col\n",
        "  rdd_reduced = rdd_keyed.aggregateByKey((0.0, 0), lambda acc, val: (acc[0] + val, acc[1] + 1), lambda acc1, acc2: (acc1[0] + acc2[0], acc1[1] + acc2[1]))\n",
        "\n",
        "  # Map the resulting RDD of (key, value) pairs to a new RDD of (group_col, new_col) tuples\n",
        "  rdd_output = rdd_reduced.map(lambda row: (row[0], row[1][0] / row[1][1]))\n",
        "\n",
        "  # Convert the resulting RDD to a DataFrame\n",
        "  output = rdd_output.toDF([group_col, new_col])\n",
        "  return output"
      ]
    },
    {
      "cell_type": "code",
      "execution_count": 132,
      "metadata": {
        "colab": {
          "base_uri": "https://localhost:8080/"
        },
        "id": "TCvlWmJHHD8R",
        "outputId": "d386c589-30e7-4d63-c6ed-74fd1e62b48d"
      },
      "outputs": [
        {
          "name": "stdout",
          "output_type": "stream",
          "text": [
            "+----------+------------------+\n",
            "|CustomerID|    AvgBasketPrice|\n",
            "+----------+------------------+\n",
            "|   12346.0|               0.0|\n",
            "|   12347.0| 615.7142857142857|\n",
            "|   12348.0|449.31000000000006|\n",
            "|   12349.0|           1757.55|\n",
            "|   12350.0|334.40000000000003|\n",
            "+----------+------------------+\n",
            "only showing top 5 rows\n",
            "\n"
          ]
        }
      ],
      "source": [
        "avg_basket_price = averaging(basket_price,'CustomerID','TotalCost','AvgBasketPrice')\n",
        "show_df(avg_basket_price)"
      ]
    },
    {
      "cell_type": "code",
      "execution_count": 135,
      "metadata": {
        "colab": {
          "base_uri": "https://localhost:8080/"
        },
        "id": "KNGdgsfRH89v",
        "outputId": "184a885c-7036-4971-b770-7404ea52e2fc"
      },
      "outputs": [
        {
          "name": "stdout",
          "output_type": "stream",
          "text": [
            "+----------+------------------+\n",
            "|CustomerID|     AvgBasketSize|\n",
            "+----------+------------------+\n",
            "|   12356.0| 530.3333333333334|\n",
            "|   12408.0|155.44444444444446|\n",
            "|   12424.0|             370.0|\n",
            "|   12484.0|           273.125|\n",
            "|   12488.0|176.33333333333334|\n",
            "+----------+------------------+\n",
            "only showing top 5 rows\n",
            "\n"
          ]
        }
      ],
      "source": [
        "avg_basket_size = averaging(basket_size,'CustomerID','BasketSize','AvgBasketSize')\n",
        "show_df(avg_basket_size)"
      ]
    },
    {
      "cell_type": "code",
      "execution_count": 137,
      "metadata": {
        "colab": {
          "base_uri": "https://localhost:8080/"
        },
        "id": "9coTMqnCIS-q",
        "outputId": "a8ed9dcf-bd02-4057-877a-5920c00e8b5a"
      },
      "outputs": [
        {
          "name": "stdout",
          "output_type": "stream",
          "text": [
            "avg_basket_price:  (4330, 2)\n",
            "frequency_of_purchases:  (4330, 2)\n",
            "basket_size:  (4330, 2)\n",
            "customer_lifetime_value:  (4330, 2)\n"
          ]
        }
      ],
      "source": [
        "# print shapes of the DataFrames\n",
        "print(\"avg_basket_price: \", (avg_basket_price.count(), len(avg_basket_price.columns)))\n",
        "print(\"frequency_of_purchases: \", (frequency_of_purchases.count(), len(frequency_of_purchases.columns)))\n",
        "print(\"basket_size: \", (avg_basket_size.count(), len(avg_basket_size.columns)))\n",
        "print(\"customer_lifetime_value: \", (customer_lifetime_value.count(), len(customer_lifetime_value.columns)))"
      ]
    },
    {
      "cell_type": "code",
      "execution_count": 138,
      "metadata": {
        "colab": {
          "base_uri": "https://localhost:8080/"
        },
        "id": "kkrODUP8IcyJ",
        "outputId": "1f2a8671-3ea1-4684-d9d1-f41bf544c17e"
      },
      "outputs": [
        {
          "name": "stdout",
          "output_type": "stream",
          "text": [
            "+----------+------------------+--------------------+------------------+---------------------+\n",
            "|CustomerID|    AvgBasketPrice|FrequencyOfPurchases|     AvgBasketSize|CustomerLifetimeValue|\n",
            "+----------+------------------+--------------------+------------------+---------------------+\n",
            "|   12346.0|               0.0|                   2|               0.0|                    0|\n",
            "|   12347.0| 615.7142857142857|                   7|351.14285714285717|                  365|\n",
            "|   12348.0|449.31000000000006|                   4|            585.25|                  283|\n",
            "|   12349.0|           1757.55|                   1|             631.0|                    0|\n",
            "|   12350.0|334.40000000000003|                   1|             197.0|                    0|\n",
            "+----------+------------------+--------------------+------------------+---------------------+\n",
            "only showing top 5 rows\n",
            "\n"
          ]
        }
      ],
      "source": [
        "dfs = [avg_basket_price, frequency_of_purchases, avg_basket_size, customer_lifetime_value]\n",
        "\n",
        "df_final = reduce(lambda left, right: left.join(right, on='CustomerID', how='outer'), dfs)\n",
        "\n",
        "show_df(df_final)"
      ]
    },
    {
      "cell_type": "code",
      "execution_count": 144,
      "metadata": {
        "colab": {
          "base_uri": "https://localhost:8080/"
        },
        "id": "fpKWwhnxIwkX",
        "outputId": "ffcff01b-ca2a-4175-b197-18349de49d28"
      },
      "outputs": [
        {
          "name": "stdout",
          "output_type": "stream",
          "text": [
            "+-------+------------------+------------------+--------------------+------------------+---------------------+\n",
            "|summary|        CustomerID|    AvgBasketPrice|FrequencyOfPurchases|     AvgBasketSize|CustomerLifetimeValue|\n",
            "+-------+------------------+------------------+--------------------+------------------+---------------------+\n",
            "|  count|              4330|              4330|                4330|              4330|                 4330|\n",
            "|   mean|15299.291916859122|321.55568681881095|   5.109699769053118|198.97555181436482|   134.68198614318706|\n",
            "| stddev|1722.0418499064176|351.36404226039366|   9.376827828095204| 321.8904511396367|   133.05067847782433|\n",
            "|    min|           12346.0|               0.0|                   1|             -94.5|                    0|\n",
            "|    max|           18287.0| 6207.669999999996|                 248|           12540.0|                  373|\n",
            "+-------+------------------+------------------+--------------------+------------------+---------------------+\n",
            "\n"
          ]
        }
      ],
      "source": [
        "df_stats(df_final)"
      ]
    },
    {
      "cell_type": "code",
      "execution_count": 145,
      "metadata": {
        "colab": {
          "base_uri": "https://localhost:8080/"
        },
        "id": "WVD_I_4bJvej",
        "outputId": "a5a9d029-01e8-427f-925f-7fe08d4d57f6"
      },
      "outputs": [
        {
          "name": "stdout",
          "output_type": "stream",
          "text": [
            "+----------+------------------+--------------------+------------------+---------------------+--------------------+--------------------+\n",
            "|CustomerID|    AvgBasketPrice|FrequencyOfPurchases|     AvgBasketSize|CustomerLifetimeValue|            features|      scaledFeatures|\n",
            "+----------+------------------+--------------------+------------------+---------------------+--------------------+--------------------+\n",
            "|   12346.0|               0.0|                   2|               0.0|                    0|       (4,[1],[2.0])|(4,[1],[0.2132917...|\n",
            "|   12347.0| 615.7142857142857|                   7|351.14285714285717|                  365|[615.714285714285...|[1.75235428689081...|\n",
            "|   12348.0|449.31000000000006|                   4|            585.25|                  283|[449.310000000000...|[1.27875919547572...|\n",
            "|   12349.0|           1757.55|                   1|             631.0|                    0|[1757.55,1.0,631....|[5.00207701588739...|\n",
            "|   12350.0|334.40000000000003|                   1|             197.0|                    0|[334.400000000000...|[0.95171946978051...|\n",
            "+----------+------------------+--------------------+------------------+---------------------+--------------------+--------------------+\n",
            "only showing top 5 rows\n",
            "\n"
          ]
        }
      ],
      "source": [
        "# create a VectorAssembler object\n",
        "assembler = VectorAssembler(inputCols=['AvgBasketPrice', 'FrequencyOfPurchases', 'AvgBasketSize', 'CustomerLifetimeValue'], outputCol='features')\n",
        "\n",
        "# transform the DataFrame\n",
        "df_final = assembler.transform(df_final)\n",
        "\n",
        "\n",
        "# create a StandardScaler object\n",
        "scaler = StandardScaler(inputCol='features', outputCol='scaledFeatures', withStd=True, withMean=False)\n",
        "\n",
        "# fit the DataFrame to the scaler\n",
        "scalerModel = scaler.fit(df_final)\n",
        "\n",
        "# transform the DataFrame\n",
        "df_assembled = scalerModel.transform(df_final)\n",
        "\n",
        "# print the first row of the scaled DataFrame\n",
        "show_df(df_assembled)\n"
      ]
    },
    {
      "cell_type": "code",
      "execution_count": null,
      "metadata": {
        "id": "11Ew7ldFKAtI"
      },
      "outputs": [],
      "source": [
        "scaled_features_pd = df_assembled.select('scaledFeatures')\n",
        "\n",
        "# apply K-means clustering\n",
        "from pyspark.ml.clustering import KMeans\n",
        "\n",
        "# create an instance of the K-means algorithm\n",
        "\n",
        "# kmeans = KMeans(featuresCol='scaledFeatures', k=5, distanceMeasure='cosine')\n",
        "kmeans = KMeans(featuresCol='features', k=4)\n",
        "# train the model\n",
        "model = kmeans.fit(df_assembled)\n",
        "\n",
        "# make predictions\n",
        "predictions = model.transform(df_assembled)\n",
        "\n",
        "# print the cluster centers\n",
        "centers = model.clusterCenters()\n",
        "print(\"Cluster Centers: \")\n",
        "\n",
        "for center in centers:\n",
        "    print(center)"
      ]
    },
    {
      "cell_type": "code",
      "execution_count": 187,
      "metadata": {
        "colab": {
          "base_uri": "https://localhost:8080/"
        },
        "id": "THksWCLlKLuj",
        "outputId": "76f4d62b-2dc4-41a9-bf5a-9768008d76d0"
      },
      "outputs": [
        {
          "name": "stdout",
          "output_type": "stream",
          "text": [
            "Cluster Centers: \n",
            "[797.38635424   6.         512.49617491 129.18857143]\n",
            "[3445.60165473   13.34782609 2076.94351292  151.86956522]\n",
            "[2.15736e+03 1.00000e+00 1.01820e+04 0.00000e+00]\n",
            "[235.48802378   4.93809524 138.72220813 135.41164021]\n"
          ]
        }
      ],
      "source": [
        "scaled_features_pd = df_assembled.select('scaledFeatures')\n",
        "\n",
        "# apply K-means clustering\n",
        "from pyspark.ml.clustering import KMeans\n",
        "\n",
        "# create an instance of the K-means algorithm\n",
        "\n",
        "# kmeans = KMeans(featuresCol='scaledFeatures', k=5, distanceMeasure='cosine')\n",
        "kmeans = KMeans(featuresCol='features', k=4)\n",
        "# train the model\n",
        "model = kmeans.fit(df_assembled)\n",
        "\n",
        "# make predictions\n",
        "predictions = model.transform(df_assembled)\n",
        "\n",
        "# print the cluster centers\n",
        "centers = model.clusterCenters()\n",
        "print(\"Cluster Centers: \")\n",
        "\n",
        "for center in centers:\n",
        "    print(center)"
      ]
    },
    {
      "cell_type": "code",
      "execution_count": 188,
      "metadata": {
        "colab": {
          "base_uri": "https://localhost:8080/"
        },
        "id": "-nylJnLBKOn0",
        "outputId": "4a08d41c-ebab-495b-ec35-dbcafac5da95"
      },
      "outputs": [
        {
          "name": "stdout",
          "output_type": "stream",
          "text": [
            "Silhouette with squared euclidean distance = 0.7941710822397995\n"
          ]
        }
      ],
      "source": [
        "\n",
        "# evaluate the model\n",
        "from pyspark.ml.evaluation import ClusteringEvaluator\n",
        "\n",
        "# create an instance of the evaluator\n",
        "evaluator = ClusteringEvaluator()\n",
        " \n",
        "# calculate the silhouette score\n",
        "silhouette = evaluator.evaluate(predictions)\n",
        "print(\"Silhouette with squared euclidean distance = \" + str(silhouette))\n"
      ]
    },
    {
      "cell_type": "code",
      "execution_count": 189,
      "metadata": {
        "colab": {
          "base_uri": "https://localhost:8080/"
        },
        "id": "-Rq_8UUjKQ9b",
        "outputId": "93e6d71a-0701-4fab-9c24-9e0118e4ff40"
      },
      "outputs": [
        {
          "name": "stdout",
          "output_type": "stream",
          "text": [
            "+----------+-----+\n",
            "|prediction|count|\n",
            "+----------+-----+\n",
            "|         1|   21|\n",
            "|         3| 3796|\n",
            "|         2|    2|\n",
            "|         0|  511|\n",
            "+----------+-----+\n",
            "\n"
          ]
        }
      ],
      "source": [
        "# Distribution of the clusters\n",
        "predictions.groupBy('prediction').count().show()"
      ]
    },
    {
      "cell_type": "code",
      "execution_count": 190,
      "metadata": {
        "id": "NO4b6lPHKUDm"
      },
      "outputs": [],
      "source": [
        "predictions_pd = predictions.select('scaledFeatures').toPandas()\n",
        "\n",
        "# number of variables\n",
        "categories = ['AvgPurchaseValue', 'AvgFrequencyOfPurchases', 'AvgBasketSize', 'AvgCustomerLifetimeValue']\n",
        "\n",
        "# create a list to store the radar charts\n",
        "charts = []\n",
        "\n",
        "# create a radar chart for each cluster and add it to the list\n",
        "for i in range(len(centers)):\n",
        "    values = predictions_pd.loc[i, 'scaledFeatures'].toArray().flatten().tolist()\n",
        "    chart = pygal.Radar(fill=True)\n",
        "    chart.title = 'Cluster %d' % (i + 1)\n",
        "    chart.x_labels = categories\n",
        "    chart.add('Cluster %d' % (i + 1), [x for x in values], fill_color='red')\n",
        "    chart.show_legend = True\n",
        "    charts.append(chart)\n",
        "\n",
        "# create a combined radar chart from the list of charts\n",
        "combined_chart = pygal.StackedLine(fill=True, interpolate='cubic', style=pygal.style.LightStyle)\n",
        "combined_chart.title = 'Cluster Analysis'\n",
        "combined_chart.x_labels = categories\n",
        "for i in range(len(centers)):\n",
        "    values = predictions_pd.loc[i, 'scaledFeatures'].toArray().flatten().tolist() \n",
        "    combined_chart.add('Cluster %d' % (i + 1), [x for x in values])\n",
        "combined_chart.render_to_file('cluster_analysis.svg')\n",
        "    "
      ]
    }
  ],
  "metadata": {
    "colab": {
      "provenance": []
    },
    "kernelspec": {
      "display_name": "Python 3",
      "name": "python3"
    },
    "language_info": {
      "name": "python",
      "version": "3.8.10"
    }
  },
  "nbformat": 4,
  "nbformat_minor": 0
}
