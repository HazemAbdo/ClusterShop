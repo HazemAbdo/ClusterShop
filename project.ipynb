{
 "cells": [
  {
   "cell_type": "code",
   "execution_count": 1,
   "metadata": {},
   "outputs": [],
   "source": [
    "%load_ext autoreload\n",
    "%autoreload 2\n",
    "import helper_functions as hf"
   ]
  },
  {
   "cell_type": "code",
   "execution_count": 2,
   "metadata": {},
   "outputs": [],
   "source": [
    "import pandas as pd\n",
    "from pyspark.sql import SparkSession\n",
    "import matplotlib.pyplot as plt"
   ]
  },
  {
   "attachments": {},
   "cell_type": "markdown",
   "metadata": {},
   "source": [
    "# Reading Data"
   ]
  },
  {
   "cell_type": "code",
   "execution_count": 3,
   "metadata": {},
   "outputs": [
    {
     "name": "stderr",
     "output_type": "stream",
     "text": [
      "23/04/25 23:01:30 WARN Utils: Your hostname, hazemabdo resolves to a loopback address: 127.0.1.1; using 192.168.1.3 instead (on interface wlp7s0)\n",
      "23/04/25 23:01:30 WARN Utils: Set SPARK_LOCAL_IP if you need to bind to another address\n",
      "Setting default log level to \"WARN\".\n",
      "To adjust logging level use sc.setLogLevel(newLevel). For SparkR, use setLogLevel(newLevel).\n",
      "23/04/25 23:01:31 WARN NativeCodeLoader: Unable to load native-hadoop library for your platform... using builtin-java classes where applicable\n"
     ]
    }
   ],
   "source": [
    "# Create a SparkSession\n",
    "spark = SparkSession.builder.master(\"local[4]\").appName(\"ClusterShop\").getOrCreate()\n",
    "\n",
    "# set log level to Error\n",
    "spark.sparkContext.setLogLevel(\"ERROR\")\n",
    "\n",
    "# Read the Excel file using Pandas\n",
    "df_pandas = pd.read_excel(\"Online Retail.xlsx\", na_values='')\n",
    "\n",
    "# Convert the Pandas DataFrame to PySpark DataFrame with the defined schema\n",
    "df_spark = spark.createDataFrame(df_pandas)"
   ]
  },
  {
   "cell_type": "code",
   "execution_count": 4,
   "metadata": {},
   "outputs": [],
   "source": [
    "from pyspark.sql.functions import to_date\n",
    "df_spark = df_spark.withColumn('InvoiceDate', to_date('InvoiceDate'))"
   ]
  },
  {
   "cell_type": "code",
   "execution_count": 5,
   "metadata": {},
   "outputs": [],
   "source": [
    "untouched_df = df_spark.alias('untouched_df')"
   ]
  },
  {
   "attachments": {},
   "cell_type": "markdown",
   "metadata": {},
   "source": [
    "# Analyzing Data"
   ]
  },
  {
   "cell_type": "code",
   "execution_count": 6,
   "metadata": {},
   "outputs": [
    {
     "name": "stderr",
     "output_type": "stream",
     "text": [
      "[Stage 0:>                                                          (0 + 4) / 4]\r"
     ]
    },
    {
     "name": "stdout",
     "output_type": "stream",
     "text": [
      "Initial number of rows:  541909\n"
     ]
    },
    {
     "name": "stderr",
     "output_type": "stream",
     "text": [
      "                                                                                \r"
     ]
    }
   ],
   "source": [
    "initial_number_of_rows = df_spark.count()\n",
    "print(\"Initial number of rows: \", initial_number_of_rows)"
   ]
  },
  {
   "cell_type": "code",
   "execution_count": 7,
   "metadata": {},
   "outputs": [
    {
     "data": {
      "text/html": [
       "\n",
       "            <div>\n",
       "                <p><b>SparkSession - in-memory</b></p>\n",
       "                \n",
       "        <div>\n",
       "            <p><b>SparkContext</b></p>\n",
       "\n",
       "            <p><a href=\"http://192.168.1.3:4040\">Spark UI</a></p>\n",
       "\n",
       "            <dl>\n",
       "              <dt>Version</dt>\n",
       "                <dd><code>v3.4.0</code></dd>\n",
       "              <dt>Master</dt>\n",
       "                <dd><code>local[4]</code></dd>\n",
       "              <dt>AppName</dt>\n",
       "                <dd><code>ClusterShop</code></dd>\n",
       "            </dl>\n",
       "        </div>\n",
       "        \n",
       "            </div>\n",
       "        "
      ],
      "text/plain": [
       "<pyspark.sql.session.SparkSession at 0x7f9bff5e7580>"
      ]
     },
     "execution_count": 7,
     "metadata": {},
     "output_type": "execute_result"
    }
   ],
   "source": [
    "spark"
   ]
  },
  {
   "cell_type": "code",
   "execution_count": 8,
   "metadata": {},
   "outputs": [
    {
     "name": "stdout",
     "output_type": "stream",
     "text": [
      "root\n",
      " |-- InvoiceNo: string (nullable = true)\n",
      " |-- StockCode: string (nullable = true)\n",
      " |-- Description: string (nullable = true)\n",
      " |-- Quantity: long (nullable = true)\n",
      " |-- InvoiceDate: date (nullable = true)\n",
      " |-- UnitPrice: double (nullable = true)\n",
      " |-- CustomerID: double (nullable = true)\n",
      " |-- Country: string (nullable = true)\n",
      "\n"
     ]
    }
   ],
   "source": [
    "df_spark.printSchema()"
   ]
  },
  {
   "cell_type": "code",
   "execution_count": 9,
   "metadata": {},
   "outputs": [
    {
     "name": "stdout",
     "output_type": "stream",
     "text": [
      "+---------+---------+--------------------+--------+-----------+---------+----------+--------------+\n",
      "|InvoiceNo|StockCode|         Description|Quantity|InvoiceDate|UnitPrice|CustomerID|       Country|\n",
      "+---------+---------+--------------------+--------+-----------+---------+----------+--------------+\n",
      "|   536365|   85123A|WHITE HANGING HEA...|       6| 2010-12-01|     2.55|   17850.0|United Kingdom|\n",
      "|   536365|    71053| WHITE METAL LANTERN|       6| 2010-12-01|     3.39|   17850.0|United Kingdom|\n",
      "|   536365|   84406B|CREAM CUPID HEART...|       8| 2010-12-01|     2.75|   17850.0|United Kingdom|\n",
      "|   536365|   84029G|KNITTED UNION FLA...|       6| 2010-12-01|     3.39|   17850.0|United Kingdom|\n",
      "|   536365|   84029E|RED WOOLLY HOTTIE...|       6| 2010-12-01|     3.39|   17850.0|United Kingdom|\n",
      "+---------+---------+--------------------+--------+-----------+---------+----------+--------------+\n",
      "only showing top 5 rows\n",
      "\n"
     ]
    }
   ],
   "source": [
    "df_spark.show(5)"
   ]
  },
  {
   "cell_type": "code",
   "execution_count": 10,
   "metadata": {},
   "outputs": [
    {
     "name": "stderr",
     "output_type": "stream",
     "text": [
      "                                                                                \r"
     ]
    },
    {
     "name": "stdout",
     "output_type": "stream",
     "text": [
      "+---------+---------+-----------+--------+---------+----------+-------+\n",
      "|InvoiceNo|StockCode|Description|Quantity|UnitPrice|CustomerID|Country|\n",
      "+---------+---------+-----------+--------+---------+----------+-------+\n",
      "|   541909|   541909|     540455|  541909|   541909|    406829| 541909|\n",
      "+---------+---------+-----------+--------+---------+----------+-------+\n",
      "\n"
     ]
    },
    {
     "name": "stderr",
     "output_type": "stream",
     "text": [
      "[Stage 7:>                                                          (0 + 4) / 4]\r"
     ]
    },
    {
     "name": "stdout",
     "output_type": "stream",
     "text": [
      "+---------+---------+-----------+--------+---------+----------+-------+\n",
      "|InvoiceNo|StockCode|Description|Quantity|UnitPrice|CustomerID|Country|\n",
      "+---------+---------+-----------+--------+---------+----------+-------+\n",
      "|        0|        0|       1454|       0|        0|    135080|      0|\n",
      "+---------+---------+-----------+--------+---------+----------+-------+\n",
      "\n"
     ]
    },
    {
     "name": "stderr",
     "output_type": "stream",
     "text": [
      "                                                                                \r"
     ]
    }
   ],
   "source": [
    "# percentage of missing values in each column of the DataFrame\n",
    "from pyspark.sql.functions import col, count, isnan, when\n",
    "# get columns excluding 'InvoiceDate'\n",
    "cols = [col for col in df_spark.columns if col != 'InvoiceDate']\n",
    "# count missing values in each column as a percentage of the total number of values and total number of values in each column\n",
    "df_spark.select([count(when(~isnan(c), c)).alias(c) for c in cols]).show()\n",
    "df_spark.select([count(when(isnan(c), c)).alias(c) for c in cols]).show()"
   ]
  },
  {
   "attachments": {},
   "cell_type": "markdown",
   "metadata": {},
   "source": [
    "* Note: 25% of the data not assigned to a certain customer as CustomerID is NaN"
   ]
  },
  {
   "cell_type": "code",
   "execution_count": 11,
   "metadata": {},
   "outputs": [
    {
     "name": "stderr",
     "output_type": "stream",
     "text": [
      "[Stage 11:>                                                         (0 + 4) / 4]\r"
     ]
    },
    {
     "name": "stdout",
     "output_type": "stream",
     "text": [
      "+---------+---------+-----------+--------+---------+----------+-------+\n",
      "|InvoiceNo|StockCode|Description|Quantity|UnitPrice|CustomerID|Country|\n",
      "+---------+---------+-----------+--------+---------+----------+-------+\n",
      "|        0|        0|          0|       0|        0|         0|      0|\n",
      "+---------+---------+-----------+--------+---------+----------+-------+\n",
      "\n"
     ]
    },
    {
     "name": "stderr",
     "output_type": "stream",
     "text": [
      "                                                                                \r"
     ]
    }
   ],
   "source": [
    "import math\n",
    "# filter out the missing values using map \n",
    "df_spark_filtered = df_spark.rdd.map(lambda x: x if not math.isnan(x['CustomerID'])  else None).filter(lambda x: x is not None).toDF()\n",
    "df_spark_filtered.select([count(when(isnan(c), c)).alias(c) for c in cols]).show()"
   ]
  },
  {
   "cell_type": "code",
   "execution_count": 12,
   "metadata": {},
   "outputs": [
    {
     "name": "stderr",
     "output_type": "stream",
     "text": [
      "[Stage 14:=============================>                            (2 + 2) / 4]\r"
     ]
    },
    {
     "name": "stdout",
     "output_type": "stream",
     "text": [
      "Number of rows after removing missing values: 406829\n"
     ]
    },
    {
     "name": "stderr",
     "output_type": "stream",
     "text": [
      "                                                                                \r"
     ]
    }
   ],
   "source": [
    "print(f\"Number of rows after removing missing values: {df_spark_filtered.count()}\")"
   ]
  },
  {
   "cell_type": "code",
   "execution_count": 13,
   "metadata": {},
   "outputs": [
    {
     "name": "stderr",
     "output_type": "stream",
     "text": [
      "[Stage 20:=============================>                            (2 + 2) / 4]\r"
     ]
    },
    {
     "name": "stdout",
     "output_type": "stream",
     "text": [
      "Number of duplicates: 5226\n"
     ]
    },
    {
     "name": "stderr",
     "output_type": "stream",
     "text": [
      "                                                                                \r"
     ]
    }
   ],
   "source": [
    "number_befoe_removing_duplicates = df_spark_filtered.count()\n",
    "#I want to remove duplicates while perserving the original order of the rows\n",
    "df_spark_filtered = df_spark_filtered.dropDuplicates()\n",
    "df_spark_filtered= df_spark_filtered.orderBy('InvoiceNo', 'InvoiceDate')\n",
    "number_after_removing_duplicates = df_spark_filtered.count()\n",
    "print(f\"Number of duplicates: {number_befoe_removing_duplicates - number_after_removing_duplicates}\")"
   ]
  },
  {
   "attachments": {},
   "cell_type": "markdown",
   "metadata": {},
   "source": [
    "* we just remove them as we will cluster customers based on their purchase history"
   ]
  },
  {
   "cell_type": "code",
   "execution_count": 14,
   "metadata": {},
   "outputs": [
    {
     "name": "stderr",
     "output_type": "stream",
     "text": [
      "[Stage 26:=============================>                            (2 + 2) / 4]\r"
     ]
    },
    {
     "name": "stdout",
     "output_type": "stream",
     "text": [
      "+---------+---------+--------------------+--------+-----------+---------+----------+--------------+\n",
      "|InvoiceNo|StockCode|         Description|Quantity|InvoiceDate|UnitPrice|CustomerID|       Country|\n",
      "+---------+---------+--------------------+--------+-----------+---------+----------+--------------+\n",
      "|   536365|    71053| WHITE METAL LANTERN|       6| 2010-12-01|     3.39|   17850.0|United Kingdom|\n",
      "|   536365|   84029E|RED WOOLLY HOTTIE...|       6| 2010-12-01|     3.39|   17850.0|United Kingdom|\n",
      "|   536365|    22752|SET 7 BABUSHKA NE...|       2| 2010-12-01|     7.65|   17850.0|United Kingdom|\n",
      "|   536365|   84029G|KNITTED UNION FLA...|       6| 2010-12-01|     3.39|   17850.0|United Kingdom|\n",
      "|   536365|    21730|GLASS STAR FROSTE...|       6| 2010-12-01|     4.25|   17850.0|United Kingdom|\n",
      "+---------+---------+--------------------+--------+-----------+---------+----------+--------------+\n",
      "only showing top 5 rows\n",
      "\n"
     ]
    },
    {
     "name": "stderr",
     "output_type": "stream",
     "text": [
      "                                                                                \r"
     ]
    }
   ],
   "source": [
    "df_spark_filtered.show(5)"
   ]
  },
  {
   "attachments": {},
   "cell_type": "markdown",
   "metadata": {},
   "source": [
    "### InvoiceNo\n",
    "* uniquely assigned to each transaction. If this code starts with letter 'c', it indicates a cancellation.\n",
    "* 6-digit integral number"
   ]
  },
  {
   "cell_type": "code",
   "execution_count": 15,
   "metadata": {},
   "outputs": [
    {
     "name": "stderr",
     "output_type": "stream",
     "text": [
      "                                                                                \r"
     ]
    },
    {
     "name": "stdout",
     "output_type": "stream",
     "text": [
      "+------------------+----------------------------+--------------------+\n",
      "|count_transactions|count cancelled transactions|cancelled_percentage|\n",
      "+------------------+----------------------------+--------------------+\n",
      "|             22190|                        3654| 0.16466876971608832|\n",
      "+------------------+----------------------------+--------------------+\n",
      "\n"
     ]
    }
   ],
   "source": [
    "#count_invoices is unique invoice numbers\n",
    "count_transactions = df_spark_filtered.select('InvoiceNo').distinct().count()\n",
    "count_cancelled_transactions= df_spark_filtered.filter(df_spark_filtered['InvoiceNo'].contains('C')).select('InvoiceNo').distinct().count()\n",
    "cancelled_percentage = count_cancelled_transactions/count_transactions\n",
    "data = [(count_transactions, count_cancelled_transactions, cancelled_percentage)]\n",
    "columns = [\"count_transactions\", \"count cancelled transactions\", \"cancelled_percentage\"]\n",
    "invoice_no_characteristics = spark.createDataFrame(data, columns)\n",
    "invoice_no_characteristics.show()"
   ]
  },
  {
   "attachments": {},
   "cell_type": "markdown",
   "metadata": {},
   "source": [
    "* almost 16% of orders are cancelled"
   ]
  },
  {
   "attachments": {},
   "cell_type": "markdown",
   "metadata": {},
   "source": [
    "### check cancelled invoices"
   ]
  },
  {
   "cell_type": "code",
   "execution_count": 16,
   "metadata": {},
   "outputs": [
    {
     "name": "stderr",
     "output_type": "stream",
     "text": [
      "[Stage 51:===========================================>              (3 + 1) / 4]\r"
     ]
    },
    {
     "name": "stdout",
     "output_type": "stream",
     "text": [
      "+---------+---------+--------------------+--------+-----------+---------+----------+--------------+\n",
      "|InvoiceNo|StockCode|         Description|Quantity|InvoiceDate|UnitPrice|CustomerID|       Country|\n",
      "+---------+---------+--------------------+--------+-----------+---------+----------+--------------+\n",
      "|  C541433|    23166|MEDIUM CERAMIC TO...|  -74215| 2011-01-18|     1.04|   12346.0|United Kingdom|\n",
      "|   541431|    23166|MEDIUM CERAMIC TO...|   74215| 2011-01-18|     1.04|   12346.0|United Kingdom|\n",
      "|   542237|    22497|SET OF 2 TINS VIN...|       4| 2011-01-26|     4.25|   12347.0|       Iceland|\n",
      "|   537626|   84997D|PINK 3 PIECE POLK...|       6| 2010-12-07|     3.75|   12347.0|       Iceland|\n",
      "|   542237|    20966|SANDWICH BATH SPONGE|      10| 2011-01-26|     1.25|   12347.0|       Iceland|\n",
      "+---------+---------+--------------------+--------+-----------+---------+----------+--------------+\n",
      "only showing top 5 rows\n",
      "\n"
     ]
    },
    {
     "name": "stderr",
     "output_type": "stream",
     "text": [
      "                                                                                \r"
     ]
    }
   ],
   "source": [
    "df_sorted_CustomerID = df_spark_filtered.sort('CustomerID')\n",
    "df_sorted_CustomerID.show(5)"
   ]
  },
  {
   "attachments": {},
   "cell_type": "markdown",
   "metadata": {},
   "source": [
    "* Look at the first two transactions are the same(StockCode,Description,UnitPrice,CustomerID,Country)\n",
    "* and different(InvoiceNo,sign of Quantity,InvoiceDate)\n",
    "* which means the second transaction is a cancellation of the first one"
   ]
  },
  {
   "attachments": {},
   "cell_type": "markdown",
   "metadata": {},
   "source": [
    "* try to check if every negative quantity transaction (cancellation) has a positive quantity transaction in our data"
   ]
  },
  {
   "cell_type": "code",
   "execution_count": 17,
   "metadata": {},
   "outputs": [
    {
     "name": "stderr",
     "output_type": "stream",
     "text": [
      "[Stage 62:===========================================>              (3 + 1) / 4]\r"
     ]
    },
    {
     "name": "stdout",
     "output_type": "stream",
     "text": [
      "Row(CustomerID=14527.0, Quantity=-1, StockCode='D', Description='Discount', UnitPrice=27.5)\n",
      "---------------> HYPOTHESIS NOT FULFILLED\n"
     ]
    },
    {
     "name": "stderr",
     "output_type": "stream",
     "text": [
      "                                                                                \r"
     ]
    }
   ],
   "source": [
    "from pyspark.sql.functions import col\n",
    "\n",
    "df_check = df_spark_filtered.filter(col('Quantity') < 0).select('CustomerID', 'Quantity', 'StockCode', 'Description', 'UnitPrice')\n",
    "for row in df_check.rdd.collect():\n",
    "    if df_spark_filtered.filter((col('CustomerID') == row[0]) & (col('Quantity') == -row[1]) & (col('Description') == row[2])).count() == 0:\n",
    "        print(row)\n",
    "        print(15*'-'+'>'+' HYPOTHESIS NOT FULFILLED')\n",
    "        break"
   ]
  },
  {
   "attachments": {},
   "cell_type": "markdown",
   "metadata": {},
   "source": [
    "* we will discard the Discount transactions"
   ]
  },
  {
   "cell_type": "code",
   "execution_count": 18,
   "metadata": {},
   "outputs": [
    {
     "name": "stderr",
     "output_type": "stream",
     "text": [
      "[Stage 73:===========================================>              (3 + 1) / 4]\r"
     ]
    },
    {
     "name": "stdout",
     "output_type": "stream",
     "text": [
      "Row(CustomerID=15311.0, Quantity=-1, StockCode='35004C', Description='SET OF 3 COLOURED  FLYING DUCKS', UnitPrice=4.65)\n",
      "---------------> HYPOTHESIS NOT FULFILLED\n"
     ]
    },
    {
     "name": "stderr",
     "output_type": "stream",
     "text": [
      "                                                                                \r"
     ]
    }
   ],
   "source": [
    "from pyspark.sql.functions import col\n",
    "\n",
    "df_check = df_spark_filtered.filter((col('Quantity') < 0) & (col('Description')!='Discount')).select('CustomerID', 'Quantity', 'StockCode', 'Description', 'UnitPrice')\n",
    "for row in df_check.rdd.collect():\n",
    "    if df_spark_filtered.filter((col('CustomerID') == row[0]) & (col('Quantity') == -row[1]) & (col('Description') == row[2])).count() == 0:\n",
    "        print(row)\n",
    "        print(15*'-'+'>'+' HYPOTHESIS NOT FULFILLED')\n",
    "        break"
   ]
  },
  {
   "attachments": {},
   "cell_type": "markdown",
   "metadata": {},
   "source": [
    "* Then not every negative quantity transaction (cancellation) has a positive quantity transaction in our data\n",
    "* May be its positive pair was before the starting date of our data or removed by the data cleaning process "
   ]
  },
  {
   "attachments": {},
   "cell_type": "markdown",
   "metadata": {},
   "source": [
    "### StockCode\n",
    "* uniquely assigned to each distinct product\n",
    "* 5-digit integral number"
   ]
  },
  {
   "cell_type": "code",
   "execution_count": 19,
   "metadata": {},
   "outputs": [
    {
     "name": "stderr",
     "output_type": "stream",
     "text": [
      "[Stage 76:=============================>                            (2 + 2) / 4]\r"
     ]
    },
    {
     "name": "stdout",
     "output_type": "stream",
     "text": [
      "Number of unique products: 3684\n"
     ]
    },
    {
     "name": "stderr",
     "output_type": "stream",
     "text": [
      "                                                                                \r"
     ]
    }
   ],
   "source": [
    "number_of_unique_products = df_spark_filtered.select('StockCode').distinct().count()\n",
    "print(f\"Number of unique products: {number_of_unique_products}\")"
   ]
  },
  {
   "cell_type": "code",
   "execution_count": 20,
   "metadata": {},
   "outputs": [
    {
     "name": "stderr",
     "output_type": "stream",
     "text": [
      "[Stage 86:===========================================>              (3 + 1) / 4]\r"
     ]
    },
    {
     "name": "stdout",
     "output_type": "stream",
     "text": [
      "+------------+--------------------+\n",
      "|   StockCode|         Description|\n",
      "+------------+--------------------+\n",
      "|        POST|             POSTAGE|\n",
      "|         DOT|      DOTCOM POSTAGE|\n",
      "|           D|            Discount|\n",
      "|          C2|            CARRIAGE|\n",
      "|BANK CHARGES|        Bank Charges|\n",
      "|        PADS|PADS TO MATCH ALL...|\n",
      "|           M|              Manual|\n",
      "|        CRUK|     CRUK Commission|\n",
      "+------------+--------------------+\n",
      "\n"
     ]
    },
    {
     "name": "stderr",
     "output_type": "stream",
     "text": [
      "                                                                                \r"
     ]
    }
   ],
   "source": [
    "#get stockCodes that are not numbers\n",
    "from pyspark.sql.functions import regexp_extract, col\n",
    "list_special_codes = df_spark_filtered.select(['StockCode','Description']).filter(col('StockCode').rlike('^[a-zA-Z]+'))\n",
    "list_special_codes.distinct().show()"
   ]
  },
  {
   "attachments": {},
   "cell_type": "markdown",
   "metadata": {},
   "source": [
    "<!-- POST            -> POSTAGE                       \n",
    "D               -> Discount                      \n",
    "C2              -> CARRIAGE                      \n",
    "M               -> Manual                        \n",
    "BANK CHARGES    -> Bank Charges                  \n",
    "PADS            -> PADS TO MATCH ALL CUSHIONS    \n",
    "DOT             -> DOTCOM POSTAGE    -->"
   ]
  },
  {
   "cell_type": "code",
   "execution_count": 21,
   "metadata": {},
   "outputs": [
    {
     "name": "stderr",
     "output_type": "stream",
     "text": [
      "[Stage 92:===========================================>              (3 + 1) / 4]\r"
     ]
    },
    {
     "name": "stdout",
     "output_type": "stream",
     "text": [
      "+---------+--------+\n",
      "|StockCode|Quantity|\n",
      "+---------+--------+\n",
      "|    84077|   53119|\n",
      "|    22197|   48689|\n",
      "|   85099B|   44963|\n",
      "|    84879|   35215|\n",
      "|   85123A|   34185|\n",
      "+---------+--------+\n",
      "only showing top 5 rows\n",
      "\n"
     ]
    },
    {
     "name": "stderr",
     "output_type": "stream",
     "text": [
      "                                                                                \r"
     ]
    }
   ],
   "source": [
    "#most popular items ==for every StockCode count the sum of the Quantity in all the invoices and return the top 5\n",
    "from pyspark.sql.functions import sum\n",
    "df_spark_filtered.groupBy('StockCode').agg(sum('Quantity').alias('Quantity')).orderBy('Quantity', ascending=False).show(5)"
   ]
  },
  {
   "cell_type": "code",
   "execution_count": 22,
   "metadata": {},
   "outputs": [
    {
     "name": "stderr",
     "output_type": "stream",
     "text": [
      "[Stage 98:=============================>                            (2 + 2) / 4]\r"
     ]
    },
    {
     "name": "stdout",
     "output_type": "stream",
     "text": [
      "+---------+--------+\n",
      "|StockCode|Quantity|\n",
      "+---------+--------+\n",
      "|    84347|   -1475|\n",
      "|        D|   -1194|\n",
      "|    21645|     -24|\n",
      "|     CRUK|     -16|\n",
      "|    21144|     -12|\n",
      "+---------+--------+\n",
      "only showing top 5 rows\n",
      "\n"
     ]
    },
    {
     "name": "stderr",
     "output_type": "stream",
     "text": [
      "                                                                                \r"
     ]
    }
   ],
   "source": [
    "from pyspark.sql.functions import sum\n",
    "df_spark_filtered.groupBy('StockCode').agg(sum('Quantity').alias('Quantity')).orderBy('Quantity', ascending=True).show(5)"
   ]
  },
  {
   "attachments": {},
   "cell_type": "markdown",
   "metadata": {},
   "source": [
    "### Description\n",
    "Product (item) name. Nominal."
   ]
  },
  {
   "cell_type": "code",
   "execution_count": 23,
   "metadata": {},
   "outputs": [
    {
     "name": "stderr",
     "output_type": "stream",
     "text": [
      "[nltk_data] Downloading package punkt to /home/hazemabdo/nltk_data...\n",
      "[nltk_data]   Package punkt is already up-to-date!\n",
      "[nltk_data] Downloading package averaged_perceptron_tagger to\n",
      "[nltk_data]     /home/hazemabdo/nltk_data...\n",
      "[nltk_data]   Package averaged_perceptron_tagger is already up-to-\n",
      "[nltk_data]       date!\n",
      "                                                                                \r"
     ]
    },
    {
     "name": "stdout",
     "output_type": "stream",
     "text": [
      "Number of keywords:  1482\n"
     ]
    }
   ],
   "source": [
    "import nltk\n",
    "nltk.download('punkt')\n",
    "nltk.download('averaged_perceptron_tagger')\n",
    "from pyspark.sql.functions import udf\n",
    "from pyspark.sql.types import ArrayType, StringType, StructType, StructField\n",
    "\n",
    "is_noun = lambda pos: pos[:2] == 'NN'\n",
    "# Define a user-defined function (UDF) to extract nouns from a sentence\n",
    "def extract_nouns(sentence):\n",
    "    if sentence is None:\n",
    "        return []\n",
    "    else:\n",
    "        stemmer = nltk.stem.SnowballStemmer(\"english\")\n",
    "        tokenized = nltk.word_tokenize(sentence.lower())\n",
    "        nouns = [word for (word, pos) in nltk.pos_tag(tokenized) if is_noun(pos)]\n",
    "     \n",
    "\n",
    "        return [stemmer.stem(noun) for noun in nouns]\n",
    "\n",
    "# Register the UDF with PySpark SQL\n",
    "extract_nouns_udf = udf(extract_nouns, ArrayType(StringType()))\n",
    "\n",
    "# Define the schema for the output of the keywords_inventory function\n",
    "keywords_schema = StructType([\n",
    "    StructField(\"category_key\", StringType(), True),\n",
    "    StructField(\"keywords_roots\", StringType(), True),\n",
    "    StructField(\"keywords_select\", StringType(), True),\n",
    "    StructField(\"count_keywords\", StringType(), True)\n",
    "])\n",
    "\n",
    "def keywords_inventory(dataframe, colonne='Description'):\n",
    "    # Apply the extract_nouns UDF to the specified column and create a new column with the extracted nouns\n",
    "    dataframe = dataframe.withColumn(\"nouns\", extract_nouns_udf(dataframe[colonne]))\n",
    "    \n",
    "    stemmer = nltk.stem.SnowballStemmer(\"english\")\n",
    "    keywords_roots = dict()  # collect the words / root\n",
    "    keywords_select = dict()  # association: root <-> keyword\n",
    "    category_keys = []\n",
    "    count_keywords = dict()\n",
    "    \n",
    "    for row in dataframe.select(\"nouns\").collect():\n",
    "        nouns = row[0]\n",
    "        \n",
    "        for t in nouns:\n",
    "            racine = stemmer.stem(t)\n",
    "            if racine in keywords_roots:\n",
    "                keywords_roots[racine].add(t)\n",
    "                count_keywords[racine] += 1\n",
    "            else:\n",
    "                keywords_roots[racine] = {t}\n",
    "                count_keywords[racine] = 1\n",
    "    \n",
    "    for s in keywords_roots.keys():\n",
    "        if len(keywords_roots[s]) > 1:\n",
    "            min_length = 1000\n",
    "            for k in keywords_roots[s]:\n",
    "                if len(k) < min_length:\n",
    "                    clef = k\n",
    "                    min_length = len(k)\n",
    "            category_keys.append(clef)\n",
    "            keywords_select[s] = clef\n",
    "        else:\n",
    "            category_keys.append(list(keywords_roots[s])[0])\n",
    "            keywords_select[s] = list(keywords_roots[s])[0]\n",
    "    \n",
    "    # Convert the results to PySpark DataFrame and return\n",
    "    result = [[category_keys[i], list(keywords_roots.keys())[i], keywords_select[list(keywords_roots.keys())[i]], count_keywords[list(keywords_roots.keys())[i]]] for i in range(len(category_keys))]\n",
    "    return spark.createDataFrame(result, schema=keywords_schema)\n",
    "\n",
    "\n",
    "# get unique products describtions\n",
    "df_products_desc = df_spark_filtered.select('Description').distinct()\n",
    "\n",
    "# Apply the keywords_inventory function to the dataframe\n",
    "keywords = keywords_inventory(df_products_desc)\n",
    "\n",
    "# Display the number of keywords\n",
    "print(\"Number of keywords: \", keywords.count())"
   ]
  },
  {
   "cell_type": "code",
   "execution_count": 24,
   "metadata": {},
   "outputs": [
    {
     "name": "stdout",
     "output_type": "stream",
     "text": [
      "+------------+--------------+---------------+--------------+\n",
      "|category_key|keywords_roots|keywords_select|count_keywords|\n",
      "+------------+--------------+---------------+--------------+\n",
      "|       heart|         heart|          heart|           267|\n",
      "|      vintag|        vintag|         vintag|           211|\n",
      "|         set|           set|            set|           206|\n",
      "|        pink|          pink|           pink|           189|\n",
      "|         bag|           bag|            bag|           165|\n",
      "|         box|           box|            box|           155|\n",
      "|       glass|         glass|          glass|           149|\n",
      "|    christma|      christma|       christma|           137|\n",
      "|      design|        design|         design|           128|\n",
      "|       candl|         candl|          candl|           121|\n",
      "|      holder|        holder|         holder|           120|\n",
      "|      flower|        flower|         flower|           120|\n",
      "|       decor|         decor|          decor|           109|\n",
      "|       metal|         metal|          metal|            99|\n",
      "|        card|          card|           card|            90|\n",
      "|   retrospot|     retrospot|      retrospot|            90|\n",
      "|     necklac|       necklac|        necklac|            85|\n",
      "|       paper|         paper|          paper|            84|\n",
      "|        blue|          blue|           blue|            80|\n",
      "|         art|           art|            art|            75|\n",
      "+------------+--------------+---------------+--------------+\n",
      "only showing top 20 rows\n",
      "\n"
     ]
    },
    {
     "data": {
      "image/png": "[encoded data removed]",
      "text/plain": [
       "<Figure size 2000x2000 with 1 Axes>"
      ]
     },
     "metadata": {},
     "output_type": "display_data"
    }
   ],
   "source": [
    "# sort the keywords by their frequencies after converting the count_keywords column to integer  \n",
    "keywords = keywords.withColumn(\"count_keywords\", keywords[\"count_keywords\"].cast(\"int\")).sort(\"count_keywords\", ascending=False)\n",
    "keywords.show()\n",
    "\n",
    "# plot the histogram of the keywords frequencies\n",
    "import matplotlib.pyplot as plt\n",
    "import numpy as np\n",
    "import pandas as pd\n",
    "\n",
    "# convert the PySpark DataFrame to Pandas DataFrame\n",
    "keywords_pd = keywords.toPandas()\n",
    "\n",
    "# plot the horizontal bar chart\n",
    "fig, ax = plt.subplots(figsize=(20, 20))\n",
    "ax.barh(keywords_pd['category_key'][:100], keywords_pd['count_keywords'][:100])\n",
    "ax.set_xlabel('Frequency')\n",
    "ax.set_ylabel('Keywords')\n",
    "ax.set_title('Keywords and their frequencies')\n",
    "plt.rc('xtick', labelsize=10)\n",
    "plt.rc('ytick', labelsize=10)\n",
    "ax = plt.gca()\n",
    "ax.invert_yaxis()\n",
    "plt.show()"
   ]
  },
  {
   "cell_type": "code",
   "execution_count": 25,
   "metadata": {},
   "outputs": [
    {
     "name": "stdout",
     "output_type": "stream",
     "text": [
      "Number of keywords:  162\n"
     ]
    }
   ],
   "source": [
    "# consider only the keywords with frequency greater than 15\n",
    "keywords_filtered = keywords.filter(keywords['count_keywords'] > 15)\n",
    "\n",
    "print(\"Number of keywords: \", keywords_filtered.count())"
   ]
  },
  {
   "cell_type": "code",
   "execution_count": 26,
   "metadata": {},
   "outputs": [
    {
     "name": "stdout",
     "output_type": "stream",
     "text": [
      "Number of products:  193\n"
     ]
    }
   ],
   "source": [
    "count_keywords = keywords_pd['count_keywords'].values.tolist()\n",
    "keywords_select = keywords_pd['category_key'].values.tolist()\n",
    "\n",
    "count_keywords = dict(enumerate(count_keywords))\n",
    "keywords_select = dict(enumerate(keywords_select))\n",
    "\n",
    "list_products = []\n",
    "for k,v in count_keywords.items():\n",
    "    word = keywords_select[k]\n",
    "    if word in ['pink', 'blue', 'tag', 'green', 'orange']: continue\n",
    "    if len(word) < 3 or v < 13: continue\n",
    "    if ('+' in word) or ('/' in word): continue\n",
    "    list_products.append([word, v])\n",
    "#______________________________________________________    \n",
    "list_products.sort(key = lambda x:x[1], reverse = True)\n",
    "print(\"Number of products: \", len(list_products))"
   ]
  },
  {
   "attachments": {},
   "cell_type": "markdown",
   "metadata": {},
   "source": [
    "### Quantity\n",
    "The quantities of each product (item) per transaction. Numeric.\n"
   ]
  },
  {
   "cell_type": "code",
   "execution_count": 27,
   "metadata": {},
   "outputs": [
    {
     "name": "stderr",
     "output_type": "stream",
     "text": [
      "                                                                                \r"
     ]
    },
    {
     "name": "stdout",
     "output_type": "stream",
     "text": [
      "+-------+------------------+\n",
      "|summary|          Quantity|\n",
      "+-------+------------------+\n",
      "|  count|            401603|\n",
      "|   mean|12.183297933531373|\n",
      "| stddev|250.28334823423197|\n",
      "|    min|            -80995|\n",
      "|    max|             80995|\n",
      "+-------+------------------+\n",
      "\n"
     ]
    }
   ],
   "source": [
    "df_spark_filtered.select('Quantity').describe().show()"
   ]
  },
  {
   "attachments": {},
   "cell_type": "markdown",
   "metadata": {},
   "source": [
    "### CustomerID\n",
    "*  a 5-digit integral number uniquely assigned to each customer"
   ]
  },
  {
   "cell_type": "code",
   "execution_count": 28,
   "metadata": {},
   "outputs": [
    {
     "name": "stderr",
     "output_type": "stream",
     "text": [
      "                                                                                \r"
     ]
    },
    {
     "data": {
      "text/plain": [
       "4372"
      ]
     },
     "execution_count": 28,
     "metadata": {},
     "output_type": "execute_result"
    }
   ],
   "source": [
    "#get number of unique customers\n",
    "df_spark_filtered.select('CustomerID').distinct().count()"
   ]
  },
  {
   "cell_type": "code",
   "execution_count": 29,
   "metadata": {},
   "outputs": [
    {
     "name": "stderr",
     "output_type": "stream",
     "text": [
      "[Stage 151:>                                                        (0 + 4) / 4]\r"
     ]
    },
    {
     "name": "stdout",
     "output_type": "stream",
     "text": [
      "+----------+---------+------------------+\n",
      "|CustomerID|InvoiceNo|Number of products|\n",
      "+----------+---------+------------------+\n",
      "|   12346.0|   541431|                 1|\n",
      "|   12346.0|  C541433|                 1|\n",
      "|   12347.0|   537626|                31|\n",
      "|   12347.0|   542237|                29|\n",
      "|   12347.0|   581180|                11|\n",
      "|   12347.0|   562032|                22|\n",
      "|   12347.0|   573511|                47|\n",
      "|   12347.0|   549222|                24|\n",
      "|   12347.0|   556201|                18|\n",
      "|   12348.0|   548955|                 5|\n",
      "+----------+---------+------------------+\n",
      "only showing top 10 rows\n",
      "\n"
     ]
    },
    {
     "name": "stderr",
     "output_type": "stream",
     "text": [
      "                                                                                \r"
     ]
    }
   ],
   "source": [
    "# group by CustomerID, InvoiceNo, and count the number of rows\n",
    "from pyspark.sql.functions import count\n",
    "temp = df_spark_filtered.groupBy('CustomerID', 'InvoiceNo').agg(count('Quantity').alias('Number of products')).orderBy('CustomerID', ascending=True)\n",
    "temp.show(10)"
   ]
  },
  {
   "attachments": {},
   "cell_type": "markdown",
   "metadata": {},
   "source": [
    "* Invoices starts whit C are cancelled\n",
    "* there are customers only buy small quantities of products and other customers buy large quantities of products"
   ]
  },
  {
   "attachments": {},
   "cell_type": "markdown",
   "metadata": {},
   "source": [
    "### InvoiceDate"
   ]
  },
  {
   "cell_type": "code",
   "execution_count": 30,
   "metadata": {},
   "outputs": [
    {
     "name": "stderr",
     "output_type": "stream",
     "text": [
      "                                                                                \r"
     ]
    },
    {
     "name": "stdout",
     "output_type": "stream",
     "text": [
      "the minimum date is: 2010-12-01\n"
     ]
    },
    {
     "name": "stderr",
     "output_type": "stream",
     "text": [
      "[Stage 161:==============>                                          (1 + 3) / 4]\r"
     ]
    },
    {
     "name": "stdout",
     "output_type": "stream",
     "text": [
      "the maximum date is: 2011-12-09\n"
     ]
    },
    {
     "name": "stderr",
     "output_type": "stream",
     "text": [
      "                                                                                \r"
     ]
    }
   ],
   "source": [
    "#min and max date\n",
    "print(f\"the minimum date is: {df_spark_filtered.select('InvoiceDate').agg({'InvoiceDate': 'min'}).collect()[0][0]}\")\n",
    "print(f\"the maximum date is: {df_spark_filtered.select('InvoiceDate').agg({'InvoiceDate': 'max'}).collect()[0][0]}\")"
   ]
  },
  {
   "attachments": {},
   "cell_type": "markdown",
   "metadata": {},
   "source": [
    "### Country"
   ]
  },
  {
   "cell_type": "code",
   "execution_count": 31,
   "metadata": {},
   "outputs": [
    {
     "name": "stderr",
     "output_type": "stream",
     "text": [
      "[Stage 167:==========================================>              (3 + 1) / 4]\r"
     ]
    },
    {
     "name": "stdout",
     "output_type": "stream",
     "text": [
      "Number of countries: 37\n"
     ]
    },
    {
     "name": "stderr",
     "output_type": "stream",
     "text": [
      "                                                                                \r"
     ]
    }
   ],
   "source": [
    "number_countries=df_spark_filtered.select('Country').distinct().count()\n",
    "print(f\"Number of countries: {number_countries}\")"
   ]
  },
  {
   "cell_type": "code",
   "execution_count": 32,
   "metadata": {},
   "outputs": [
    {
     "name": "stderr",
     "output_type": "stream",
     "text": [
      "                                                                                \r"
     ]
    },
    {
     "name": "stdout",
     "output_type": "stream",
     "text": [
      "Sum of invoice counts: 22190\n"
     ]
    },
    {
     "name": "stderr",
     "output_type": "stream",
     "text": [
      "                                                                                \r"
     ]
    },
    {
     "data": {
      "image/png": "[encoded data removed]",
      "text/plain": [
       "<Figure size 640x480 with 1 Axes>"
      ]
     },
     "metadata": {},
     "output_type": "display_data"
    }
   ],
   "source": [
    "invoice_counts = df_spark_filtered.groupBy(['Country', 'InvoiceNo']).count().groupBy('Country').count().orderBy('count', ascending=False)\n",
    "#print sum of invoice_counts\n",
    "print(f\"Sum of invoice counts: {invoice_counts.agg({'count': 'sum'}).collect()[0][0]}\")\n",
    "pandas_df = invoice_counts.toPandas()\n",
    "pandas_df.plot(kind=\"bar\", x=\"Country\", y=\"count\")\n",
    "plt.title(\"#transactions per Country\")\n",
    "plt.xlabel(\"Country\")\n",
    "plt.ylabel(\"#transactions\")\n",
    "plt.show()"
   ]
  },
  {
   "cell_type": "code",
   "execution_count": 33,
   "metadata": {},
   "outputs": [
    {
     "name": "stderr",
     "output_type": "stream",
     "text": [
      "                                                                                \r"
     ]
    },
    {
     "name": "stdout",
     "output_type": "stream",
     "text": [
      "Sum of cancelled invoice counts: 3654\n"
     ]
    },
    {
     "name": "stderr",
     "output_type": "stream",
     "text": [
      "                                                                                \r"
     ]
    },
    {
     "data": {
      "image/png": "[encoded data removed]",
      "text/plain": [
       "<Figure size 640x480 with 1 Axes>"
      ]
     },
     "metadata": {},
     "output_type": "display_data"
    }
   ],
   "source": [
    "cancelled_invoice_counts = df_spark_filtered.filter(df_spark_filtered['InvoiceNo'].contains('C')).groupBy(['Country', 'InvoiceNo']).count().groupBy('Country').count().orderBy('count', ascending=False)\n",
    "print(f\"Sum of cancelled invoice counts: {cancelled_invoice_counts.agg({'count': 'sum'}).collect()[0][0]}\")\n",
    "pandas_df = cancelled_invoice_counts.toPandas()\n",
    "pandas_df.plot(kind=\"bar\", x=\"Country\", y=\"count\")\n",
    "plt.title(\"# Cancelled transactions per Country\")\n",
    "plt.xlabel(\"Country\")\n",
    "plt.ylabel(\"# Cancelled transactions\")\n",
    "plt.show()"
   ]
  },
  {
   "cell_type": "code",
   "execution_count": 34,
   "metadata": {},
   "outputs": [
    {
     "name": "stderr",
     "output_type": "stream",
     "text": [
      "[Stage 245:============================>                            (2 + 2) / 4]\r"
     ]
    },
    {
     "name": "stdout",
     "output_type": "stream",
     "text": [
      "+---------+---------+--------------------+--------+-----------+---------+----------+--------------+---------+\n",
      "|InvoiceNo|StockCode|         Description|Quantity|InvoiceDate|UnitPrice|CustomerID|       Country|TotalCost|\n",
      "+---------+---------+--------------------+--------+-----------+---------+----------+--------------+---------+\n",
      "|   536365|   84029E|RED WOOLLY HOTTIE...|       6| 2010-12-01|     3.39|   17850.0|United Kingdom|    20.34|\n",
      "|   536365|    22752|SET 7 BABUSHKA NE...|       2| 2010-12-01|     7.65|   17850.0|United Kingdom|     15.3|\n",
      "|   536365|    21730|GLASS STAR FROSTE...|       6| 2010-12-01|     4.25|   17850.0|United Kingdom|     25.5|\n",
      "|   536365|   85123A|WHITE HANGING HEA...|       6| 2010-12-01|     2.55|   17850.0|United Kingdom|     15.3|\n",
      "|   536365|   84029G|KNITTED UNION FLA...|       6| 2010-12-01|     3.39|   17850.0|United Kingdom|    20.34|\n",
      "|   536365|   84406B|CREAM CUPID HEART...|       8| 2010-12-01|     2.75|   17850.0|United Kingdom|     22.0|\n",
      "|   536365|    71053| WHITE METAL LANTERN|       6| 2010-12-01|     3.39|   17850.0|United Kingdom|    20.34|\n",
      "|   536366|    22633|HAND WARMER UNION...|       6| 2010-12-01|     1.85|   17850.0|United Kingdom|     11.1|\n",
      "|   536366|    22632|HAND WARMER RED P...|       6| 2010-12-01|     1.85|   17850.0|United Kingdom|     11.1|\n",
      "|   536367|    22745|POPPY'S PLAYHOUSE...|       6| 2010-12-01|      2.1|   13047.0|United Kingdom|     12.6|\n",
      "+---------+---------+--------------------+--------+-----------+---------+----------+--------------+---------+\n",
      "only showing top 10 rows\n",
      "\n"
     ]
    },
    {
     "name": "stderr",
     "output_type": "stream",
     "text": [
      "                                                                                \r"
     ]
    }
   ],
   "source": [
    "from pyspark.sql.functions import col\n",
    "from pyspark.sql.functions import round\n",
    "df_spark_filtered = df_spark_filtered.withColumn(\"TotalCost\", col(\"Quantity\") * col(\"UnitPrice\"))\n",
    "df_spark_filtered = df_spark_filtered.withColumn(\"TotalCost\", round(df_spark_filtered.TotalCost, 2))\n",
    "df_spark_filtered.show(10)"
   ]
  },
  {
   "attachments": {},
   "cell_type": "markdown",
   "metadata": {},
   "source": [
    "## Feature Engineering"
   ]
  },
  {
   "attachments": {},
   "cell_type": "markdown",
   "metadata": {},
   "source": [
    "### Product Returns\n",
    "* Product returns = count(InvoiceNo starts with c) / count(InvoiceNo) for each customer"
   ]
  },
  {
   "cell_type": "code",
   "execution_count": 35,
   "metadata": {},
   "outputs": [
    {
     "name": "stderr",
     "output_type": "stream",
     "text": [
      "                                                                                \r"
     ]
    },
    {
     "name": "stdout",
     "output_type": "stream",
     "text": [
      "+----------+--------------+\n",
      "|CustomerID|ProductReturns|\n",
      "+----------+--------------+\n",
      "|   12654.0|           0.0|\n",
      "|   18037.0|           0.0|\n",
      "|   14793.0|           0.5|\n",
      "+----------+--------------+\n",
      "\n"
     ]
    }
   ],
   "source": [
    "from pyspark.sql.functions import count, when\n",
    "from operator import add\n",
    "\n",
    "# Map function to emit (customer_id, (is_return, 1)) key-value pairs\n",
    "def map_func(row):\n",
    "    customer_id = row['CustomerID']\n",
    "    invoice_no = row['InvoiceNo']\n",
    "    is_return = 1 if invoice_no.startswith('C') else 0\n",
    "    return (customer_id, (is_return, 1))\n",
    "\n",
    "# Reduce function to aggregate the (is_return, count) values for each customer\n",
    "def reduce_func(x, y):\n",
    "    return (x[0] + y[0], x[1] + y[1])\n",
    "\n",
    "# Apply map function to dataset and reduce by key to get (customer_id, (total_returns, total_transactions)) pairs\n",
    "customer_returns = df_spark_filtered.select('CustomerID', 'InvoiceNo').distinct().rdd.map(map_func).reduceByKey(reduce_func)\n",
    "# Calculate product returns for each customer using map function\n",
    "product_returns = customer_returns.map(lambda x: (x[0], x[1][0] / x[1][1] if x[1][1] > 0 else 0))\n",
    "\n",
    "# Collect the results as a list of tuples and convert to a PySpark DataFrame\n",
    "product_returns = spark.createDataFrame(product_returns.collect(), ['CustomerID', 'ProductReturns'])\n",
    "product_returns.sample(False, 0.001).show()"
   ]
  },
  {
   "cell_type": "code",
   "execution_count": 36,
   "metadata": {},
   "outputs": [
    {
     "name": "stderr",
     "output_type": "stream",
     "text": [
      "[Stage 257:==========================================>              (3 + 1) / 4]\r"
     ]
    },
    {
     "name": "stdout",
     "output_type": "stream",
     "text": [
      "+---------+\n",
      "|InvoiceNo|\n",
      "+---------+\n",
      "|   570003|\n",
      "|  C569954|\n",
      "+---------+\n",
      "\n"
     ]
    },
    {
     "name": "stderr",
     "output_type": "stream",
     "text": [
      "                                                                                \r"
     ]
    }
   ],
   "source": [
    "df_spark_filtered.filter(df_spark_filtered['CustomerID'] == 14792.0).select('InvoiceNo').distinct().show()"
   ]
  },
  {
   "attachments": {},
   "cell_type": "markdown",
   "metadata": {},
   "source": [
    "### Basket Diversity\n",
    "* Basket diversity = mean(count(unique(StockCode)) per InvoiceNo) for each customer\n",
    "1. count number of different products in each transaction(invoice) for user \n",
    "2. calculate the mean of the previous step for each user"
   ]
  },
  {
   "cell_type": "code",
   "execution_count": 37,
   "metadata": {},
   "outputs": [
    {
     "name": "stderr",
     "output_type": "stream",
     "text": [
      "[Stage 265:>                                                        (0 + 4) / 4]\r"
     ]
    },
    {
     "name": "stdout",
     "output_type": "stream",
     "text": [
      "+----------+-----------------+\n",
      "|CustomerID| basket_diversity|\n",
      "+----------+-----------------+\n",
      "|   12585.0|            24.25|\n",
      "|   14744.0|3.111111111111111|\n",
      "|   12890.0|             78.0|\n",
      "|   14652.0|             29.0|\n",
      "+----------+-----------------+\n",
      "\n"
     ]
    },
    {
     "name": "stderr",
     "output_type": "stream",
     "text": [
      "                                                                                \r"
     ]
    }
   ],
   "source": [
    "from pyspark.sql.functions import countDistinct, mean\n",
    "\n",
    "basket_diversity = (df_spark_filtered\n",
    "                   .groupBy(\"CustomerID\", \"InvoiceNo\")\n",
    "                   .agg(countDistinct(\"StockCode\").alias(\"unique_stock_count\"))\n",
    "                   .groupBy(\"CustomerID\")\n",
    "                   .agg(mean(\"unique_stock_count\").alias(\"basket_diversity\"))\n",
    "                   .select(\"CustomerID\", \"basket_diversity\"))\n",
    "basket_diversity.sample(False, 0.001).show()"
   ]
  },
  {
   "cell_type": "code",
   "execution_count": 38,
   "metadata": {},
   "outputs": [
    {
     "name": "stderr",
     "output_type": "stream",
     "text": [
      "                                                                                \r"
     ]
    },
    {
     "name": "stdout",
     "output_type": "stream",
     "text": [
      "+----------+---------+------------------+\n",
      "|CustomerID|InvoiceNo|unique_stock_count|\n",
      "+----------+---------+------------------+\n",
      "|   17314.0|   542641|                 5|\n",
      "|   17314.0|  C544829|                 2|\n",
      "|   17314.0|   547885|                 7|\n",
      "|   17314.0|   557898|                24|\n",
      "|   17314.0|   575911|                17|\n",
      "|   17314.0|   576385|                 1|\n",
      "|   17314.0|   559980|                 8|\n",
      "|   17314.0|   542786|                21|\n",
      "|   17314.0|  C548307|                 1|\n",
      "|   17314.0|  C572482|                 2|\n",
      "|   17314.0|   570855|                48|\n",
      "+----------+---------+------------------+\n",
      "\n"
     ]
    },
    {
     "name": "stderr",
     "output_type": "stream",
     "text": [
      "[Stage 288:============================>                            (2 + 2) / 4]\r"
     ]
    },
    {
     "name": "stdout",
     "output_type": "stream",
     "text": [
      "+----------+------------------+\n",
      "|CustomerID|  basket_diversity|\n",
      "+----------+------------------+\n",
      "|   17314.0|12.363636363636363|\n",
      "+----------+------------------+\n",
      "\n"
     ]
    },
    {
     "name": "stderr",
     "output_type": "stream",
     "text": [
      "                                                                                \r"
     ]
    }
   ],
   "source": [
    "#get customerID, InvoiceNo, and StockCode\n",
    "cust=df_spark_filtered.filter(df_spark_filtered['CustomerID'] == 17314.0).distinct().select('CustomerID', 'InvoiceNo', 'StockCode')\n",
    "#then count number of unique StockCode for each InvoiceNo\n",
    "cust=cust.groupBy('CustomerID', 'InvoiceNo').agg(countDistinct('StockCode').alias('unique_stock_count'))\n",
    "cust.show()\n",
    "#then calculate the mean of unique_stock_count\n",
    "cust=cust.groupBy('CustomerID').agg(mean('unique_stock_count').alias('basket_diversity'))\n",
    "cust.show()"
   ]
  },
  {
   "attachments": {},
   "cell_type": "markdown",
   "metadata": {},
   "source": [
    "### Seasonality\n",
    "* Seasonality = count(InvoiceNo) per quarter for each customer\n",
    "* I want column called quarter_one in which there are the number of transactions the user made in quarter one\n",
    "* I want column called quarter_two in which there are the number of transactions the user made in quarter two\n",
    "* I want column called quarter_three in which there are the number of transactions the user made in quarter three\n",
    "* I want column called quarter_three in which four are the number of transactions the user made in quarter four\n"
   ]
  },
  {
   "cell_type": "code",
   "execution_count": 58,
   "metadata": {},
   "outputs": [],
   "source": [
    "from pyspark.sql.functions import quarter\n",
    "\n",
    "#make column that contains the number of unique transactions in quarter1 for each customer\n",
    "quarter1 = df_spark_filtered.filter(quarter(df_spark_filtered['InvoiceDate']) == 1)\n",
    "quarter1 = quarter1.groupBy('CustomerID').agg(countDistinct('InvoiceNo').alias('unique_transactions_q1'))\n",
    "quarter2=df_spark_filtered.filter(quarter(df_spark_filtered['InvoiceDate']) == 2)\n",
    "quarter2 = quarter2.groupBy('CustomerID').agg(countDistinct('InvoiceNo').alias('unique_transactions_q2'))\n",
    "quarter3=df_spark_filtered.filter(quarter(df_spark_filtered['InvoiceDate']) == 3)\n",
    "quarter3 = quarter3.groupBy('CustomerID').agg(countDistinct('InvoiceNo').alias('unique_transactions_q3'))\n",
    "quarter4=df_spark_filtered.filter(quarter(df_spark_filtered['InvoiceDate']) == 4)\n",
    "quarter4 = quarter4.groupBy('CustomerID').agg(countDistinct('InvoiceNo').alias('unique_transactions_q4'))\n",
    "\n",
    "quarters = quarter1.join(quarter2, 'CustomerID', 'outer')\n",
    "quarters = quarters.join(quarter3, 'CustomerID', 'outer')\n",
    "quarters = quarters.join(quarter4, 'CustomerID', 'outer')\n",
    "#any null values are replaced with 0\n",
    "quarters = quarters.na.fill(0)"
   ]
  },
  {
   "cell_type": "code",
   "execution_count": null,
   "metadata": {},
   "outputs": [],
   "source": [
    "#merge quarters and basket_diversity and product_returns with "
   ]
  },
  {
   "cell_type": "code",
   "execution_count": 70,
   "metadata": {},
   "outputs": [
    {
     "name": "stderr",
     "output_type": "stream",
     "text": [
      "                                                                                \r"
     ]
    },
    {
     "name": "stdout",
     "output_type": "stream",
     "text": [
      "401603\n"
     ]
    },
    {
     "name": "stderr",
     "output_type": "stream",
     "text": [
      "[Stage 847:========>        (2 + 2) / 4][Stage 850:>                (0 + 1) / 1]\r"
     ]
    },
    {
     "name": "stdout",
     "output_type": "stream",
     "text": [
      "401603\n"
     ]
    },
    {
     "name": "stderr",
     "output_type": "stream",
     "text": [
      "                                                                                \r"
     ]
    }
   ],
   "source": [
    "copy_filtered = df_spark_filtered.select('*')\n",
    "print(copy_filtered.count())\n",
    "copy_filtered=copy_filtered.join(quarters, 'CustomerID', 'outer')\n",
    "copy_filtered=copy_filtered.join(basket_diversity, 'CustomerID', 'outer')\n",
    "copy_filtered=copy_filtered.join(product_returns, 'CustomerID', 'outer')"
   ]
  },
  {
   "cell_type": "code",
   "execution_count": 88,
   "metadata": {},
   "outputs": [
    {
     "name": "stderr",
     "output_type": "stream",
     "text": [
      "                                                                                \r"
     ]
    },
    {
     "name": "stdout",
     "output_type": "stream",
     "text": [
      "len:   4372\n"
     ]
    },
    {
     "name": "stderr",
     "output_type": "stream",
     "text": [
      "[Stage 3236:==============>                                         (1 + 3) / 4]\r"
     ]
    },
    {
     "name": "stdout",
     "output_type": "stream",
     "text": [
      "+----------+---------+---------+--------------------+--------+-----------+---------+--------------+---------+----------------------+----------------------+----------------------+----------------------+------------------+------------------+\n",
      "|CustomerID|InvoiceNo|StockCode|         Description|Quantity|InvoiceDate|UnitPrice|       Country|TotalCost|unique_transactions_q1|unique_transactions_q2|unique_transactions_q3|unique_transactions_q4|  basket_diversity|    ProductReturns|\n",
      "+----------+---------+---------+--------------------+--------+-----------+---------+--------------+---------+----------------------+----------------------+----------------------+----------------------+------------------+------------------+\n",
      "|   12346.0|  C541433|    23166|MEDIUM CERAMIC TO...|  -74215| 2011-01-18|     1.04|United Kingdom| -77183.6|                     2|                     0|                     0|                     0|               1.0|               0.5|\n",
      "|   12347.0|   537626|    22725|ALARM CLOCK BAKEL...|       4| 2010-12-07|     3.75|       Iceland|     15.0|                     1|                     2|                     1|                     3|              26.0|               0.0|\n",
      "|   12348.0|   539318|    21977|PACK OF 60 PINK P...|     120| 2010-12-16|     0.42|       Finland|     50.4|                     1|                     1|                     1|                     1|              6.75|               0.0|\n",
      "|   12349.0|   577609|    22556|PLASTERS IN TIN C...|      12| 2011-11-21|     1.65|         Italy|     19.8|                     0|                     0|                     0|                     1|              73.0|               0.0|\n",
      "|   12350.0|   543037|    22412|METAL SIGN NEIGHB...|      12| 2011-02-02|      2.1|        Norway|     25.2|                     1|                     0|                     0|                     0|              17.0|               0.0|\n",
      "|   12352.0|   547390|    22701|       PINK DOG BOWL|       6| 2011-03-22|     2.95|        Norway|     17.7|                     8|                     0|                     2|                     1| 8.363636363636363|0.2727272727272727|\n",
      "|   12353.0|   553900|    22890|NOVELTY BISCUITS ...|       4| 2011-05-19|     9.95|       Bahrain|     39.8|                     0|                     1|                     0|                     0|               4.0|               0.0|\n",
      "|   12354.0|   550911|    21731|RED TOADSTOOL LED...|      12| 2011-04-21|     1.65|         Spain|     19.8|                     0|                     1|                     0|                     0|              58.0|               0.0|\n",
      "|   12355.0|   552449|    22890|NOVELTY BISCUITS ...|       2| 2011-05-09|     9.95|       Bahrain|     19.9|                     0|                     1|                     0|                     0|              13.0|               0.0|\n",
      "|   12356.0|   541430|    84380|SET OF 3 BUTTERFL...|      24| 2011-01-18|     1.25|      Portugal|     30.0|                     1|                     1|                     0|                     1|19.666666666666668|               0.0|\n",
      "+----------+---------+---------+--------------------+--------+-----------+---------+--------------+---------+----------------------+----------------------+----------------------+----------------------+------------------+------------------+\n",
      "only showing top 10 rows\n",
      "\n"
     ]
    },
    {
     "name": "stderr",
     "output_type": "stream",
     "text": [
      "                                                                                \r"
     ]
    }
   ],
   "source": [
    "features = copy_filtered.dropDuplicates(['CustomerID'])\n",
    "# Show the unique rows\n",
    "print(\"len:  \",features.count())\n",
    "features.show(10)"
   ]
  }
 ],
 "metadata": {
  "kernelspec": {
   "display_name": ".venv",
   "language": "python",
   "name": "python3"
  },
  "language_info": {
   "codemirror_mode": {
    "name": "ipython",
    "version": 3
   },
   "file_extension": ".py",
   "mimetype": "text/x-python",
   "name": "python",
   "nbconvert_exporter": "python",
   "pygments_lexer": "ipython3",
   "version": "3.8.10"
  },
  "orig_nbformat": 4,
  "vscode": {
   "interpreter": {
    "hash": "a99b57d65d7817e51f3ec2cbeb4ec5a05104c2ceb9ae2495c3145e7f05fb988b"
   }
  }
 },
 "nbformat": 4,
 "nbformat_minor": 2
}
