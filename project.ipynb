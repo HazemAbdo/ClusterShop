{
 "cells": [
  {
   "cell_type": "code",
   "execution_count": 67,
   "metadata": {},
   "outputs": [],
   "source": [
    "import pandas as pd\n",
    "from pyspark.sql import SparkSession\n",
    "from pyspark.sql.types import StructType, StructField, StringType, IntegerType, TimestampType, DoubleType\n",
    "import matplotlib.pyplot as plt"
   ]
  },
  {
   "attachments": {},
   "cell_type": "markdown",
   "metadata": {},
   "source": [
    "# Reading Data"
   ]
  },
  {
   "cell_type": "code",
   "execution_count": 28,
   "metadata": {},
   "outputs": [],
   "source": [
    "# Create a SparkSession\n",
    "spark = SparkSession.builder.master(\"local[4]\").appName(\"ClusterShop\").getOrCreate()\n",
    "\n",
    "# Read the Excel file using Pandas\n",
    "df_pandas = pd.read_excel(\"Online Retail.xlsx\",na_values='')\n",
    "\n",
    "# Convert the Pandas DataFrame to PySpark DataFrame\n",
    "df_spark = spark.createDataFrame(df_pandas)"
   ]
  },
  {
   "cell_type": "code",
   "execution_count": 42,
   "metadata": {},
   "outputs": [],
   "source": [
    "#increase the number of partitions\n",
    "df_spark = df_spark.repartition(4)\n"
   ]
  },
  {
   "attachments": {},
   "cell_type": "markdown",
   "metadata": {},
   "source": [
    "# Analyzing Data"
   ]
  },
  {
   "cell_type": "code",
   "execution_count": 29,
   "metadata": {},
   "outputs": [
    {
     "data": {
      "text/html": [
       "\n",
       "            <div>\n",
       "                <p><b>SparkSession - in-memory</b></p>\n",
       "                \n",
       "        <div>\n",
       "            <p><b>SparkContext</b></p>\n",
       "\n",
       "            <p><a href=\"http://192.168.1.2:4040\">Spark UI</a></p>\n",
       "\n",
       "            <dl>\n",
       "              <dt>Version</dt>\n",
       "                <dd><code>v3.4.0</code></dd>\n",
       "              <dt>Master</dt>\n",
       "                <dd><code>local[4]</code></dd>\n",
       "              <dt>AppName</dt>\n",
       "                <dd><code>ClusterShop</code></dd>\n",
       "            </dl>\n",
       "        </div>\n",
       "        \n",
       "            </div>\n",
       "        "
      ],
      "text/plain": [
       "<pyspark.sql.session.SparkSession at 0x7f39669c4340>"
      ]
     },
     "execution_count": 29,
     "metadata": {},
     "output_type": "execute_result"
    }
   ],
   "source": [
    "spark"
   ]
  },
  {
   "cell_type": "code",
   "execution_count": 41,
   "metadata": {},
   "outputs": [
    {
     "name": "stdout",
     "output_type": "stream",
     "text": [
      "10\n"
     ]
    }
   ],
   "source": [
    "#print number of partitions\n",
    "print(df_spark.rdd.getNumPartitions())"
   ]
  },
  {
   "cell_type": "code",
   "execution_count": 30,
   "metadata": {},
   "outputs": [
    {
     "name": "stdout",
     "output_type": "stream",
     "text": [
      "root\n",
      " |-- InvoiceNo: string (nullable = true)\n",
      " |-- StockCode: string (nullable = true)\n",
      " |-- Description: string (nullable = true)\n",
      " |-- Quantity: long (nullable = true)\n",
      " |-- InvoiceDate: timestamp (nullable = true)\n",
      " |-- UnitPrice: double (nullable = true)\n",
      " |-- CustomerID: double (nullable = true)\n",
      " |-- Country: string (nullable = true)\n",
      "\n"
     ]
    }
   ],
   "source": [
    "df_spark.printSchema()"
   ]
  },
  {
   "cell_type": "code",
   "execution_count": 3,
   "metadata": {},
   "outputs": [
    {
     "name": "stderr",
     "output_type": "stream",
     "text": [
      "23/04/15 17:24:43 WARN TaskSetManager: Stage 0 contains a task of very large size (8485 KiB). The maximum recommended task size is 1000 KiB.\n",
      "[Stage 0:>                                                          (0 + 1) / 1]\r"
     ]
    },
    {
     "name": "stdout",
     "output_type": "stream",
     "text": [
      "+---------+---------+--------------------+--------+-------------------+---------+----------+--------------+\n",
      "|InvoiceNo|StockCode|         Description|Quantity|        InvoiceDate|UnitPrice|CustomerID|       Country|\n",
      "+---------+---------+--------------------+--------+-------------------+---------+----------+--------------+\n",
      "|   536365|   85123A|WHITE HANGING HEA...|       6|2010-12-01 08:26:00|     2.55|   17850.0|United Kingdom|\n",
      "|   536365|    71053| WHITE METAL LANTERN|       6|2010-12-01 08:26:00|     3.39|   17850.0|United Kingdom|\n",
      "|   536365|   84406B|CREAM CUPID HEART...|       8|2010-12-01 08:26:00|     2.75|   17850.0|United Kingdom|\n",
      "|   536365|   84029G|KNITTED UNION FLA...|       6|2010-12-01 08:26:00|     3.39|   17850.0|United Kingdom|\n",
      "|   536365|   84029E|RED WOOLLY HOTTIE...|       6|2010-12-01 08:26:00|     3.39|   17850.0|United Kingdom|\n",
      "|   536365|    22752|SET 7 BABUSHKA NE...|       2|2010-12-01 08:26:00|     7.65|   17850.0|United Kingdom|\n",
      "|   536365|    21730|GLASS STAR FROSTE...|       6|2010-12-01 08:26:00|     4.25|   17850.0|United Kingdom|\n",
      "|   536366|    22633|HAND WARMER UNION...|       6|2010-12-01 08:28:00|     1.85|   17850.0|United Kingdom|\n",
      "|   536366|    22632|HAND WARMER RED P...|       6|2010-12-01 08:28:00|     1.85|   17850.0|United Kingdom|\n",
      "|   536367|    84879|ASSORTED COLOUR B...|      32|2010-12-01 08:34:00|     1.69|   13047.0|United Kingdom|\n",
      "|   536367|    22745|POPPY'S PLAYHOUSE...|       6|2010-12-01 08:34:00|      2.1|   13047.0|United Kingdom|\n",
      "|   536367|    22748|POPPY'S PLAYHOUSE...|       6|2010-12-01 08:34:00|      2.1|   13047.0|United Kingdom|\n",
      "|   536367|    22749|FELTCRAFT PRINCES...|       8|2010-12-01 08:34:00|     3.75|   13047.0|United Kingdom|\n",
      "|   536367|    22310|IVORY KNITTED MUG...|       6|2010-12-01 08:34:00|     1.65|   13047.0|United Kingdom|\n",
      "|   536367|    84969|BOX OF 6 ASSORTED...|       6|2010-12-01 08:34:00|     4.25|   13047.0|United Kingdom|\n",
      "|   536367|    22623|BOX OF VINTAGE JI...|       3|2010-12-01 08:34:00|     4.95|   13047.0|United Kingdom|\n",
      "|   536367|    22622|BOX OF VINTAGE AL...|       2|2010-12-01 08:34:00|     9.95|   13047.0|United Kingdom|\n",
      "|   536367|    21754|HOME BUILDING BLO...|       3|2010-12-01 08:34:00|     5.95|   13047.0|United Kingdom|\n",
      "|   536367|    21755|LOVE BUILDING BLO...|       3|2010-12-01 08:34:00|     5.95|   13047.0|United Kingdom|\n",
      "|   536367|    21777|RECIPE BOX WITH M...|       4|2010-12-01 08:34:00|     7.95|   13047.0|United Kingdom|\n",
      "+---------+---------+--------------------+--------+-------------------+---------+----------+--------------+\n",
      "only showing top 20 rows\n",
      "\n"
     ]
    },
    {
     "name": "stderr",
     "output_type": "stream",
     "text": [
      "                                                                                \r"
     ]
    }
   ],
   "source": [
    "# Show the DataFrame\n",
    "df_spark.show()"
   ]
  },
  {
   "attachments": {},
   "cell_type": "markdown",
   "metadata": {},
   "source": [
    "### InvoiceNo\n",
    "uniquely assigned to each transaction. If this code starts with letter 'c', it indicates a cancellation."
   ]
  },
  {
   "cell_type": "code",
   "execution_count": 62,
   "metadata": {},
   "outputs": [
    {
     "name": "stderr",
     "output_type": "stream",
     "text": [
      "23/04/15 23:45:15 WARN TaskSetManager: Stage 540 contains a task of very large size (8485 KiB). The maximum recommended task size is 1000 KiB.\n",
      "23/04/15 23:45:16 WARN TaskSetManager: Stage 546 contains a task of very large size (8485 KiB). The maximum recommended task size is 1000 KiB.\n"
     ]
    },
    {
     "name": "stdout",
     "output_type": "stream",
     "text": [
      "Count of invoices:  541909\n"
     ]
    },
    {
     "name": "stderr",
     "output_type": "stream",
     "text": [
      "23/04/15 23:45:16 WARN TaskSetManager: Stage 552 contains a task of very large size (8485 KiB). The maximum recommended task size is 1000 KiB.\n"
     ]
    },
    {
     "name": "stdout",
     "output_type": "stream",
     "text": [
      "Count of cancelled invoices:  9288\n"
     ]
    },
    {
     "name": "stderr",
     "output_type": "stream",
     "text": [
      "23/04/15 23:45:17 WARN TaskSetManager: Stage 558 contains a task of very large size (8485 KiB). The maximum recommended task size is 1000 KiB.\n"
     ]
    },
    {
     "name": "stdout",
     "output_type": "stream",
     "text": [
      "percentage of cancelled invoices:  1.7139409015166756\n"
     ]
    },
    {
     "name": "stderr",
     "output_type": "stream",
     "text": [
      "23/04/15 23:45:18 WARN TaskSetManager: Stage 564 contains a task of very large size (8485 KiB). The maximum recommended task size is 1000 KiB.\n"
     ]
    },
    {
     "name": "stdout",
     "output_type": "stream",
     "text": [
      "number of null values:  0\n"
     ]
    }
   ],
   "source": [
    "print(\"Count of invoices: \", df_spark.count())\n",
    "print(\"Count of cancelled invoices: \", df_spark.filter(df_spark.InvoiceNo.startswith('C')).count())\n",
    "print('percentage of cancelled invoices: ', (df_spark.filter(df_spark.InvoiceNo.startswith('C')).count()/df_spark.count())*100)\n",
    "print('number of null values: ', df_spark.filter(df_spark.CustomerID.isNull()).count())"
   ]
  },
  {
   "attachments": {},
   "cell_type": "markdown",
   "metadata": {},
   "source": [
    "### StockCode\n",
    "uniquely assigned to each distinct product"
   ]
  },
  {
   "cell_type": "code",
   "execution_count": 63,
   "metadata": {},
   "outputs": [
    {
     "name": "stderr",
     "output_type": "stream",
     "text": [
      "23/04/15 23:48:11 WARN TaskSetManager: Stage 567 contains a task of very large size (8485 KiB). The maximum recommended task size is 1000 KiB.\n",
      "23/04/15 23:48:12 WARN TaskSetManager: Stage 573 contains a task of very large size (8485 KiB). The maximum recommended task size is 1000 KiB.\n"
     ]
    },
    {
     "name": "stdout",
     "output_type": "stream",
     "text": [
      "number of items:  541909\n"
     ]
    },
    {
     "name": "stderr",
     "output_type": "stream",
     "text": [
      "23/04/15 23:48:13 WARN TaskSetManager: Stage 583 contains a task of very large size (8485 KiB). The maximum recommended task size is 1000 KiB.\n"
     ]
    },
    {
     "name": "stdout",
     "output_type": "stream",
     "text": [
      "number of unique items:  4070\n",
      "number of null values:  0\n"
     ]
    },
    {
     "name": "stderr",
     "output_type": "stream",
     "text": [
      "23/04/15 23:48:13 WARN TaskSetManager: Stage 586 contains a task of very large size (8485 KiB). The maximum recommended task size is 1000 KiB.\n",
      "23/04/15 23:48:14 WARN TaskSetManager: Stage 592 contains a task of very large size (8485 KiB). The maximum recommended task size is 1000 KiB.\n"
     ]
    },
    {
     "name": "stdout",
     "output_type": "stream",
     "text": [
      "+---------+-----+\n",
      "|StockCode|count|\n",
      "+---------+-----+\n",
      "|   85123A| 2313|\n",
      "|    22423| 2203|\n",
      "|   85099B| 2159|\n",
      "|    47566| 1727|\n",
      "|    20725| 1639|\n",
      "|    84879| 1502|\n",
      "|    22720| 1477|\n",
      "|    22197| 1476|\n",
      "|    21212| 1385|\n",
      "|    20727| 1350|\n",
      "+---------+-----+\n",
      "only showing top 10 rows\n",
      "\n"
     ]
    },
    {
     "name": "stderr",
     "output_type": "stream",
     "text": [
      "[Stage 592:>                                                        (0 + 4) / 4]\r"
     ]
    },
    {
     "name": "stdout",
     "output_type": "stream",
     "text": [
      "+---------+-----+\n",
      "|StockCode|count|\n",
      "+---------+-----+\n",
      "|    84761|    1|\n",
      "|   46776e|    1|\n",
      "|   84612B|    1|\n",
      "|    72789|    1|\n",
      "|   47593b|    1|\n",
      "|   90025E|    1|\n",
      "|   85049c|    1|\n",
      "|    22143|    1|\n",
      "|        m|    1|\n",
      "|   37477B|    1|\n",
      "+---------+-----+\n",
      "only showing top 10 rows\n",
      "\n"
     ]
    },
    {
     "name": "stderr",
     "output_type": "stream",
     "text": [
      "                                                                                \r"
     ]
    }
   ],
   "source": [
    "#number of items\n",
    "print('number of items: ', df_spark.select('StockCode').count())\n",
    "#number of unique items\n",
    "print('number of unique items: ', df_spark.select('StockCode').distinct().count())\n",
    "#number of null values\n",
    "print('number of null values: ', df_spark.filter(df_spark.StockCode.isNull()).count())\n",
    "#most popular items\n",
    "df_spark.groupBy('StockCode').count().orderBy('count', ascending=False).show(10)\n",
    "#least popular items\n",
    "df_spark.groupBy('StockCode').count().orderBy('count', ascending=True).show(10)"
   ]
  },
  {
   "attachments": {},
   "cell_type": "markdown",
   "metadata": {},
   "source": [
    "### Description\n",
    "Product (item) name. Nominal."
   ]
  },
  {
   "cell_type": "code",
   "execution_count": 64,
   "metadata": {},
   "outputs": [
    {
     "name": "stderr",
     "output_type": "stream",
     "text": [
      "23/04/15 23:52:09 WARN TaskSetManager: Stage 598 contains a task of very large size (8485 KiB). The maximum recommended task size is 1000 KiB.\n",
      "23/04/15 23:52:10 WARN TaskSetManager: Stage 608 contains a task of very large size (8485 KiB). The maximum recommended task size is 1000 KiB.\n"
     ]
    },
    {
     "name": "stdout",
     "output_type": "stream",
     "text": [
      "Count of unique values:  4224\n"
     ]
    },
    {
     "name": "stderr",
     "output_type": "stream",
     "text": [
      "23/04/15 23:52:11 WARN TaskSetManager: Stage 611 contains a task of very large size (8485 KiB). The maximum recommended task size is 1000 KiB.\n"
     ]
    },
    {
     "name": "stdout",
     "output_type": "stream",
     "text": [
      "number of null values:  0\n"
     ]
    },
    {
     "name": "stderr",
     "output_type": "stream",
     "text": [
      "23/04/15 23:52:12 WARN TaskSetManager: Stage 617 contains a task of very large size (8485 KiB). The maximum recommended task size is 1000 KiB.\n"
     ]
    },
    {
     "name": "stdout",
     "output_type": "stream",
     "text": [
      "+--------------------+-----+\n",
      "|         Description|count|\n",
      "+--------------------+-----+\n",
      "|WHITE HANGING HEA...| 2369|\n",
      "|REGENCY CAKESTAND...| 2200|\n",
      "|JUMBO BAG RED RET...| 2159|\n",
      "|       PARTY BUNTING| 1727|\n",
      "|LUNCH BAG RED RET...| 1638|\n",
      "|ASSORTED COLOUR B...| 1501|\n",
      "|SET OF 3 CAKE TIN...| 1473|\n",
      "|                 NaN| 1454|\n",
      "|PACK OF 72 RETROS...| 1385|\n",
      "|LUNCH BAG  BLACK ...| 1350|\n",
      "+--------------------+-----+\n",
      "only showing top 10 rows\n",
      "\n"
     ]
    },
    {
     "name": "stderr",
     "output_type": "stream",
     "text": [
      "[Stage 617:==============>                                          (1 + 3) / 4]\r"
     ]
    },
    {
     "name": "stdout",
     "output_type": "stream",
     "text": [
      "+--------------------+-----+\n",
      "|         Description|count|\n",
      "+--------------------+-----+\n",
      "|SET OF THREE VINT...|    1|\n",
      "|     damages/display|    1|\n",
      "|     Damages/samples|    1|\n",
      "|PINK PAINTED KASH...|    1|\n",
      "|   rusty thrown away|    1|\n",
      "|Printing smudges/...|    1|\n",
      "|   Thrown away-rusty|    1|\n",
      "|  code mix up? 84930|    1|\n",
      "|     samples/damages|    1|\n",
      "|BAROQUE BUTTERFLY...|    1|\n",
      "+--------------------+-----+\n",
      "only showing top 10 rows\n",
      "\n"
     ]
    },
    {
     "name": "stderr",
     "output_type": "stream",
     "text": [
      "                                                                                \r"
     ]
    }
   ],
   "source": [
    "# Count of unique values: This will give you the total number of distinct products in the dataset, as well as the number of unique product names.\n",
    "print(\"Count of unique values: \", df_spark.select('Description').distinct().count())\n",
    "#print the number of null values\n",
    "print('number of null values: ', df_spark.filter(df_spark.Description.isNull()).count())\n",
    "# Top products by frequency\n",
    "df_spark.groupBy('Description').count().orderBy('count', ascending=False).show(10)\n",
    "# Bottom products by frequency\n",
    "df_spark.groupBy('Description').count().orderBy('count', ascending=True).show(10)"
   ]
  },
  {
   "attachments": {},
   "cell_type": "markdown",
   "metadata": {},
   "source": [
    "### Quantity\n",
    "The quantities of each product (item) per transaction. Numeric.\n"
   ]
  },
  {
   "cell_type": "code",
   "execution_count": 70,
   "metadata": {},
   "outputs": [
    {
     "name": "stderr",
     "output_type": "stream",
     "text": [
      "23/04/16 00:01:02 WARN TaskSetManager: Stage 701 contains a task of very large size (8485 KiB). The maximum recommended task size is 1000 KiB.\n",
      "23/04/16 00:01:03 WARN TaskSetManager: Stage 707 contains a task of very large size (8485 KiB). The maximum recommended task size is 1000 KiB.\n"
     ]
    },
    {
     "name": "stdout",
     "output_type": "stream",
     "text": [
      "+-------+-----------------+\n",
      "|summary|         Quantity|\n",
      "+-------+-----------------+\n",
      "|  count|           541909|\n",
      "|   mean| 9.55224954743324|\n",
      "| stddev|218.0811578502345|\n",
      "|    min|           -80995|\n",
      "|    max|            80995|\n",
      "+-------+-----------------+\n",
      "\n"
     ]
    },
    {
     "name": "stderr",
     "output_type": "stream",
     "text": [
      "23/04/16 00:01:06 WARN TaskSetManager: Stage 710 contains a task of very large size (8485 KiB). The maximum recommended task size is 1000 KiB.\n",
      "23/04/16 00:01:07 WARN TaskSetManager: Stage 716 contains a task of very large size (8485 KiB). The maximum recommended task size is 1000 KiB.\n"
     ]
    },
    {
     "name": "stdout",
     "output_type": "stream",
     "text": [
      "percentage of transactions with negative quantities:  1.9604767590130447\n"
     ]
    },
    {
     "data": {
      "image/png": "[encoded data removed]",
      "text/plain": [
       "<Figure size 640x480 with 1 Axes>"
      ]
     },
     "metadata": {},
     "output_type": "display_data"
    }
   ],
   "source": [
    "df_spark.select('Quantity').describe().show()\n",
    "df_spark.select('Quantity').toPandas().hist()\n",
    "print('percentage of transactions with negative quantities: ', (df_spark.filter(df_spark.Quantity < 0).count()/df_spark.count())*100)"
   ]
  },
  {
   "cell_type": "code",
   "execution_count": 77,
   "metadata": {},
   "outputs": [
    {
     "name": "stderr",
     "output_type": "stream",
     "text": [
      "23/04/16 00:07:24 WARN TaskSetManager: Stage 770 contains a task of very large size (8485 KiB). The maximum recommended task size is 1000 KiB.\n",
      "                                                                                \r"
     ]
    },
    {
     "name": "stdout",
     "output_type": "stream",
     "text": [
      "+--------------+-------------+\n",
      "|       Country|sum(Quantity)|\n",
      "+--------------+-------------+\n",
      "|United Kingdom|      4263829|\n",
      "|   Netherlands|       200128|\n",
      "|          EIRE|       142637|\n",
      "|       Germany|       117448|\n",
      "|        France|       110480|\n",
      "+--------------+-------------+\n",
      "only showing top 5 rows\n",
      "\n"
     ]
    },
    {
     "name": "stderr",
     "output_type": "stream",
     "text": [
      "23/04/16 00:07:24 WARN TaskSetManager: Stage 776 contains a task of very large size (8485 KiB). The maximum recommended task size is 1000 KiB.\n",
      "[Stage 776:>                                                        (0 + 4) / 4]\r"
     ]
    },
    {
     "name": "stdout",
     "output_type": "stream",
     "text": [
      "+---------+-------------+\n",
      "|StockCode|sum(Quantity)|\n",
      "+---------+-------------+\n",
      "|    22197|        56450|\n",
      "|    84077|        53847|\n",
      "|   85099B|        47363|\n",
      "|   85123A|        38830|\n",
      "|    84879|        36221|\n",
      "+---------+-------------+\n",
      "only showing top 5 rows\n",
      "\n"
     ]
    },
    {
     "name": "stderr",
     "output_type": "stream",
     "text": [
      "                                                                                \r"
     ]
    }
   ],
   "source": [
    "df_spark.groupBy('Country').sum('Quantity').orderBy('sum(Quantity)', ascending=False).show(5)\n",
    "df_spark.groupBy('StockCode').sum('Quantity').orderBy('sum(Quantity)', ascending=False).show(5)"
   ]
  },
  {
   "cell_type": "code",
   "execution_count": 80,
   "metadata": {},
   "outputs": [
    {
     "name": "stderr",
     "output_type": "stream",
     "text": [
      "23/04/16 00:08:57 WARN TaskSetManager: Stage 794 contains a task of very large size (8485 KiB). The maximum recommended task size is 1000 KiB.\n",
      "[Stage 794:>                                                        (0 + 4) / 4]\r"
     ]
    },
    {
     "name": "stdout",
     "output_type": "stream",
     "text": [
      "+------------------+-------------+\n",
      "|month(InvoiceDate)|sum(Quantity)|\n",
      "+------------------+-------------+\n",
      "|                11|       740286|\n",
      "|                10|       570532|\n",
      "|                12|       568561|\n",
      "|                 9|       549817|\n",
      "|                 8|       406199|\n",
      "+------------------+-------------+\n",
      "only showing top 5 rows\n",
      "\n"
     ]
    },
    {
     "name": "stderr",
     "output_type": "stream",
     "text": [
      "                                                                                \r"
     ]
    }
   ],
   "source": [
    "from pyspark.sql.functions import month \n",
    "#TOP FIVE MONTHES BY SUM OF QUANTITY\n",
    "df_spark.groupBy(month('InvoiceDate')).sum('Quantity').orderBy('sum(Quantity)', ascending=False).show(5)"
   ]
  },
  {
   "cell_type": "code",
   "execution_count": 14,
   "metadata": {},
   "outputs": [
    {
     "name": "stderr",
     "output_type": "stream",
     "text": [
      "23/04/15 19:28:31 WARN TaskSetManager: Stage 20 contains a task of very large size (8485 KiB). The maximum recommended task size is 1000 KiB.\n",
      "[Stage 20:>                                                         (0 + 4) / 4]\r"
     ]
    },
    {
     "name": "stdout",
     "output_type": "stream",
     "text": [
      "0\n"
     ]
    },
    {
     "name": "stderr",
     "output_type": "stream",
     "text": [
      "23/04/15 19:28:32 WARN TaskSetManager: Stage 23 contains a task of very large size (8485 KiB). The maximum recommended task size is 1000 KiB.\n"
     ]
    }
   ],
   "source": [
    "import math\n",
    "# count the number of missing values in the Description column\n",
    "print(df_spark.filter(df_spark['Description'].isNull()).count())\n",
    "# filter out the missing values using map \n",
    "df_spark_filtered = df_spark.rdd.map(lambda x: x if not math.isnan( x['CustomerID'])  else None).filter(lambda x: x is not None).toDF()\n",
    "\n"
   ]
  },
  {
   "cell_type": "code",
   "execution_count": 7,
   "metadata": {},
   "outputs": [
    {
     "name": "stderr",
     "output_type": "stream",
     "text": [
      "23/04/15 17:48:06 WARN TaskSetManager: Stage 8 contains a task of very large size (8485 KiB). The maximum recommended task size is 1000 KiB.\n",
      "[Stage 8:=============================>                             (2 + 2) / 4]\r"
     ]
    },
    {
     "name": "stdout",
     "output_type": "stream",
     "text": [
      "+-------+-----------------+------------------+--------------------+-----------------+------------------+------------------+-----------+\n",
      "|summary|        InvoiceNo|         StockCode|         Description|         Quantity|         UnitPrice|        CustomerID|    Country|\n",
      "+-------+-----------------+------------------+--------------------+-----------------+------------------+------------------+-----------+\n",
      "|  count|           406829|            406829|              406829|           406829|            406829|            406829|     406829|\n",
      "|   mean|560617.1266447864|27430.341352504624|                null|12.06130339774205|3.4604710185376426|15287.690570239585|       null|\n",
      "| stddev|13106.16769474081|16403.570452626223|                null|248.6933700188252| 69.31516172321443|1713.6003033215966|       null|\n",
      "|    min|           536365|             10002| 4 PURPLE FLOCK D...|           -80995|               0.0|           12346.0|  Australia|\n",
      "|    max|          C581569|              POST|ZINC WIRE SWEETHE...|            80995|           38970.0|           18287.0|Unspecified|\n",
      "+-------+-----------------+------------------+--------------------+-----------------+------------------+------------------+-----------+\n",
      "\n"
     ]
    },
    {
     "name": "stderr",
     "output_type": "stream",
     "text": [
      "                                                                                \r"
     ]
    }
   ],
   "source": [
    "df_spark_filtered.describe().show()"
   ]
  },
  {
   "cell_type": "code",
   "execution_count": 8,
   "metadata": {},
   "outputs": [],
   "source": [
    "# convert the InvoiceDate column to a date\n",
    "from pyspark.sql.functions import to_date\n",
    "df_spark_filtered = df_spark_filtered.withColumn(\"InvoiceDate\", to_date(df_spark_filtered.InvoiceDate, 'MM/dd/yyyy'))\n",
    "    "
   ]
  },
  {
   "cell_type": "code",
   "execution_count": 9,
   "metadata": {},
   "outputs": [
    {
     "name": "stdout",
     "output_type": "stream",
     "text": [
      "+---------+---------+--------------------+--------+-----------+---------+----------+--------------+---------+------------+\n",
      "|InvoiceNo|StockCode|         Description|Quantity|InvoiceDate|UnitPrice|CustomerID|       Country|TotalCost|InvoiceMonth|\n",
      "+---------+---------+--------------------+--------+-----------+---------+----------+--------------+---------+------------+\n",
      "|   536365|   85123A|WHITE HANGING HEA...|       6| 2010-12-01|     2.55|   17850.0|United Kingdom|     15.3|          12|\n",
      "|   536365|    71053| WHITE METAL LANTERN|       6| 2010-12-01|     3.39|   17850.0|United Kingdom|    20.34|          12|\n",
      "|   536365|   84406B|CREAM CUPID HEART...|       8| 2010-12-01|     2.75|   17850.0|United Kingdom|     22.0|          12|\n",
      "|   536365|   84029G|KNITTED UNION FLA...|       6| 2010-12-01|     3.39|   17850.0|United Kingdom|    20.34|          12|\n",
      "|   536365|   84029E|RED WOOLLY HOTTIE...|       6| 2010-12-01|     3.39|   17850.0|United Kingdom|    20.34|          12|\n",
      "|   536365|    22752|SET 7 BABUSHKA NE...|       2| 2010-12-01|     7.65|   17850.0|United Kingdom|     15.3|          12|\n",
      "|   536365|    21730|GLASS STAR FROSTE...|       6| 2010-12-01|     4.25|   17850.0|United Kingdom|     25.5|          12|\n",
      "|   536366|    22633|HAND WARMER UNION...|       6| 2010-12-01|     1.85|   17850.0|United Kingdom|     11.1|          12|\n",
      "|   536366|    22632|HAND WARMER RED P...|       6| 2010-12-01|     1.85|   17850.0|United Kingdom|     11.1|          12|\n",
      "|   536367|    84879|ASSORTED COLOUR B...|      32| 2010-12-01|     1.69|   13047.0|United Kingdom|    54.08|          12|\n",
      "|   536367|    22745|POPPY'S PLAYHOUSE...|       6| 2010-12-01|      2.1|   13047.0|United Kingdom|     12.6|          12|\n",
      "|   536367|    22748|POPPY'S PLAYHOUSE...|       6| 2010-12-01|      2.1|   13047.0|United Kingdom|     12.6|          12|\n",
      "|   536367|    22749|FELTCRAFT PRINCES...|       8| 2010-12-01|     3.75|   13047.0|United Kingdom|     30.0|          12|\n",
      "|   536367|    22310|IVORY KNITTED MUG...|       6| 2010-12-01|     1.65|   13047.0|United Kingdom|      9.9|          12|\n",
      "|   536367|    84969|BOX OF 6 ASSORTED...|       6| 2010-12-01|     4.25|   13047.0|United Kingdom|     25.5|          12|\n",
      "|   536367|    22623|BOX OF VINTAGE JI...|       3| 2010-12-01|     4.95|   13047.0|United Kingdom|    14.85|          12|\n",
      "|   536367|    22622|BOX OF VINTAGE AL...|       2| 2010-12-01|     9.95|   13047.0|United Kingdom|     19.9|          12|\n",
      "|   536367|    21754|HOME BUILDING BLO...|       3| 2010-12-01|     5.95|   13047.0|United Kingdom|    17.85|          12|\n",
      "|   536367|    21755|LOVE BUILDING BLO...|       3| 2010-12-01|     5.95|   13047.0|United Kingdom|    17.85|          12|\n",
      "|   536367|    21777|RECIPE BOX WITH M...|       4| 2010-12-01|     7.95|   13047.0|United Kingdom|     31.8|          12|\n",
      "+---------+---------+--------------------+--------+-----------+---------+----------+--------------+---------+------------+\n",
      "only showing top 20 rows\n",
      "\n"
     ]
    },
    {
     "name": "stderr",
     "output_type": "stream",
     "text": [
      "23/04/15 17:48:50 WARN TaskSetManager: Stage 11 contains a task of very large size (8485 KiB). The maximum recommended task size is 1000 KiB.\n"
     ]
    }
   ],
   "source": [
    "\n",
    "from pyspark.sql.functions import col\n",
    "from pyspark.sql.functions import round\n",
    "from pyspark.sql.functions import month\n",
    "\n",
    "# create a new column called TotalCost\n",
    "df_spark_filtered = df_spark_filtered.withColumn(\"TotalCost\", col(\"Quantity\") * col(\"UnitPrice\"))\n",
    "\n",
    "# round the TotalCost column to 2 decimal places\n",
    "df_spark_filtered = df_spark_filtered.withColumn(\"TotalCost\", round(df_spark_filtered.TotalCost, 2))\n",
    "\n",
    "# create a new column called InvoiceMonth\n",
    "df_spark_filtered = df_spark_filtered.withColumn(\"InvoiceMonth\", month(df_spark_filtered.InvoiceDate))\n",
    "\n",
    "\n",
    "df_spark_filtered.show()"
   ]
  },
  {
   "cell_type": "code",
   "execution_count": 10,
   "metadata": {},
   "outputs": [
    {
     "name": "stderr",
     "output_type": "stream",
     "text": [
      "23/04/15 17:49:02 WARN TaskSetManager: Stage 12 contains a task of very large size (8485 KiB). The maximum recommended task size is 1000 KiB.\n",
      "[Stage 12:=============================>                            (2 + 2) / 4]\r"
     ]
    },
    {
     "name": "stdout",
     "output_type": "stream",
     "text": [
      "+----------+------------+--------------+------------------+---------------------+\n",
      "|CustomerID|InvoiceMonth|TotalPurchases|      TotalRevenue|AvgRevenuePerPurchase|\n",
      "+----------+------------+--------------+------------------+---------------------+\n",
      "|   17850.0|          12|           297| 5391.210000000009|    5391.210000000009|\n",
      "|   16098.0|          12|            12|430.59999999999997|   430.59999999999997|\n",
      "|   18074.0|          12|            13|             489.6|                489.6|\n",
      "|   16250.0|          12|            14|226.14000000000001|   226.14000000000001|\n",
      "|   15862.0|          12|           111| 527.3799999999999|    527.3799999999999|\n",
      "|   16218.0|          12|            28|471.29999999999995|   471.29999999999995|\n",
      "|   12838.0|          12|            59|390.78999999999985|   390.78999999999985|\n",
      "|   13758.0|          12|            24|            718.85|               718.85|\n",
      "|   13694.0|          12|            70|            6016.2|               6016.2|\n",
      "|   16210.0|          12|            49|10600.039999999999|   10600.039999999999|\n",
      "|   14078.0|          12|            13|            136.24|               136.24|\n",
      "|   12662.0|          12|            28|486.43000000000006|   486.43000000000006|\n",
      "|   15350.0|          12|             5|115.64999999999999|   115.64999999999999|\n",
      "|   15922.0|          12|            12| 363.6000000000001|    363.6000000000001|\n",
      "|   14594.0|          12|            53|            379.83|               379.83|\n",
      "|   17346.0|          12|            78|384.92999999999995|   384.92999999999995|\n",
      "|   16274.0|          12|            67|357.94999999999993|   357.94999999999993|\n",
      "|   17690.0|          12|            26| 687.9000000000002|    687.9000000000002|\n",
      "|   14142.0|          12|            22|            311.81|               311.81|\n",
      "|   14606.0|          12|           333|1581.4700000000012|   1581.4700000000012|\n",
      "+----------+------------+--------------+------------------+---------------------+\n",
      "only showing top 20 rows\n",
      "\n"
     ]
    },
    {
     "name": "stderr",
     "output_type": "stream",
     "text": [
      "                                                                                \r"
     ]
    }
   ],
   "source": [
    "# Import necessary functions\n",
    "from pyspark.sql.functions import count, mean, sum\n",
    "\n",
    "# Define a function to aggregate the data by customer ID and invoice month\n",
    "def aggregate_data_by_customer(row):\n",
    "    # Extract the customer ID and invoice month from the row\n",
    "    customerID, invoiceMonth, invoiceNo, totalCost = row[\"CustomerID\"], row[\"InvoiceMonth\"], row[\"InvoiceNo\"], row[\"TotalCost\"]\n",
    "    # Convert the total cost to a float\n",
    "    totalCost = float(totalCost)\n",
    "    # Return a tuple containing the customer ID, invoice month, and a dictionary with the aggregated values\n",
    "    return ((customerID, invoiceMonth), {\"TotalPurchases\": 1, \"TotalRevenue\": totalCost, \"AvgRevenuePerPurchase\": totalCost})\n",
    "\n",
    "# Define a function to combine the aggregated data for each customer\n",
    "def combine_customer_data(data1, data2):\n",
    "    # Combine the dictionaries for the two sets of aggregated data\n",
    "    combined_data = {k: data1.get(k, 0) + data2.get(k, 0) for k in set(data1) | set(data2)}\n",
    "    # Return the combined data\n",
    "    return combined_data\n",
    "\n",
    "# Map the data using the aggregate_data_by_customer() function\n",
    "mapped_data = df_spark_filtered.rdd.map(aggregate_data_by_customer)\n",
    "\n",
    "# Reduce the data using the combine_customer_data() function\n",
    "reduced_data = mapped_data.reduceByKey(combine_customer_data)\n",
    "\n",
    "# Convert the reduced data to a DataFrame\n",
    "df_customer = reduced_data.map(lambda x: (x[0][0], x[0][1], x[1][\"TotalPurchases\"], x[1][\"TotalRevenue\"], x[1][\"AvgRevenuePerPurchase\"])).toDF([\"CustomerID\", \"InvoiceMonth\", \"TotalPurchases\", \"TotalRevenue\", \"AvgRevenuePerPurchase\"])\n",
    "\n",
    "# show the data frame   \n",
    "df_customer.show()  "
   ]
  }
 ],
 "metadata": {
  "kernelspec": {
   "display_name": ".venv",
   "language": "python",
   "name": "python3"
  },
  "language_info": {
   "codemirror_mode": {
    "name": "ipython",
    "version": 3
   },
   "file_extension": ".py",
   "mimetype": "text/x-python",
   "name": "python",
   "nbconvert_exporter": "python",
   "pygments_lexer": "ipython3",
   "version": "3.8.10"
  },
  "orig_nbformat": 4,
  "vscode": {
   "interpreter": {
    "hash": "a99b57d65d7817e51f3ec2cbeb4ec5a05104c2ceb9ae2495c3145e7f05fb988b"
   }
  }
 },
 "nbformat": 4,
 "nbformat_minor": 2
}
